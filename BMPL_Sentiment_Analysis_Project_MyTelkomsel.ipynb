{
  "cells": [
    {
      "cell_type": "markdown",
      "metadata": {
        "id": "6pmpH9obb0NE"
      },
      "source": [
        "# **Sentimen Analisis Ulasan Aplikasi MyTelkomsel**\n",
        "\n",
        "**Latar Belakang Masalah**\n",
        "\n",
        "Belakangan ini, sorotan terhadap performa dan usabilitas aplikasi MyTelkomsel meningkat signifikan di kalangan pengguna media sosial. Berbagai keluhan mengenai kinerja yang kurang optimal dan pengalaman pengguna (usabilitas) yang kurang memuaskan menjadi topik perbincangan yang meluas. Bahkan, muncul konten khusus yang dibuat oleh pengguna untuk mendiskusikan kekurangan-kekurangan yang ada pada aplikasi ini. Fenomena ini mengindikasikan adanya potensi isu yang perlu diinvestigasi lebih lanjut dari perspektif pengguna.\n",
        "\n",
        "**Tujuan Analisis Sentimen**\n",
        "\n",
        "Proyek analisis sentimen ini bertujuan untuk secara sistematis menganalisis opini publik yang terkandung dalam ulasan pengguna aplikasi MyTelkomsel di Google Play Store. Dengan menganalisis sentimen (positif, negatif, atau netral) dari setiap ulasan, kita dapat memperoleh pemahaman yang mendalam mengenai persepsi pengguna terhadap aplikasi, mengidentifikasi area-area spesifik yang menjadi sumber ketidakpuasan, serta mengukur tingkat sentimen secara keseluruhan. Analisis ini diharapkan dapat menjawab pertanyaan-pertanyaan mendasar terkait pengalaman pengguna yang tercermin dalam keluhan-keluhan yang beredar."
      ]
    },
    {
      "cell_type": "markdown",
      "metadata": {
        "id": "jZSDSMyeAFr0"
      },
      "source": [
        "# Import Library"
      ]
    },
    {
      "cell_type": "markdown",
      "metadata": {
        "id": "-aKN7BB2Tp_l"
      },
      "source": [
        "Melakukan pemanggilan dan instalasi library yang akan digunakan dalam project. Library yang dipanggil akan digunakan untuk manipulasi data, visualisasi, serta preprocessing teks sebelum dilakukan pemodelan."
      ]
    },
    {
      "cell_type": "markdown",
      "metadata": {
        "id": "YnwQCfmQCKWA"
      },
      "source": [
        "## Manipulasi data"
      ]
    },
    {
      "cell_type": "code",
      "execution_count": 1,
      "metadata": {
        "id": "9bj9_4uLBdPe"
      },
      "outputs": [],
      "source": [
        "import pandas as pd  # Untuk analisis data\n",
        "import numpy as np  # Untuk komputasi numerik"
      ]
    },
    {
      "cell_type": "markdown",
      "metadata": {
        "id": "aURis1htCIIi"
      },
      "source": [
        "## Visualisasi"
      ]
    },
    {
      "cell_type": "code",
      "execution_count": 2,
      "metadata": {
        "id": "UpPqywVQBj7h"
      },
      "outputs": [],
      "source": [
        "import matplotlib.pyplot as plt  # Plotting dasar\n",
        "import seaborn as sns  # Visualisasi statistik"
      ]
    },
    {
      "cell_type": "markdown",
      "metadata": {
        "id": "BZj7Wsj2CFQI"
      },
      "source": [
        "## Text preprocessing"
      ]
    },
    {
      "cell_type": "code",
      "execution_count": 3,
      "metadata": {
        "id": "_q2ick6AByI6"
      },
      "outputs": [],
      "source": [
        "import re  # Ekspresi reguler\n",
        "import string  # Operasi string\n",
        "from nltk.tokenize import word_tokenize  # Memisahkan teks jadi kata\n",
        "from nltk.corpus import stopwords  # Filter kata umum"
      ]
    },
    {
      "cell_type": "code",
      "execution_count": 4,
      "metadata": {
        "colab": {
          "base_uri": "https://localhost:8080/"
        },
        "id": "PY7zz5c4B-CF",
        "outputId": "5fe65728-1ece-465c-8910-a718a8503ec4"
      },
      "outputs": [
        {
          "output_type": "stream",
          "name": "stdout",
          "text": [
            "Requirement already satisfied: sastrawi in /usr/local/lib/python3.11/dist-packages (1.0.1)\n"
          ]
        }
      ],
      "source": [
        "!pip install sastrawi #B Install library Sastrawi"
      ]
    },
    {
      "cell_type": "code",
      "execution_count": 5,
      "metadata": {
        "id": "N-gVREDij2jV"
      },
      "outputs": [],
      "source": [
        "from Sastrawi.Stemmer.StemmerFactory import StemmerFactory  # Stemming bahasa Indonesia\n",
        "from Sastrawi.StopWordRemover.StopWordRemoverFactory import StopWordRemoverFactory  # Stopword Indonesia"
      ]
    },
    {
      "cell_type": "code",
      "execution_count": 6,
      "metadata": {
        "colab": {
          "base_uri": "https://localhost:8080/"
        },
        "id": "Sjct6DIjkHhE",
        "outputId": "3dcf7255-c022-4eda-ad16-90b8cfb0a4cf"
      },
      "outputs": [
        {
          "output_type": "stream",
          "name": "stderr",
          "text": [
            "[nltk_data] Downloading package punkt to /root/nltk_data...\n",
            "[nltk_data]   Package punkt is already up-to-date!\n",
            "[nltk_data] Downloading package punkt_tab to /root/nltk_data...\n",
            "[nltk_data]   Package punkt_tab is already up-to-date!\n",
            "[nltk_data] Downloading package stopwords to /root/nltk_data...\n",
            "[nltk_data]   Package stopwords is already up-to-date!\n"
          ]
        },
        {
          "output_type": "execute_result",
          "data": {
            "text/plain": [
              "True"
            ]
          },
          "metadata": {},
          "execution_count": 6
        }
      ],
      "source": [
        "import nltk  # NLP toolkit\n",
        "nltk.download('punkt')  # Dataset tokenizer\n",
        "nltk.download('punkt_tab')  # Dataset tokenizer tambahan\n",
        "nltk.download('stopwords')  # Dataset stopwords"
      ]
    },
    {
      "cell_type": "markdown",
      "metadata": {
        "id": "RD0VH3K6hUVr"
      },
      "source": [
        "## Feature extraction"
      ]
    },
    {
      "cell_type": "code",
      "execution_count": 7,
      "metadata": {
        "colab": {
          "base_uri": "https://localhost:8080/"
        },
        "id": "CJTVvF2Qs2db",
        "outputId": "2a3b916c-00bc-478c-e893-3f2017d22367"
      },
      "outputs": [
        {
          "output_type": "stream",
          "name": "stdout",
          "text": [
            "Requirement already satisfied: gensim in /usr/local/lib/python3.11/dist-packages (4.3.3)\n",
            "Requirement already satisfied: numpy<2.0,>=1.18.5 in /usr/local/lib/python3.11/dist-packages (from gensim) (1.26.4)\n",
            "Requirement already satisfied: scipy<1.14.0,>=1.7.0 in /usr/local/lib/python3.11/dist-packages (from gensim) (1.13.1)\n",
            "Requirement already satisfied: smart-open>=1.8.1 in /usr/local/lib/python3.11/dist-packages (from gensim) (7.1.0)\n",
            "Requirement already satisfied: wrapt in /usr/local/lib/python3.11/dist-packages (from smart-open>=1.8.1->gensim) (1.17.2)\n"
          ]
        }
      ],
      "source": [
        "!pip install gensim"
      ]
    },
    {
      "cell_type": "code",
      "execution_count": 8,
      "metadata": {
        "id": "trsWEiihhRq2"
      },
      "outputs": [],
      "source": [
        "from sklearn.feature_extraction.text import TfidfVectorizer\n",
        "from gensim.models import FastText, Word2Vec\n",
        "\n",
        "from tensorflow.keras.preprocessing.text import Tokenizer\n",
        "from tensorflow.keras.preprocessing.sequence import pad_sequences"
      ]
    },
    {
      "cell_type": "markdown",
      "metadata": {
        "id": "S7YP6qU2k9Rq"
      },
      "source": [
        "## Training model"
      ]
    },
    {
      "cell_type": "code",
      "execution_count": 9,
      "metadata": {
        "id": "8K5D2uyKlePT"
      },
      "outputs": [],
      "source": [
        "from tensorflow.keras.models import Sequential\n",
        "from tensorflow.keras.layers import Dense, Dropout, LSTM, GRU, Reshape, BatchNormalization\n",
        "from tensorflow.keras.regularizers import l2\n",
        "from tensorflow.keras.callbacks import Callback\n",
        "\n",
        "from sklearn.model_selection import train_test_split\n",
        "from sklearn.metrics import classification_report"
      ]
    },
    {
      "cell_type": "markdown",
      "metadata": {
        "id": "UbSmrnDCAPc0"
      },
      "source": [
        "# Loading Dataset"
      ]
    },
    {
      "cell_type": "markdown",
      "metadata": {
        "id": "A8aN24ZnT7PT"
      },
      "source": [
        "Langkah ini akan menagmbil dataset hasil scrapping google playstore untuk aplikasi MyTelkomsel yang disimpan pada direktori github. Pada langkah ini juga dilakukan pengecekan fitur yang dimiliki dataset, penanganan data missing value dan duplikat. Dataset ini disimpan dalam pandas dataframe bernama app_reviews_df."
      ]
    },
    {
      "cell_type": "code",
      "execution_count": 10,
      "metadata": {
        "colab": {
          "base_uri": "https://localhost:8080/",
          "height": 961
        },
        "id": "NSaWHCL_fmLk",
        "outputId": "a3565213-72b4-4613-e41e-3188e59a7f6b"
      },
      "outputs": [
        {
          "output_type": "execute_result",
          "data": {
            "text/plain": [
              "                                    reviewId         userName  \\\n",
              "0       9e2ae970-a903-4808-b2b6-5406d048b114  Pengguna Google   \n",
              "1       8d3aaf85-9f0b-47d2-b5db-5712d5d231ce  Pengguna Google   \n",
              "2       2be72603-8f76-4400-8ef3-74e280d6ef87  Pengguna Google   \n",
              "3       1a563fa6-57fc-4cfc-8340-ca6432f03e79  Pengguna Google   \n",
              "4       a8a66172-c8e3-4b94-9000-cfce8f4f4984  Pengguna Google   \n",
              "...                                      ...              ...   \n",
              "134995  12334b5f-7d4a-4d94-b04d-98f93166466a  Pengguna Google   \n",
              "134996  a0bb72b8-0659-4a77-9637-c3318c5d8fe9  Pengguna Google   \n",
              "134997  9d9db87b-a0f0-4956-9d66-a80eb11db472  Pengguna Google   \n",
              "134998  2f627e78-c956-4ee5-a4a4-69a7805ab923  Pengguna Google   \n",
              "134999  01b96d30-b78d-481d-8e06-5266863f41cd  Pengguna Google   \n",
              "\n",
              "                                                userImage  \\\n",
              "0       https://play-lh.googleusercontent.com/EGemoI2N...   \n",
              "1       https://play-lh.googleusercontent.com/EGemoI2N...   \n",
              "2       https://play-lh.googleusercontent.com/EGemoI2N...   \n",
              "3       https://play-lh.googleusercontent.com/EGemoI2N...   \n",
              "4       https://play-lh.googleusercontent.com/EGemoI2N...   \n",
              "...                                                   ...   \n",
              "134995  https://play-lh.googleusercontent.com/EGemoI2N...   \n",
              "134996  https://play-lh.googleusercontent.com/EGemoI2N...   \n",
              "134997  https://play-lh.googleusercontent.com/EGemoI2N...   \n",
              "134998  https://play-lh.googleusercontent.com/EGemoI2N...   \n",
              "134999  https://play-lh.googleusercontent.com/EGemoI2N...   \n",
              "\n",
              "                                                  content  score  \\\n",
              "0       Dari sekian banyak Aplikasi, Cuma MYTelkomsel ...      1   \n",
              "1       Nggak tau knpa makin kesini telkomsel makin je...      1   \n",
              "2       saya berlangganan Telkomsel sudah sejak lama, ...      1   \n",
              "3       Bintang 1 cocok kali yah, pengguna Tsel puluha...      1   \n",
              "4       mohon di pertimbangkan untuk menghilangkan fit...      1   \n",
              "...                                                   ...    ...   \n",
              "134995  Setelah di update malah tampilannya jadi kuran...      1   \n",
              "134996  kuota nya pada mahal Sinyal Lemot ga guna. seg...      1   \n",
              "134997  Aplikasi jgn keseringan maksa minta update ,, ...      1   \n",
              "134998  Lebih nyaman dan mudah pemakaian tampilan lama...      2   \n",
              "134999  Sejauh ini jaringan my telkomsel yang selalu s...      5   \n",
              "\n",
              "        thumbsUpCount reviewCreatedVersion                   at  \\\n",
              "0                  68                8.7.0  2025-04-23 08:32:47   \n",
              "1                 837                8.7.0  2025-04-21 16:43:31   \n",
              "2                2837                8.7.0  2025-04-13 06:48:42   \n",
              "3                 728                8.7.0  2025-04-19 02:19:32   \n",
              "4                 884                8.7.0  2025-04-13 04:22:11   \n",
              "...               ...                  ...                  ...   \n",
              "134995              0                8.0.1  2024-05-29 00:11:21   \n",
              "134996              0                  NaN  2019-08-31 04:38:59   \n",
              "134997              0               6.12.2  2022-08-26 09:32:46   \n",
              "134998              0                8.0.1  2024-05-24 11:29:46   \n",
              "134999              1                5.8.0  2021-01-29 13:00:25   \n",
              "\n",
              "                                             replyContent  \\\n",
              "0                                                     NaN   \n",
              "1       Hai Kak Andika, silakan akses aplikasi MyTelko...   \n",
              "2                                                     NaN   \n",
              "3                                                     NaN   \n",
              "4                                                     NaN   \n",
              "...                                                   ...   \n",
              "134995  Maaf ya, Kak Ponamon. Terkait kendala aplikasi...   \n",
              "134996                                                NaN   \n",
              "134997                                                NaN   \n",
              "134998  Maaf ya, Kak Nadyra. Apakah kendala yang dimak...   \n",
              "134999                                                NaN   \n",
              "\n",
              "                  repliedAt appVersion  \n",
              "0                       NaN      8.7.0  \n",
              "1       2025-04-22 06:43:06      8.7.0  \n",
              "2                       NaN      8.7.0  \n",
              "3                       NaN      8.7.0  \n",
              "4                       NaN      8.7.0  \n",
              "...                     ...        ...  \n",
              "134995  2024-05-29 05:15:29      8.0.1  \n",
              "134996                  NaN        NaN  \n",
              "134997                  NaN     6.12.2  \n",
              "134998  2022-03-21 09:00:08      8.0.1  \n",
              "134999                  NaN      5.8.0  \n",
              "\n",
              "[135000 rows x 11 columns]"
            ],
            "text/html": [
              "\n",
              "  <div id=\"df-0cfd6512-45b0-4ea6-a339-b008bbfcd573\" class=\"colab-df-container\">\n",
              "    <div>\n",
              "<style scoped>\n",
              "    .dataframe tbody tr th:only-of-type {\n",
              "        vertical-align: middle;\n",
              "    }\n",
              "\n",
              "    .dataframe tbody tr th {\n",
              "        vertical-align: top;\n",
              "    }\n",
              "\n",
              "    .dataframe thead th {\n",
              "        text-align: right;\n",
              "    }\n",
              "</style>\n",
              "<table border=\"1\" class=\"dataframe\">\n",
              "  <thead>\n",
              "    <tr style=\"text-align: right;\">\n",
              "      <th></th>\n",
              "      <th>reviewId</th>\n",
              "      <th>userName</th>\n",
              "      <th>userImage</th>\n",
              "      <th>content</th>\n",
              "      <th>score</th>\n",
              "      <th>thumbsUpCount</th>\n",
              "      <th>reviewCreatedVersion</th>\n",
              "      <th>at</th>\n",
              "      <th>replyContent</th>\n",
              "      <th>repliedAt</th>\n",
              "      <th>appVersion</th>\n",
              "    </tr>\n",
              "  </thead>\n",
              "  <tbody>\n",
              "    <tr>\n",
              "      <th>0</th>\n",
              "      <td>9e2ae970-a903-4808-b2b6-5406d048b114</td>\n",
              "      <td>Pengguna Google</td>\n",
              "      <td>https://play-lh.googleusercontent.com/EGemoI2N...</td>\n",
              "      <td>Dari sekian banyak Aplikasi, Cuma MYTelkomsel ...</td>\n",
              "      <td>1</td>\n",
              "      <td>68</td>\n",
              "      <td>8.7.0</td>\n",
              "      <td>2025-04-23 08:32:47</td>\n",
              "      <td>NaN</td>\n",
              "      <td>NaN</td>\n",
              "      <td>8.7.0</td>\n",
              "    </tr>\n",
              "    <tr>\n",
              "      <th>1</th>\n",
              "      <td>8d3aaf85-9f0b-47d2-b5db-5712d5d231ce</td>\n",
              "      <td>Pengguna Google</td>\n",
              "      <td>https://play-lh.googleusercontent.com/EGemoI2N...</td>\n",
              "      <td>Nggak tau knpa makin kesini telkomsel makin je...</td>\n",
              "      <td>1</td>\n",
              "      <td>837</td>\n",
              "      <td>8.7.0</td>\n",
              "      <td>2025-04-21 16:43:31</td>\n",
              "      <td>Hai Kak Andika, silakan akses aplikasi MyTelko...</td>\n",
              "      <td>2025-04-22 06:43:06</td>\n",
              "      <td>8.7.0</td>\n",
              "    </tr>\n",
              "    <tr>\n",
              "      <th>2</th>\n",
              "      <td>2be72603-8f76-4400-8ef3-74e280d6ef87</td>\n",
              "      <td>Pengguna Google</td>\n",
              "      <td>https://play-lh.googleusercontent.com/EGemoI2N...</td>\n",
              "      <td>saya berlangganan Telkomsel sudah sejak lama, ...</td>\n",
              "      <td>1</td>\n",
              "      <td>2837</td>\n",
              "      <td>8.7.0</td>\n",
              "      <td>2025-04-13 06:48:42</td>\n",
              "      <td>NaN</td>\n",
              "      <td>NaN</td>\n",
              "      <td>8.7.0</td>\n",
              "    </tr>\n",
              "    <tr>\n",
              "      <th>3</th>\n",
              "      <td>1a563fa6-57fc-4cfc-8340-ca6432f03e79</td>\n",
              "      <td>Pengguna Google</td>\n",
              "      <td>https://play-lh.googleusercontent.com/EGemoI2N...</td>\n",
              "      <td>Bintang 1 cocok kali yah, pengguna Tsel puluha...</td>\n",
              "      <td>1</td>\n",
              "      <td>728</td>\n",
              "      <td>8.7.0</td>\n",
              "      <td>2025-04-19 02:19:32</td>\n",
              "      <td>NaN</td>\n",
              "      <td>NaN</td>\n",
              "      <td>8.7.0</td>\n",
              "    </tr>\n",
              "    <tr>\n",
              "      <th>4</th>\n",
              "      <td>a8a66172-c8e3-4b94-9000-cfce8f4f4984</td>\n",
              "      <td>Pengguna Google</td>\n",
              "      <td>https://play-lh.googleusercontent.com/EGemoI2N...</td>\n",
              "      <td>mohon di pertimbangkan untuk menghilangkan fit...</td>\n",
              "      <td>1</td>\n",
              "      <td>884</td>\n",
              "      <td>8.7.0</td>\n",
              "      <td>2025-04-13 04:22:11</td>\n",
              "      <td>NaN</td>\n",
              "      <td>NaN</td>\n",
              "      <td>8.7.0</td>\n",
              "    </tr>\n",
              "    <tr>\n",
              "      <th>...</th>\n",
              "      <td>...</td>\n",
              "      <td>...</td>\n",
              "      <td>...</td>\n",
              "      <td>...</td>\n",
              "      <td>...</td>\n",
              "      <td>...</td>\n",
              "      <td>...</td>\n",
              "      <td>...</td>\n",
              "      <td>...</td>\n",
              "      <td>...</td>\n",
              "      <td>...</td>\n",
              "    </tr>\n",
              "    <tr>\n",
              "      <th>134995</th>\n",
              "      <td>12334b5f-7d4a-4d94-b04d-98f93166466a</td>\n",
              "      <td>Pengguna Google</td>\n",
              "      <td>https://play-lh.googleusercontent.com/EGemoI2N...</td>\n",
              "      <td>Setelah di update malah tampilannya jadi kuran...</td>\n",
              "      <td>1</td>\n",
              "      <td>0</td>\n",
              "      <td>8.0.1</td>\n",
              "      <td>2024-05-29 00:11:21</td>\n",
              "      <td>Maaf ya, Kak Ponamon. Terkait kendala aplikasi...</td>\n",
              "      <td>2024-05-29 05:15:29</td>\n",
              "      <td>8.0.1</td>\n",
              "    </tr>\n",
              "    <tr>\n",
              "      <th>134996</th>\n",
              "      <td>a0bb72b8-0659-4a77-9637-c3318c5d8fe9</td>\n",
              "      <td>Pengguna Google</td>\n",
              "      <td>https://play-lh.googleusercontent.com/EGemoI2N...</td>\n",
              "      <td>kuota nya pada mahal Sinyal Lemot ga guna. seg...</td>\n",
              "      <td>1</td>\n",
              "      <td>0</td>\n",
              "      <td>NaN</td>\n",
              "      <td>2019-08-31 04:38:59</td>\n",
              "      <td>NaN</td>\n",
              "      <td>NaN</td>\n",
              "      <td>NaN</td>\n",
              "    </tr>\n",
              "    <tr>\n",
              "      <th>134997</th>\n",
              "      <td>9d9db87b-a0f0-4956-9d66-a80eb11db472</td>\n",
              "      <td>Pengguna Google</td>\n",
              "      <td>https://play-lh.googleusercontent.com/EGemoI2N...</td>\n",
              "      <td>Aplikasi jgn keseringan maksa minta update ,, ...</td>\n",
              "      <td>1</td>\n",
              "      <td>0</td>\n",
              "      <td>6.12.2</td>\n",
              "      <td>2022-08-26 09:32:46</td>\n",
              "      <td>NaN</td>\n",
              "      <td>NaN</td>\n",
              "      <td>6.12.2</td>\n",
              "    </tr>\n",
              "    <tr>\n",
              "      <th>134998</th>\n",
              "      <td>2f627e78-c956-4ee5-a4a4-69a7805ab923</td>\n",
              "      <td>Pengguna Google</td>\n",
              "      <td>https://play-lh.googleusercontent.com/EGemoI2N...</td>\n",
              "      <td>Lebih nyaman dan mudah pemakaian tampilan lama...</td>\n",
              "      <td>2</td>\n",
              "      <td>0</td>\n",
              "      <td>8.0.1</td>\n",
              "      <td>2024-05-24 11:29:46</td>\n",
              "      <td>Maaf ya, Kak Nadyra. Apakah kendala yang dimak...</td>\n",
              "      <td>2022-03-21 09:00:08</td>\n",
              "      <td>8.0.1</td>\n",
              "    </tr>\n",
              "    <tr>\n",
              "      <th>134999</th>\n",
              "      <td>01b96d30-b78d-481d-8e06-5266863f41cd</td>\n",
              "      <td>Pengguna Google</td>\n",
              "      <td>https://play-lh.googleusercontent.com/EGemoI2N...</td>\n",
              "      <td>Sejauh ini jaringan my telkomsel yang selalu s...</td>\n",
              "      <td>5</td>\n",
              "      <td>1</td>\n",
              "      <td>5.8.0</td>\n",
              "      <td>2021-01-29 13:00:25</td>\n",
              "      <td>NaN</td>\n",
              "      <td>NaN</td>\n",
              "      <td>5.8.0</td>\n",
              "    </tr>\n",
              "  </tbody>\n",
              "</table>\n",
              "<p>135000 rows × 11 columns</p>\n",
              "</div>\n",
              "    <div class=\"colab-df-buttons\">\n",
              "\n",
              "  <div class=\"colab-df-container\">\n",
              "    <button class=\"colab-df-convert\" onclick=\"convertToInteractive('df-0cfd6512-45b0-4ea6-a339-b008bbfcd573')\"\n",
              "            title=\"Convert this dataframe to an interactive table.\"\n",
              "            style=\"display:none;\">\n",
              "\n",
              "  <svg xmlns=\"http://www.w3.org/2000/svg\" height=\"24px\" viewBox=\"0 -960 960 960\">\n",
              "    <path d=\"M120-120v-720h720v720H120Zm60-500h600v-160H180v160Zm220 220h160v-160H400v160Zm0 220h160v-160H400v160ZM180-400h160v-160H180v160Zm440 0h160v-160H620v160ZM180-180h160v-160H180v160Zm440 0h160v-160H620v160Z\"/>\n",
              "  </svg>\n",
              "    </button>\n",
              "\n",
              "  <style>\n",
              "    .colab-df-container {\n",
              "      display:flex;\n",
              "      gap: 12px;\n",
              "    }\n",
              "\n",
              "    .colab-df-convert {\n",
              "      background-color: #E8F0FE;\n",
              "      border: none;\n",
              "      border-radius: 50%;\n",
              "      cursor: pointer;\n",
              "      display: none;\n",
              "      fill: #1967D2;\n",
              "      height: 32px;\n",
              "      padding: 0 0 0 0;\n",
              "      width: 32px;\n",
              "    }\n",
              "\n",
              "    .colab-df-convert:hover {\n",
              "      background-color: #E2EBFA;\n",
              "      box-shadow: 0px 1px 2px rgba(60, 64, 67, 0.3), 0px 1px 3px 1px rgba(60, 64, 67, 0.15);\n",
              "      fill: #174EA6;\n",
              "    }\n",
              "\n",
              "    .colab-df-buttons div {\n",
              "      margin-bottom: 4px;\n",
              "    }\n",
              "\n",
              "    [theme=dark] .colab-df-convert {\n",
              "      background-color: #3B4455;\n",
              "      fill: #D2E3FC;\n",
              "    }\n",
              "\n",
              "    [theme=dark] .colab-df-convert:hover {\n",
              "      background-color: #434B5C;\n",
              "      box-shadow: 0px 1px 3px 1px rgba(0, 0, 0, 0.15);\n",
              "      filter: drop-shadow(0px 1px 2px rgba(0, 0, 0, 0.3));\n",
              "      fill: #FFFFFF;\n",
              "    }\n",
              "  </style>\n",
              "\n",
              "    <script>\n",
              "      const buttonEl =\n",
              "        document.querySelector('#df-0cfd6512-45b0-4ea6-a339-b008bbfcd573 button.colab-df-convert');\n",
              "      buttonEl.style.display =\n",
              "        google.colab.kernel.accessAllowed ? 'block' : 'none';\n",
              "\n",
              "      async function convertToInteractive(key) {\n",
              "        const element = document.querySelector('#df-0cfd6512-45b0-4ea6-a339-b008bbfcd573');\n",
              "        const dataTable =\n",
              "          await google.colab.kernel.invokeFunction('convertToInteractive',\n",
              "                                                    [key], {});\n",
              "        if (!dataTable) return;\n",
              "\n",
              "        const docLinkHtml = 'Like what you see? Visit the ' +\n",
              "          '<a target=\"_blank\" href=https://colab.research.google.com/notebooks/data_table.ipynb>data table notebook</a>'\n",
              "          + ' to learn more about interactive tables.';\n",
              "        element.innerHTML = '';\n",
              "        dataTable['output_type'] = 'display_data';\n",
              "        await google.colab.output.renderOutput(dataTable, element);\n",
              "        const docLink = document.createElement('div');\n",
              "        docLink.innerHTML = docLinkHtml;\n",
              "        element.appendChild(docLink);\n",
              "      }\n",
              "    </script>\n",
              "  </div>\n",
              "\n",
              "\n",
              "    <div id=\"df-a0d44f8b-37ad-4492-b883-519e5305e677\">\n",
              "      <button class=\"colab-df-quickchart\" onclick=\"quickchart('df-a0d44f8b-37ad-4492-b883-519e5305e677')\"\n",
              "                title=\"Suggest charts\"\n",
              "                style=\"display:none;\">\n",
              "\n",
              "<svg xmlns=\"http://www.w3.org/2000/svg\" height=\"24px\"viewBox=\"0 0 24 24\"\n",
              "     width=\"24px\">\n",
              "    <g>\n",
              "        <path d=\"M19 3H5c-1.1 0-2 .9-2 2v14c0 1.1.9 2 2 2h14c1.1 0 2-.9 2-2V5c0-1.1-.9-2-2-2zM9 17H7v-7h2v7zm4 0h-2V7h2v10zm4 0h-2v-4h2v4z\"/>\n",
              "    </g>\n",
              "</svg>\n",
              "      </button>\n",
              "\n",
              "<style>\n",
              "  .colab-df-quickchart {\n",
              "      --bg-color: #E8F0FE;\n",
              "      --fill-color: #1967D2;\n",
              "      --hover-bg-color: #E2EBFA;\n",
              "      --hover-fill-color: #174EA6;\n",
              "      --disabled-fill-color: #AAA;\n",
              "      --disabled-bg-color: #DDD;\n",
              "  }\n",
              "\n",
              "  [theme=dark] .colab-df-quickchart {\n",
              "      --bg-color: #3B4455;\n",
              "      --fill-color: #D2E3FC;\n",
              "      --hover-bg-color: #434B5C;\n",
              "      --hover-fill-color: #FFFFFF;\n",
              "      --disabled-bg-color: #3B4455;\n",
              "      --disabled-fill-color: #666;\n",
              "  }\n",
              "\n",
              "  .colab-df-quickchart {\n",
              "    background-color: var(--bg-color);\n",
              "    border: none;\n",
              "    border-radius: 50%;\n",
              "    cursor: pointer;\n",
              "    display: none;\n",
              "    fill: var(--fill-color);\n",
              "    height: 32px;\n",
              "    padding: 0;\n",
              "    width: 32px;\n",
              "  }\n",
              "\n",
              "  .colab-df-quickchart:hover {\n",
              "    background-color: var(--hover-bg-color);\n",
              "    box-shadow: 0 1px 2px rgba(60, 64, 67, 0.3), 0 1px 3px 1px rgba(60, 64, 67, 0.15);\n",
              "    fill: var(--button-hover-fill-color);\n",
              "  }\n",
              "\n",
              "  .colab-df-quickchart-complete:disabled,\n",
              "  .colab-df-quickchart-complete:disabled:hover {\n",
              "    background-color: var(--disabled-bg-color);\n",
              "    fill: var(--disabled-fill-color);\n",
              "    box-shadow: none;\n",
              "  }\n",
              "\n",
              "  .colab-df-spinner {\n",
              "    border: 2px solid var(--fill-color);\n",
              "    border-color: transparent;\n",
              "    border-bottom-color: var(--fill-color);\n",
              "    animation:\n",
              "      spin 1s steps(1) infinite;\n",
              "  }\n",
              "\n",
              "  @keyframes spin {\n",
              "    0% {\n",
              "      border-color: transparent;\n",
              "      border-bottom-color: var(--fill-color);\n",
              "      border-left-color: var(--fill-color);\n",
              "    }\n",
              "    20% {\n",
              "      border-color: transparent;\n",
              "      border-left-color: var(--fill-color);\n",
              "      border-top-color: var(--fill-color);\n",
              "    }\n",
              "    30% {\n",
              "      border-color: transparent;\n",
              "      border-left-color: var(--fill-color);\n",
              "      border-top-color: var(--fill-color);\n",
              "      border-right-color: var(--fill-color);\n",
              "    }\n",
              "    40% {\n",
              "      border-color: transparent;\n",
              "      border-right-color: var(--fill-color);\n",
              "      border-top-color: var(--fill-color);\n",
              "    }\n",
              "    60% {\n",
              "      border-color: transparent;\n",
              "      border-right-color: var(--fill-color);\n",
              "    }\n",
              "    80% {\n",
              "      border-color: transparent;\n",
              "      border-right-color: var(--fill-color);\n",
              "      border-bottom-color: var(--fill-color);\n",
              "    }\n",
              "    90% {\n",
              "      border-color: transparent;\n",
              "      border-bottom-color: var(--fill-color);\n",
              "    }\n",
              "  }\n",
              "</style>\n",
              "\n",
              "      <script>\n",
              "        async function quickchart(key) {\n",
              "          const quickchartButtonEl =\n",
              "            document.querySelector('#' + key + ' button');\n",
              "          quickchartButtonEl.disabled = true;  // To prevent multiple clicks.\n",
              "          quickchartButtonEl.classList.add('colab-df-spinner');\n",
              "          try {\n",
              "            const charts = await google.colab.kernel.invokeFunction(\n",
              "                'suggestCharts', [key], {});\n",
              "          } catch (error) {\n",
              "            console.error('Error during call to suggestCharts:', error);\n",
              "          }\n",
              "          quickchartButtonEl.classList.remove('colab-df-spinner');\n",
              "          quickchartButtonEl.classList.add('colab-df-quickchart-complete');\n",
              "        }\n",
              "        (() => {\n",
              "          let quickchartButtonEl =\n",
              "            document.querySelector('#df-a0d44f8b-37ad-4492-b883-519e5305e677 button');\n",
              "          quickchartButtonEl.style.display =\n",
              "            google.colab.kernel.accessAllowed ? 'block' : 'none';\n",
              "        })();\n",
              "      </script>\n",
              "    </div>\n",
              "\n",
              "  <div id=\"id_f3a856cd-d0f3-4a51-a776-755ddb6685b8\">\n",
              "    <style>\n",
              "      .colab-df-generate {\n",
              "        background-color: #E8F0FE;\n",
              "        border: none;\n",
              "        border-radius: 50%;\n",
              "        cursor: pointer;\n",
              "        display: none;\n",
              "        fill: #1967D2;\n",
              "        height: 32px;\n",
              "        padding: 0 0 0 0;\n",
              "        width: 32px;\n",
              "      }\n",
              "\n",
              "      .colab-df-generate:hover {\n",
              "        background-color: #E2EBFA;\n",
              "        box-shadow: 0px 1px 2px rgba(60, 64, 67, 0.3), 0px 1px 3px 1px rgba(60, 64, 67, 0.15);\n",
              "        fill: #174EA6;\n",
              "      }\n",
              "\n",
              "      [theme=dark] .colab-df-generate {\n",
              "        background-color: #3B4455;\n",
              "        fill: #D2E3FC;\n",
              "      }\n",
              "\n",
              "      [theme=dark] .colab-df-generate:hover {\n",
              "        background-color: #434B5C;\n",
              "        box-shadow: 0px 1px 3px 1px rgba(0, 0, 0, 0.15);\n",
              "        filter: drop-shadow(0px 1px 2px rgba(0, 0, 0, 0.3));\n",
              "        fill: #FFFFFF;\n",
              "      }\n",
              "    </style>\n",
              "    <button class=\"colab-df-generate\" onclick=\"generateWithVariable('app_reviews_df')\"\n",
              "            title=\"Generate code using this dataframe.\"\n",
              "            style=\"display:none;\">\n",
              "\n",
              "  <svg xmlns=\"http://www.w3.org/2000/svg\" height=\"24px\"viewBox=\"0 0 24 24\"\n",
              "       width=\"24px\">\n",
              "    <path d=\"M7,19H8.4L18.45,9,17,7.55,7,17.6ZM5,21V16.75L18.45,3.32a2,2,0,0,1,2.83,0l1.4,1.43a1.91,1.91,0,0,1,.58,1.4,1.91,1.91,0,0,1-.58,1.4L9.25,21ZM18.45,9,17,7.55Zm-12,3A5.31,5.31,0,0,0,4.9,8.1,5.31,5.31,0,0,0,1,6.5,5.31,5.31,0,0,0,4.9,4.9,5.31,5.31,0,0,0,6.5,1,5.31,5.31,0,0,0,8.1,4.9,5.31,5.31,0,0,0,12,6.5,5.46,5.46,0,0,0,6.5,12Z\"/>\n",
              "  </svg>\n",
              "    </button>\n",
              "    <script>\n",
              "      (() => {\n",
              "      const buttonEl =\n",
              "        document.querySelector('#id_f3a856cd-d0f3-4a51-a776-755ddb6685b8 button.colab-df-generate');\n",
              "      buttonEl.style.display =\n",
              "        google.colab.kernel.accessAllowed ? 'block' : 'none';\n",
              "\n",
              "      buttonEl.onclick = () => {\n",
              "        google.colab.notebook.generateWithVariable('app_reviews_df');\n",
              "      }\n",
              "      })();\n",
              "    </script>\n",
              "  </div>\n",
              "\n",
              "    </div>\n",
              "  </div>\n"
            ],
            "application/vnd.google.colaboratory.intrinsic+json": {
              "type": "dataframe",
              "variable_name": "app_reviews_df"
            }
          },
          "metadata": {},
          "execution_count": 10
        }
      ],
      "source": [
        "app_reviews_df = pd.read_csv('https://raw.githubusercontent.com/syafiqirz/Analisis-Sentimen-Ulasan-Aplikasi-MyTelkomsel/refs/heads/main/review_mytelkomsel.csv')\n",
        "app_reviews_df"
      ]
    },
    {
      "cell_type": "code",
      "execution_count": 11,
      "metadata": {
        "colab": {
          "base_uri": "https://localhost:8080/"
        },
        "id": "NBaa2PEyRGsX",
        "outputId": "3f9e1191-dda7-406b-a262-cec63739a853"
      },
      "outputs": [
        {
          "output_type": "stream",
          "name": "stdout",
          "text": [
            "<class 'pandas.core.frame.DataFrame'>\n",
            "RangeIndex: 135000 entries, 0 to 134999\n",
            "Data columns (total 11 columns):\n",
            " #   Column                Non-Null Count   Dtype \n",
            "---  ------                --------------   ----- \n",
            " 0   reviewId              135000 non-null  object\n",
            " 1   userName              135000 non-null  object\n",
            " 2   userImage             135000 non-null  object\n",
            " 3   content               135000 non-null  object\n",
            " 4   score                 135000 non-null  int64 \n",
            " 5   thumbsUpCount         135000 non-null  int64 \n",
            " 6   reviewCreatedVersion  109622 non-null  object\n",
            " 7   at                    135000 non-null  object\n",
            " 8   replyContent          68277 non-null   object\n",
            " 9   repliedAt             68277 non-null   object\n",
            " 10  appVersion            109622 non-null  object\n",
            "dtypes: int64(2), object(9)\n",
            "memory usage: 11.3+ MB\n"
          ]
        }
      ],
      "source": [
        "# Menampilkan info struktur data (kolom, tipe data, nilai non-null, dll)\n",
        "app_reviews_df.info()"
      ]
    },
    {
      "cell_type": "code",
      "execution_count": 12,
      "metadata": {
        "id": "K1O6pOHwZ2gR"
      },
      "outputs": [],
      "source": [
        "# Menghapus baris yang mengandung nilai NaN dan baris yang duplikat\n",
        "app_reviews_df = app_reviews_df.dropna()\n",
        "app_reviews_df = app_reviews_df.drop_duplicates()"
      ]
    },
    {
      "cell_type": "code",
      "execution_count": 13,
      "metadata": {
        "colab": {
          "base_uri": "https://localhost:8080/"
        },
        "id": "xQydMYNNgzWX",
        "outputId": "e01bd913-cb8b-4e03-9fd8-7b3ee0385674"
      },
      "outputs": [
        {
          "output_type": "stream",
          "name": "stdout",
          "text": [
            "<class 'pandas.core.frame.DataFrame'>\n",
            "Index: 55101 entries, 1 to 134998\n",
            "Data columns (total 11 columns):\n",
            " #   Column                Non-Null Count  Dtype \n",
            "---  ------                --------------  ----- \n",
            " 0   reviewId              55101 non-null  object\n",
            " 1   userName              55101 non-null  object\n",
            " 2   userImage             55101 non-null  object\n",
            " 3   content               55101 non-null  object\n",
            " 4   score                 55101 non-null  int64 \n",
            " 5   thumbsUpCount         55101 non-null  int64 \n",
            " 6   reviewCreatedVersion  55101 non-null  object\n",
            " 7   at                    55101 non-null  object\n",
            " 8   replyContent          55101 non-null  object\n",
            " 9   repliedAt             55101 non-null  object\n",
            " 10  appVersion            55101 non-null  object\n",
            "dtypes: int64(2), object(9)\n",
            "memory usage: 5.0+ MB\n"
          ]
        }
      ],
      "source": [
        "app_reviews_df.info()"
      ]
    },
    {
      "cell_type": "markdown",
      "metadata": {
        "id": "OyzhtS7Mh1FQ"
      },
      "source": [
        "# Text Preprocessing"
      ]
    },
    {
      "cell_type": "markdown",
      "metadata": {
        "id": "ytXe1psLX7gY"
      },
      "source": [
        "## Fungsi"
      ]
    },
    {
      "cell_type": "code",
      "execution_count": 14,
      "metadata": {
        "id": "5TfMHgU-eNA2"
      },
      "outputs": [],
      "source": [
        "# Fungsi untuk membersihkan teks dari berbagai noise dan karakter tidak penting\n",
        "def cleaningText(text):\n",
        "    text = re.sub(r'@[A-Za-z0-9]+', '', text)  # Hapus mention\n",
        "    text = re.sub(r'#[A-Za-z0-9]+', '', text)  # Hapus hashtag\n",
        "    text = re.sub(r'RT[\\s]', '', text)  # Hapus RT\n",
        "    text = re.sub(r\"http\\S+\", '', text)  # Hapus URL\n",
        "    text = re.sub(r'[0-9]+', '', text)  # Hapus angka\n",
        "    text = re.sub(r'[^\\w\\s]', '', text)  # Hapus karakter khusus\n",
        "\n",
        "    text = text.replace('\\n', ' ')  # Ganti newline dengan spasi\n",
        "    text = text.translate(str.maketrans('', '', string.punctuation))  # Hapus tanda baca\n",
        "    text = text.strip(' ')  # Hapus spasi di awal/akhir\n",
        "    return text"
      ]
    },
    {
      "cell_type": "code",
      "execution_count": 15,
      "metadata": {
        "id": "H9HBzdkGepmw"
      },
      "outputs": [],
      "source": [
        "# Fungsi untuk menghapus semua tanda baca dari teks\n",
        "def remove_punctuation(text):\n",
        "    punctuation_set = set(string.punctuation)  # Set berisi semua karakter tanda baca\n",
        "\n",
        "    text = ''.join(char for char in text if char not in punctuation_set)  # Hapus karakter yang termasuk tanda baca\n",
        "\n",
        "    return text"
      ]
    },
    {
      "cell_type": "code",
      "execution_count": 16,
      "metadata": {
        "id": "nuro-utvZGmV"
      },
      "outputs": [],
      "source": [
        "# Fungsi untuk mengubah teks menjadi lowercase\n",
        "def casefoldingText(text):\n",
        "    text = text.lower()\n",
        "    return text"
      ]
    },
    {
      "cell_type": "code",
      "execution_count": 17,
      "metadata": {
        "id": "jA5BnScynn2h"
      },
      "outputs": [],
      "source": [
        "# Kamus konversi kata slang ke bahasa formal\n",
        "slangwords = {\"@\": \"di\", \"abis\": \"habis\", \"wtb\": \"beli\", \"masi\": \"masih\", \"wts\": \"jual\", \"wtt\": \"tukar\", \"bgt\": \"banget\", \"maks\": \"maksimal\", \"plisss\": \"tolong\", \"bgttt\": \"banget\", \"indo\": \"indonesia\", \"bgtt\": \"banget\", \"ad\": \"ada\", \"rv\": \"redvelvet\", \"plis\": \"tolong\", \"pls\": \"tolong\", \"cr\": \"sumber\", \"cod\": \"bayar ditempat\", \"adlh\": \"adalah\", \"afaik\": \"as far as i know\", \"ahaha\": \"haha\", \"aj\": \"saja\", \"ajep-ajep\": \"dunia gemerlap\", \"ak\": \"saya\", \"akika\": \"aku\", \"akkoh\": \"aku\", \"akuwh\": \"aku\", \"alay\": \"norak\", \"alow\": \"halo\", \"ambilin\": \"ambilkan\", \"ancur\": \"hancur\", \"anjrit\": \"anjing\", \"anter\": \"antar\", \"ap2\": \"apa-apa\", \"apasih\": \"apa sih\", \"apes\": \"sial\", \"aps\": \"apa\", \"aq\": \"saya\", \"aquwh\": \"aku\", \"asbun\": \"asal bunyi\", \"aseekk\": \"asyik\", \"asekk\": \"asyik\", \"asem\": \"asam\", \"aspal\": \"asli tetapi palsu\", \"astul\": \"asal tulis\", \"ato\": \"atau\", \"au ah\": \"tidak mau tahu\", \"awak\": \"saya\", \"ay\": \"sayang\", \"ayank\": \"sayang\", \"b4\": \"sebelum\", \"bakalan\": \"akan\", \"bandes\": \"bantuan desa\", \"bangedh\": \"banget\", \"banpol\": \"bantuan polisi\", \"banpur\": \"bantuan tempur\", \"basbang\": \"basi\", \"bcanda\": \"bercanda\", \"bdg\": \"bandung\", \"begajulan\": \"nakal\", \"beliin\": \"belikan\", \"bencong\": \"banci\", \"bentar\": \"sebentar\", \"ber3\": \"bertiga\", \"beresin\": \"membereskan\", \"bete\": \"bosan\", \"beud\": \"banget\", \"bg\": \"abang\", \"bgmn\": \"bagaimana\", \"bgt\": \"banget\", \"bijimane\": \"bagaimana\", \"bintal\": \"bimbingan mental\", \"bkl\": \"akan\", \"bknnya\": \"bukannya\", \"blegug\": \"bodoh\", \"blh\": \"boleh\", \"bln\": \"bulan\", \"blum\": \"belum\", \"bnci\": \"benci\", \"bnran\": \"yang benar\", \"bodor\": \"lucu\", \"bokap\": \"ayah\", \"boker\": \"buang air besar\", \"bokis\": \"bohong\", \"boljug\": \"boleh juga\", \"bonek\": \"bocah nekat\", \"boyeh\": \"boleh\", \"br\": \"baru\", \"brg\": \"bareng\", \"bro\": \"saudara laki-laki\", \"bru\": \"baru\", \"bs\": \"bisa\", \"bsen\": \"bosan\", \"bt\": \"buat\", \"btw\": \"ngomong-ngomong\", \"buaya\": \"tidak setia\", \"bubbu\": \"tidur\", \"bubu\": \"tidur\", \"bumil\": \"ibu hamil\", \"bw\": \"bawa\", \"bwt\": \"buat\", \"byk\": \"banyak\", \"byrin\": \"bayarkan\", \"cabal\": \"sabar\", \"cadas\": \"keren\", \"calo\": \"makelar\", \"can\": \"belum\", \"capcus\": \"pergi\", \"caper\": \"cari perhatian\", \"ce\": \"cewek\", \"cekal\": \"cegah tangkal\", \"cemen\": \"penakut\", \"cengengesan\": \"tertawa\", \"cepet\": \"cepat\", \"cew\": \"cewek\", \"chuyunk\": \"sayang\", \"cimeng\": \"ganja\", \"cipika cipiki\": \"cium pipi kanan cium pipi kiri\", \"ciyh\": \"sih\", \"ckepp\": \"cakep\", \"ckp\": \"cakep\", \"cmiiw\": \"correct me if i'm wrong\", \"cmpur\": \"campur\", \"cong\": \"banci\", \"conlok\": \"cinta lokasi\", \"cowwyy\": \"maaf\", \"cp\": \"siapa\", \"cpe\": \"capek\", \"cppe\": \"capek\", \"cucok\": \"cocok\", \"cuex\": \"cuek\", \"cumi\": \"Cuma miscall\", \"cups\": \"culun\", \"curanmor\": \"pencurian kendaraan bermotor\", \"curcol\": \"curahan hati colongan\", \"cwek\": \"cewek\", \"cyin\": \"cinta\", \"d\": \"di\", \"dah\": \"deh\", \"dapet\": \"dapat\", \"de\": \"adik\", \"dek\": \"adik\", \"demen\": \"suka\", \"deyh\": \"deh\", \"dgn\": \"dengan\", \"diancurin\": \"dihancurkan\", \"dimaafin\": \"dimaafkan\", \"dimintak\": \"diminta\", \"disono\": \"di sana\", \"dket\": \"dekat\", \"dkk\": \"dan kawan-kawan\", \"dll\": \"dan lain-lain\", \"dlu\": \"dulu\", \"dngn\": \"dengan\", \"dodol\": \"bodoh\", \"doku\": \"uang\", \"dongs\": \"dong\", \"dpt\": \"dapat\", \"dri\": \"dari\", \"drmn\": \"darimana\", \"drtd\": \"dari tadi\", \"dst\": \"dan seterusnya\", \"dtg\": \"datang\", \"duh\": \"aduh\", \"duren\": \"durian\", \"ed\": \"edisi\", \"egp\": \"emang gue pikirin\", \"eke\": \"aku\", \"elu\": \"kamu\", \"emangnya\": \"memangnya\", \"emng\": \"memang\", \"endak\": \"tidak\", \"enggak\": \"tidak\", \"envy\": \"iri\", \"ex\": \"mantan\", \"fax\": \"facsimile\", \"fifo\": \"first in first out\", \"folbek\": \"follow back\", \"fyi\": \"sebagai informasi\", \"gaada\": \"tidak ada uang\", \"gag\": \"tidak\", \"gaje\": \"tidak jelas\", \"gak papa\": \"tidak apa-apa\", \"gan\": \"juragan\", \"gaptek\": \"gagap teknologi\", \"gatek\": \"gagap teknologi\", \"gawe\": \"kerja\", \"gbs\": \"tidak bisa\", \"gebetan\": \"orang yang disuka\", \"geje\": \"tidak jelas\", \"gepeng\": \"gelandangan dan pengemis\", \"ghiy\": \"lagi\", \"gile\": \"gila\", \"gimana\": \"bagaimana\", \"gino\": \"gigi nongol\", \"githu\": \"gitu\", \"gj\": \"tidak jelas\", \"gmana\": \"bagaimana\", \"gn\": \"begini\", \"goblok\": \"bodoh\", \"golput\": \"golongan putih\", \"gowes\": \"mengayuh sepeda\", \"gpny\": \"tidak punya\", \"gr\": \"gede rasa\", \"gretongan\": \"gratisan\", \"gtau\": \"tidak tahu\", \"gua\": \"saya\", \"guoblok\": \"goblok\", \"gw\": \"saya\", \"ha\": \"tertawa\", \"haha\": \"tertawa\", \"hallow\": \"halo\", \"hankam\": \"pertahanan dan keamanan\", \"hehe\": \"he\", \"helo\": \"halo\", \"hey\": \"hai\", \"hlm\": \"halaman\", \"hny\": \"hanya\", \"hoax\": \"isu bohong\", \"hr\": \"hari\", \"hrus\": \"harus\", \"hubdar\": \"perhubungan darat\", \"huff\": \"mengeluh\", \"hum\": \"rumah\", \"humz\": \"rumah\", \"ilang\": \"hilang\", \"ilfil\": \"tidak suka\", \"imho\": \"in my humble opinion\", \"imoetz\": \"imut\", \"item\": \"hitam\", \"itungan\": \"hitungan\", \"iye\": \"iya\", \"ja\": \"saja\", \"jadiin\": \"jadi\", \"jaim\": \"jaga image\", \"jayus\": \"tidak lucu\", \"jdi\": \"jadi\", \"jem\": \"jam\", \"jga\": \"juga\", \"jgnkan\": \"jangankan\", \"jir\": \"anjing\", \"jln\": \"jalan\", \"jomblo\": \"tidak punya pacar\", \"jubir\": \"juru bicara\", \"jutek\": \"galak\", \"k\": \"ke\", \"kab\": \"kabupaten\", \"kabor\": \"kabur\", \"kacrut\": \"kacau\", \"kadiv\": \"kepala divisi\", \"kagak\": \"tidak\", \"kalo\": \"kalau\", \"kampret\": \"sialan\", \"kamtibmas\": \"keamanan dan ketertiban masyarakat\", \"kamuwh\": \"kamu\", \"kanwil\": \"kantor wilayah\", \"karna\": \"karena\", \"kasubbag\": \"kepala subbagian\", \"katrok\": \"kampungan\", \"kayanya\": \"kayaknya\", \"kbr\": \"kabar\", \"kdu\": \"harus\", \"kec\": \"kecamatan\", \"kejurnas\": \"kejuaraan nasional\", \"kekeuh\": \"keras kepala\", \"kel\": \"kelurahan\", \"kemaren\": \"kemarin\", \"kepengen\": \"mau\", \"kepingin\": \"mau\", \"kepsek\": \"kepala sekolah\", \"kesbang\": \"kesatuan bangsa\", \"kesra\": \"kesejahteraan rakyat\", \"ketrima\": \"diterima\", \"kgiatan\": \"kegiatan\", \"kibul\": \"bohong\", \"kimpoi\": \"kawin\", \"kl\": \"kalau\", \"klianz\": \"kalian\", \"kloter\": \"kelompok terbang\", \"klw\": \"kalau\", \"km\": \"kamu\", \"kmps\": \"kampus\", \"kmrn\": \"kemarin\", \"knal\": \"kenal\", \"knp\": \"kenapa\", \"kodya\": \"kota madya\", \"komdis\": \"komisi disiplin\", \"komsov\": \"komunis sovyet\", \"kongkow\": \"kumpul bareng teman-teman\", \"kopdar\": \"kopi darat\", \"korup\": \"korupsi\", \"kpn\": \"kapan\", \"krenz\": \"keren\", \"krm\": \"kirim\", \"kt\": \"kita\", \"ktmu\": \"ketemu\", \"ktr\": \"kantor\", \"kuper\": \"kurang pergaulan\", \"kw\": \"imitasi\", \"kyk\": \"seperti\", \"la\": \"lah\", \"lam\": \"salam\", \"lamp\": \"lampiran\", \"lanud\": \"landasan udara\", \"latgab\": \"latihan gabungan\", \"lebay\": \"berlebihan\", \"leh\": \"boleh\", \"lelet\": \"lambat\", \"lemot\": \"lambat\", \"lgi\": \"lagi\", \"lgsg\": \"langsung\", \"liat\": \"lihat\", \"litbang\": \"penelitian dan pengembangan\", \"lmyn\": \"lumayan\", \"lo\": \"kamu\", \"loe\": \"kamu\", \"lola\": \"lambat berfikir\", \"louph\": \"cinta\", \"low\": \"kalau\", \"lp\": \"lupa\", \"luber\": \"langsung, umum, bebas, dan rahasia\", \"luchuw\": \"lucu\", \"lum\": \"belum\", \"luthu\": \"lucu\", \"lwn\": \"lawan\", \"maacih\": \"terima kasih\", \"mabal\": \"bolos\", \"macem\": \"macam\", \"macih\": \"masih\", \"maem\": \"makan\", \"magabut\": \"makan gaji buta\", \"maho\": \"homo\", \"mak jang\": \"kaget\", \"maksain\": \"memaksa\", \"malem\": \"malam\", \"mam\": \"makan\", \"maneh\": \"kamu\", \"maniez\": \"manis\", \"mao\": \"mau\", \"masukin\": \"masukkan\", \"melu\": \"ikut\", \"mepet\": \"dekat sekali\", \"mgu\": \"minggu\", \"migas\": \"minyak dan gas bumi\", \"mikol\": \"minuman beralkohol\", \"miras\": \"minuman keras\", \"mlah\": \"malah\", \"mngkn\": \"mungkin\", \"mo\": \"mau\", \"mokad\": \"mati\", \"moso\": \"masa\", \"mpe\": \"sampai\", \"msk\": \"masuk\", \"mslh\": \"masalah\", \"mt\": \"makan teman\", \"mubes\": \"musyawarah besar\", \"mulu\": \"melulu\", \"mumpung\": \"selagi\", \"munas\": \"musyawarah nasional\", \"muntaber\": \"muntah dan berak\", \"musti\": \"mesti\", \"muupz\": \"maaf\", \"mw\": \"now watching\", \"n\": \"dan\", \"nanam\": \"menanam\", \"nanya\": \"bertanya\", \"napa\": \"kenapa\", \"napi\": \"narapidana\", \"napza\": \"narkotika, alkohol, psikotropika, dan zat adiktif \", \"narkoba\": \"narkotika, psikotropika, dan obat terlarang\", \"nasgor\": \"nasi goreng\", \"nda\": \"tidak\", \"ndiri\": \"sendiri\", \"ne\": \"ini\", \"nekolin\": \"neokolonialisme\", \"nembak\": \"menyatakan cinta\", \"ngabuburit\": \"menunggu berbuka puasa\", \"ngaku\": \"mengaku\", \"ngambil\": \"mengambil\", \"nganggur\": \"tidak punya pekerjaan\", \"ngapah\": \"kenapa\", \"ngaret\": \"terlambat\", \"ngasih\": \"memberikan\", \"ngebandel\": \"berbuat bandel\", \"ngegosip\": \"bergosip\", \"ngeklaim\": \"mengklaim\", \"ngeksis\": \"menjadi eksis\", \"ngeles\": \"berkilah\", \"ngelidur\": \"menggigau\", \"ngerampok\": \"merampok\", \"ngga\": \"tidak\", \"ngibul\": \"berbohong\", \"ngiler\": \"mau\", \"ngiri\": \"iri\", \"ngisiin\": \"mengisikan\", \"ngmng\": \"bicara\", \"ngomong\": \"bicara\", \"ngubek2\": \"mencari-cari\", \"ngurus\": \"mengurus\", \"nie\": \"ini\", \"nih\": \"ini\", \"niyh\": \"nih\", \"nmr\": \"nomor\", \"nntn\": \"nonton\", \"nobar\": \"nonton bareng\", \"np\": \"now playing\", \"ntar\": \"nanti\", \"ntn\": \"nonton\", \"numpuk\": \"bertumpuk\", \"nutupin\": \"menutupi\", \"nyari\": \"mencari\", \"nyekar\": \"menyekar\", \"nyicil\": \"mencicil\", \"nyoblos\": \"mencoblos\", \"nyokap\": \"ibu\", \"ogah\": \"tidak mau\", \"ol\": \"online\", \"ongkir\": \"ongkos kirim\", \"oot\": \"out of topic\", \"org2\": \"orang-orang\", \"ortu\": \"orang tua\", \"otda\": \"otonomi daerah\", \"otw\": \"on the way, sedang di jalan\", \"pacal\": \"pacar\", \"pake\": \"pakai\", \"pala\": \"kepala\", \"pansus\": \"panitia khusus\", \"parpol\": \"partai politik\", \"pasutri\": \"pasangan suami istri\", \"pd\": \"pada\", \"pede\": \"percaya diri\", \"pelatnas\": \"pemusatan latihan nasional\", \"pemda\": \"pemerintah daerah\", \"pemkot\": \"pemerintah kota\", \"pemred\": \"pemimpin redaksi\", \"penjas\": \"pendidikan jasmani\", \"perda\": \"peraturan daerah\", \"perhatiin\": \"perhatikan\", \"pesenan\": \"pesanan\", \"pgang\": \"pegang\", \"pi\": \"tapi\", \"pilkada\": \"pemilihan kepala daerah\", \"pisan\": \"sangat\", \"pk\": \"penjahat kelamin\", \"plg\": \"paling\", \"pmrnth\": \"pemerintah\", \"polantas\": \"polisi lalu lintas\", \"ponpes\": \"pondok pesantren\", \"pp\": \"pulang pergi\", \"prg\": \"pergi\", \"prnh\": \"pernah\", \"psen\": \"pesan\", \"pst\": \"pasti\", \"pswt\": \"pesawat\", \"pw\": \"posisi nyaman\", \"qmu\": \"kamu\", \"rakor\": \"rapat koordinasi\", \"ranmor\": \"kendaraan bermotor\", \"re\": \"reply\", \"ref\": \"referensi\", \"rehab\": \"rehabilitasi\", \"rempong\": \"sulit\", \"repp\": \"balas\", \"restik\": \"reserse narkotika\", \"rhs\": \"rahasia\", \"rmh\": \"rumah\", \"ru\": \"baru\", \"ruko\": \"rumah toko\", \"rusunawa\": \"rumah susun sewa\", \"ruz\": \"terus\", \"saia\": \"saya\", \"salting\": \"salah tingkah\", \"sampe\": \"sampai\", \"samsek\": \"sama sekali\", \"sapose\": \"siapa\", \"satpam\": \"satuan pengamanan\", \"sbb\": \"sebagai berikut\", \"sbh\": \"sebuah\", \"sbnrny\": \"sebenarnya\", \"scr\": \"secara\", \"sdgkn\": \"sedangkan\", \"sdkt\": \"sedikit\", \"se7\": \"setuju\", \"sebelas dua belas\": \"mirip\", \"sembako\": \"sembilan bahan pokok\", \"sempet\": \"sempat\", \"sendratari\": \"seni drama tari\", \"sgt\": \"sangat\", \"shg\": \"sehingga\", \"siech\": \"sih\", \"sikon\": \"situasi dan kondisi\", \"sinetron\": \"sinema elektronik\", \"siramin\": \"siramkan\", \"sj\": \"saja\", \"skalian\": \"sekalian\", \"sklh\": \"sekolah\", \"skt\": \"sakit\", \"slesai\": \"selesai\", \"sll\": \"selalu\", \"slma\": \"selama\", \"slsai\": \"selesai\", \"smpt\": \"sempat\", \"smw\": \"semua\", \"sndiri\": \"sendiri\", \"soljum\": \"sholat jumat\", \"songong\": \"sombong\", \"sory\": \"maaf\", \"sosek\": \"sosial-ekonomi\", \"sotoy\": \"sok tahu\", \"spa\": \"siapa\", \"sppa\": \"siapa\", \"spt\": \"seperti\", \"srtfkt\": \"sertifikat\", \"stiap\": \"setiap\", \"stlh\": \"setelah\", \"suk\": \"masuk\", \"sumpek\": \"sempit\", \"syg\": \"sayang\", \"t4\": \"tempat\", \"tajir\": \"kaya\", \"tau\": \"tahu\", \"taw\": \"tahu\", \"td\": \"tadi\", \"tdk\": \"tidak\", \"teh\": \"kakak perempuan\", \"telat\": \"terlambat\", \"telmi\": \"telat berpikir\", \"temen\": \"teman\", \"tengil\": \"menyebalkan\", \"tepar\": \"terkapar\", \"tggu\": \"tunggu\", \"tgu\": \"tunggu\", \"thankz\": \"terima kasih\", \"thn\": \"tahun\", \"tilang\": \"bukti pelanggaran\", \"tipiwan\": \"TvOne\", \"tks\": \"terima kasih\", \"tlp\": \"telepon\", \"tls\": \"tulis\", \"tmbah\": \"tambah\", \"tmen2\": \"teman-teman\", \"tmpah\": \"tumpah\", \"tmpt\": \"tempat\", \"tngu\": \"tunggu\", \"tnyta\": \"ternyata\", \"tokai\": \"tai\", \"toserba\": \"toko serba ada\", \"tpi\": \"tapi\", \"trdhulu\": \"terdahulu\", \"trima\": \"terima kasih\", \"trm\": \"terima\", \"trs\": \"terus\", \"trutama\": \"terutama\", \"ts\": \"penulis\", \"tst\": \"tahu sama tahu\", \"ttg\": \"tentang\", \"tuch\": \"tuh\", \"tuir\": \"tua\", \"tw\": \"tahu\", \"u\": \"kamu\", \"ud\": \"sudah\", \"udah\": \"sudah\", \"ujg\": \"ujung\", \"ul\": \"ulangan\", \"unyu\": \"lucu\", \"uplot\": \"unggah\", \"urang\": \"saya\", \"usah\": \"perlu\", \"utk\": \"untuk\", \"valas\": \"valuta asing\", \"w/\": \"dengan\", \"wadir\": \"wakil direktur\", \"wamil\": \"wajib militer\", \"warkop\": \"warung kopi\", \"warteg\": \"warung tegal\", \"wat\": \"buat\", \"wkt\": \"waktu\", \"wtf\": \"what the fuck\", \"xixixi\": \"tertawa\", \"ya\": \"iya\", \"yap\": \"iya\", \"yaudah\": \"ya sudah\", \"yawdah\": \"ya sudah\", \"yg\": \"yang\", \"yl\": \"yang lain\", \"yo\": \"iya\", \"yowes\": \"ya sudah\", \"yup\": \"iya\", \"7an\": \"tujuan\", \"ababil\": \"abg labil\", \"acc\": \"accord\", \"adlah\": \"adalah\", \"adoh\": \"aduh\", \"aha\": \"tertawa\", \"aing\": \"saya\", \"aja\": \"saja\", \"ajj\": \"saja\", \"aka\": \"dikenal juga sebagai\", \"akko\": \"aku\", \"akku\": \"aku\", \"akyu\": \"aku\", \"aljasa\": \"asal jadi saja\", \"ama\": \"sama\", \"ambl\": \"ambil\", \"anjir\": \"anjing\", \"ank\": \"anak\", \"ap\": \"apa\", \"apaan\": \"apa\", \"ape\": \"apa\", \"aplot\": \"unggah\", \"apva\": \"apa\", \"aqu\": \"aku\", \"asap\": \"sesegera mungkin\", \"aseek\": \"asyik\", \"asek\": \"asyik\", \"aseknya\": \"asyiknya\", \"asoy\": \"asyik\", \"astrojim\": \"astagfirullahaladzim\", \"ath\": \"kalau begitu\", \"atuh\": \"kalau begitu\", \"ava\": \"avatar\", \"aws\": \"awas\", \"ayang\": \"sayang\", \"ayok\": \"ayo\", \"bacot\": \"banyak bicara\", \"bales\": \"balas\", \"bangdes\": \"pembangunan desa\", \"bangkotan\": \"tua\", \"banpres\": \"bantuan presiden\", \"bansarkas\": \"bantuan sarana kesehatan\", \"bazis\": \"badan amal, zakat, infak, dan sedekah\", \"bcoz\": \"karena\", \"beb\": \"sayang\", \"bejibun\": \"banyak\", \"belom\": \"belum\", \"bener\": \"benar\", \"ber2\": \"berdua\", \"berdikari\": \"berdiri di atas kaki sendiri\", \"bet\": \"banget\", \"beti\": \"beda tipis\", \"beut\": \"banget\", \"bgd\": \"banget\", \"bgs\": \"bagus\", \"bhubu\": \"tidur\", \"bimbuluh\": \"bimbingan dan penyuluhan\", \"bisi\": \"kalau-kalau\", \"bkn\": \"bukan\", \"bl\": \"beli\", \"blg\": \"bilang\", \"blm\": \"belum\", \"bls\": \"balas\", \"bnchi\": \"benci\", \"bngung\": \"bingung\", \"bnyk\": \"banyak\", \"bohay\": \"badan aduhai\", \"bokep\": \"porno\", \"bokin\": \"pacar\", \"bole\": \"boleh\", \"bolot\": \"bodoh\", \"bonyok\": \"ayah ibu\", \"bpk\": \"bapak\", \"brb\": \"segera kembali\", \"brngkt\": \"berangkat\", \"brp\": \"berapa\", \"brur\": \"saudara laki-laki\", \"bsa\": \"bisa\", \"bsk\": \"besok\", \"bu_bu\": \"tidur\", \"bubarin\": \"bubarkan\", \"buber\": \"buka bersama\", \"bujubune\": \"luar biasa\", \"buser\": \"buru sergap\", \"bwhn\": \"bawahan\", \"byar\": \"bayar\", \"byr\": \"bayar\", \"c8\": \"chat\", \"cabut\": \"pergi\", \"caem\": \"cakep\", \"cama-cama\": \"sama-sama\", \"cangcut\": \"celana dalam\", \"cape\": \"capek\", \"caur\": \"jelek\", \"cekak\": \"tidak ada uang\", \"cekidot\": \"coba lihat\", \"cemplungin\": \"cemplungkan\", \"ceper\": \"pendek\", \"ceu\": \"kakak perempuan\", \"cewe\": \"cewek\", \"cibuk\": \"sibuk\", \"cin\": \"cinta\", \"ciye\": \"cie\", \"ckck\": \"ck\", \"clbk\": \"cinta lama bersemi kembali\", \"cmpr\": \"campur\", \"cnenk\": \"senang\", \"congor\": \"mulut\", \"cow\": \"cowok\", \"coz\": \"karena\", \"cpa\": \"siapa\", \"gokil\": \"gila\", \"gombal\": \"suka merayu\", \"gpl\": \"tidak pakai lama\", \"gpp\": \"tidak apa-apa\", \"gretong\": \"gratis\", \"gt\": \"begitu\", \"gtw\": \"tidak tahu\", \"gue\": \"saya\", \"guys\": \"teman-teman\", \"gws\": \"cepat sembuh\", \"haghaghag\": \"tertawa\", \"hakhak\": \"tertawa\", \"handak\": \"bahan peledak\", \"hansip\": \"pertahanan sipil\", \"hellow\": \"halo\", \"helow\": \"halo\", \"hi\": \"hai\", \"hlng\": \"hilang\", \"hnya\": \"hanya\", \"houm\": \"rumah\", \"hrs\": \"harus\", \"hubad\": \"hubungan angkatan darat\", \"hubla\": \"perhubungan laut\", \"huft\": \"mengeluh\", \"humas\": \"hubungan masyarakat\", \"idk\": \"saya tidak tahu\", \"ilfeel\": \"tidak suka\", \"imba\": \"jago sekali\", \"imoet\": \"imut\", \"info\": \"informasi\", \"itung\": \"hitung\", \"isengin\": \"bercanda\", \"iyala\": \"iya lah\", \"iyo\": \"iya\", \"jablay\": \"jarang dibelai\", \"jadul\": \"jaman dulu\", \"jancuk\": \"anjing\", \"jd\": \"jadi\", \"jdikan\": \"jadikan\", \"jg\": \"juga\", \"jgn\": \"jangan\", \"jijay\": \"jijik\", \"jkt\": \"jakarta\", \"jnj\": \"janji\", \"jth\": \"jatuh\", \"jurdil\": \"jujur adil\", \"jwb\": \"jawab\", \"ka\": \"kakak\", \"kabag\": \"kepala bagian\", \"kacian\": \"kasihan\", \"kadit\": \"kepala direktorat\", \"kaga\": \"tidak\", \"kaka\": \"kakak\", \"kamtib\": \"keamanan dan ketertiban\", \"kamuh\": \"kamu\", \"kamyu\": \"kamu\", \"kapt\": \"kapten\", \"kasat\": \"kepala satuan\", \"kasubbid\": \"kepala subbidang\", \"kau\": \"kamu\", \"kbar\": \"kabar\", \"kcian\": \"kasihan\", \"keburu\": \"terlanjur\", \"kedubes\": \"kedutaan besar\", \"kek\": \"seperti\", \"keknya\": \"kayaknya\", \"keliatan\": \"kelihatan\", \"keneh\": \"masih\", \"kepikiran\": \"terpikirkan\", \"kepo\": \"mau tahu urusan orang\", \"kere\": \"tidak punya uang\", \"kesian\": \"kasihan\", \"ketauan\": \"ketahuan\", \"keukeuh\": \"keras kepala\", \"khan\": \"kan\", \"kibus\": \"kaki busuk\", \"kk\": \"kakak\", \"klian\": \"kalian\", \"klo\": \"kalau\", \"kluarga\": \"keluarga\", \"klwrga\": \"keluarga\", \"kmari\": \"kemari\", \"kmpus\": \"kampus\", \"kn\": \"kan\", \"knl\": \"kenal\", \"knpa\": \"kenapa\", \"kog\": \"kok\", \"kompi\": \"komputer\", \"komtiong\": \"komunis Tiongkok\", \"konjen\": \"konsulat jenderal\", \"koq\": \"kok\", \"kpd\": \"kepada\", \"kptsan\": \"keputusan\", \"krik\": \"garing\", \"krn\": \"karena\", \"ktauan\": \"ketahuan\", \"ktny\": \"katanya\", \"kudu\": \"harus\", \"kuq\": \"kok\", \"ky\": \"seperti\", \"kykny\": \"kayanya\", \"laka\": \"kecelakaan\", \"lambreta\": \"lambat\", \"lansia\": \"lanjut usia\", \"lapas\": \"lembaga pemasyarakatan\", \"lbur\": \"libur\", \"lekong\": \"laki-laki\", \"lg\": \"lagi\", \"lgkp\": \"lengkap\", \"lht\": \"lihat\", \"linmas\": \"perlindungan masyarakat\", \"lmyan\": \"lumayan\", \"lngkp\": \"lengkap\", \"loch\": \"loh\", \"lol\": \"tertawa\", \"lom\": \"belum\", \"loupz\": \"cinta\", \"lowh\": \"kamu\", \"lu\": \"kamu\", \"luchu\": \"lucu\", \"luff\": \"cinta\", \"luph\": \"cinta\", \"lw\": \"kamu\", \"lwt\": \"lewat\", \"maaciw\": \"terima kasih\", \"mabes\": \"markas besar\", \"macem-macem\": \"macam-macam\", \"madesu\": \"masa depan suram\", \"maen\": \"main\", \"mahatma\": \"maju sehat bersama\", \"mak\": \"ibu\", \"makasih\": \"terima kasih\", \"malah\": \"bahkan\", \"malu2in\": \"memalukan\", \"mamz\": \"makan\", \"manies\": \"manis\", \"mantep\": \"mantap\", \"markus\": \"makelar kasus\", \"mba\": \"mbak\", \"mending\": \"lebih baik\", \"mgkn\": \"mungkin\", \"mhn\": \"mohon\", \"miker\": \"minuman keras\", \"milis\": \"mailing list\", \"mksd\": \"maksud\", \"mls\": \"malas\", \"mnt\": \"minta\", \"moge\": \"motor gede\", \"mokat\": \"mati\", \"mosok\": \"masa\", \"msh\": \"masih\", \"mskpn\": \"meskipun\", \"msng2\": \"masing-masing\", \"muahal\": \"mahal\", \"muker\": \"musyawarah kerja\", \"mumet\": \"pusing\", \"muna\": \"munafik\", \"munaslub\": \"musyawarah nasional luar biasa\", \"musda\": \"musyawarah daerah\", \"muup\": \"maaf\", \"muuv\": \"maaf\", \"nal\": \"kenal\", \"nangis\": \"menangis\", \"naon\": \"apa\", \"napol\": \"narapidana politik\", \"naq\": \"anak\", \"narsis\": \"bangga pada diri sendiri\", \"nax\": \"anak\", \"ndak\": \"tidak\", \"ndut\": \"gendut\", \"nekolim\": \"neokolonialisme\", \"nelfon\": \"menelepon\", \"ngabis2in\": \"menghabiskan\", \"ngakak\": \"tertawa\", \"ngambek\": \"marah\", \"ngampus\": \"pergi ke kampus\", \"ngantri\": \"mengantri\", \"ngapain\": \"sedang apa\", \"ngaruh\": \"berpengaruh\", \"ngawur\": \"berbicara sembarangan\", \"ngeceng\": \"kumpul bareng-bareng\", \"ngeh\": \"sadar\", \"ngekos\": \"tinggal di kos\", \"ngelamar\": \"melamar\", \"ngeliat\": \"melihat\", \"ngemeng\": \"bicara terus-terusan\", \"ngerti\": \"mengerti\", \"nggak\": \"tidak\", \"ngikut\": \"ikut\", \"nginep\": \"menginap\", \"ngisi\": \"mengisi\", \"ngmg\": \"bicara\", \"ngocol\": \"lucu\", \"ngomongin\": \"membicarakan\", \"ngumpul\": \"berkumpul\", \"ni\": \"ini\", \"nyasar\": \"tersesat\", \"nyariin\": \"mencari\", \"nyiapin\": \"mempersiapkan\", \"nyiram\": \"menyiram\", \"nyok\": \"ayo\", \"o/\": \"oleh\", \"ok\": \"ok\", \"priksa\": \"periksa\", \"pro\": \"profesional\", \"psn\": \"pesan\", \"psti\": \"pasti\", \"puanas\": \"panas\", \"qmo\": \"kamu\", \"qt\": \"kita\", \"rame\": \"ramai\", \"raskin\": \"rakyat miskin\", \"red\": \"redaksi\", \"reg\": \"register\", \"rejeki\": \"rezeki\", \"renstra\": \"rencana strategis\", \"reskrim\": \"reserse kriminal\", \"sni\": \"sini\", \"somse\": \"sombong sekali\", \"sorry\": \"maaf\", \"sosbud\": \"sosial-budaya\", \"sospol\": \"sosial-politik\", \"sowry\": \"maaf\", \"spd\": \"sepeda\", \"sprti\": \"seperti\", \"spy\": \"supaya\", \"stelah\": \"setelah\", \"subbag\": \"subbagian\", \"sumbangin\": \"sumbangkan\", \"sy\": \"saya\", \"syp\": \"siapa\", \"tabanas\": \"tabungan pembangunan nasional\", \"tar\": \"nanti\", \"taun\": \"tahun\", \"tawh\": \"tahu\", \"tdi\": \"tadi\", \"te2p\": \"tetap\", \"tekor\": \"rugi\", \"telkom\": \"telekomunikasi\", \"telp\": \"telepon\", \"temen2\": \"teman-teman\", \"tengok\": \"menjenguk\", \"terbitin\": \"terbitkan\", \"tgl\": \"tanggal\", \"thanks\": \"terima kasih\", \"thd\": \"terhadap\", \"thx\": \"terima kasih\", \"tipi\": \"TV\", \"tkg\": \"tukang\", \"tll\": \"terlalu\", \"tlpn\": \"telepon\", \"tman\": \"teman\", \"tmbh\": \"tambah\", \"tmn2\": \"teman-teman\", \"tmph\": \"tumpah\", \"tnda\": \"tanda\", \"tnh\": \"tanah\", \"togel\": \"toto gelap\", \"tp\": \"tapi\", \"tq\": \"terima kasih\", \"trgntg\": \"tergantung\", \"trims\": \"terima kasih\", \"cb\": \"coba\", \"y\": \"ya\", \"munfik\": \"munafik\", \"reklamuk\": \"reklamasi\", \"sma\": \"sama\", \"tren\": \"trend\", \"ngehe\": \"kesal\", \"mz\": \"mas\", \"analisise\": \"analisis\", \"sadaar\": \"sadar\", \"sept\": \"september\", \"nmenarik\": \"menarik\", \"zonk\": \"bodoh\", \"rights\": \"benar\", \"simiskin\": \"miskin\", \"ngumpet\": \"sembunyi\", \"hardcore\": \"keras\", \"akhirx\": \"akhirnya\", \"solve\": \"solusi\", \"watuk\": \"batuk\", \"ngebully\": \"intimidasi\", \"masy\": \"masyarakat\", \"still\": \"masih\", \"tauk\": \"tahu\", \"mbual\": \"bual\", \"tioghoa\": \"tionghoa\", \"ngentotin\": \"senggama\", \"kentot\": \"senggama\", \"faktakta\": \"fakta\", \"sohib\": \"teman\", \"rubahnn\": \"rubah\", \"trlalu\": \"terlalu\", \"nyela\": \"cela\", \"heters\": \"pembenci\", \"nyembah\": \"sembah\", \"most\": \"paling\", \"ikon\": \"lambang\", \"light\": \"terang\", \"pndukung\": \"pendukung\", \"setting\": \"atur\", \"seting\": \"akting\", \"next\": \"lanjut\", \"waspadalah\": \"waspada\", \"gantengsaya\": \"ganteng\", \"parte\": \"partai\", \"nyerang\": \"serang\", \"nipu\": \"tipu\", \"ktipu\": \"tipu\", \"jentelmen\": \"berani\", \"buangbuang\": \"buang\", \"tsangka\": \"tersangka\", \"kurng\": \"kurang\", \"ista\": \"nista\", \"less\": \"kurang\", \"koar\": \"teriak\", \"paranoid\": \"takut\", \"problem\": \"masalah\", \"tahi\": \"kotoran\", \"tirani\": \"tiran\", \"tilep\": \"tilap\", \"happy\": \"bahagia\", \"tak\": \"tidak\", \"penertiban\": \"tertib\", \"uasai\": \"kuasa\", \"mnolak\": \"tolak\", \"trending\": \"trend\", \"taik\": \"tahi\", \"wkwkkw\": \"tertawa\", \"ahokncc\": \"ahok\", \"istaa\": \"nista\", \"benarjujur\": \"jujur\", \"mgkin\": \"mungkin\"}\n",
        "def fix_slangwords(text):\n",
        "    words = text.split() # Pisahkan teks menjadi list kata-kata\n",
        "    fixed_words = [] # Penyimpanan hasil konversi\n",
        "\n",
        "    for word in words:\n",
        "        if word.lower() in slangwords: # Cek apakah kata termasuk slang\n",
        "            fixed_words.append(slangwords[word.lower()]) # Ganti dengan versi formal\n",
        "        else:\n",
        "            fixed_words.append(word) # Pertahankan kata jika bukan slang\n",
        "\n",
        "    fixed_text = ' '.join(fixed_words) # Gabungkan kembali menjadi teks utuh\n",
        "    return fixed_text"
      ]
    },
    {
      "cell_type": "code",
      "execution_count": 18,
      "metadata": {
        "id": "42Hgy8edZLqs"
      },
      "outputs": [],
      "source": [
        "# Membuang kata-kata yang umum dan tidak perlu\n",
        "def filteringText(text):\n",
        "    # Inisialisasi stopword remover untuk bahasa Indonesia\n",
        "    factory = StopWordRemoverFactory()\n",
        "    stopwords_sastrawi = factory.get_stop_words()  # Mendapatkan daftar stopword\n",
        "\n",
        "    filtered_word = []  # List untuk menyimpan kata yang lolos filter\n",
        "    for txt in text:\n",
        "        if txt not in stopwords_sastrawi:  # Cek apakah kata bukan stopword\n",
        "            filtered_word.append(txt)  # Tambahkan kata jika bukan stopword\n",
        "\n",
        "    text = filtered_word  # Update teks dengan hasil filter\n",
        "    return text"
      ]
    },
    {
      "cell_type": "code",
      "execution_count": 19,
      "metadata": {
        "id": "hdMXGUX_e7Ig"
      },
      "outputs": [],
      "source": [
        "# Memisahkan teks menjadi list kata-kata individual\n",
        "def tokenizingText(text):\n",
        "    text = word_tokenize(text)  # Memisahkan tiap kata dengan indeks\n",
        "    return text"
      ]
    },
    {
      "cell_type": "code",
      "source": [
        "# Menggabungkan teks menjadi kalimat utuh kembali\n",
        "def toSentence(list_words):\n",
        "    sentence = ' '.join(word for word in list_words)\n",
        "    return sentence"
      ],
      "metadata": {
        "id": "hz1BMAnFSj8Y"
      },
      "execution_count": 20,
      "outputs": []
    },
    {
      "cell_type": "markdown",
      "metadata": {
        "id": "eGO7QK0vYABU"
      },
      "source": [
        "## Preprocessing"
      ]
    },
    {
      "cell_type": "code",
      "execution_count": 21,
      "metadata": {
        "id": "fQ3lLzlHiHdu"
      },
      "outputs": [],
      "source": [
        "# Buat dataframe untuk menampung data yang sudah dibersihakan\n",
        "processed_df = app_reviews_df"
      ]
    },
    {
      "cell_type": "code",
      "execution_count": 22,
      "metadata": {
        "id": "3UfrxYDEnaQu"
      },
      "outputs": [],
      "source": [
        "# Membersihkan teks dengan fungsi-fungsi yang telah didefinisiakn dan menyimpannya di kolom 'text_cleaned'\n",
        "processed_df['text_cleaned'] = processed_df['content'].apply(cleaningText)\n",
        "processed_df['text_cleaned'] = processed_df['text_cleaned'].apply(remove_punctuation)\n",
        "processed_df['text_cleaned'] = processed_df['text_cleaned'].apply(casefoldingText)\n",
        "processed_df['text_cleaned'] = processed_df['text_cleaned'].apply(fix_slangwords)\n",
        "processed_df['text_cleaned'] = processed_df['text_cleaned'].apply(tokenizingText)\n",
        "processed_df['text_cleaned'] = processed_df['text_cleaned'].apply(filteringText)\n",
        "processed_df['text_string'] = processed_df['text_cleaned'].apply(toSentence)"
      ]
    },
    {
      "cell_type": "code",
      "execution_count": 23,
      "metadata": {
        "colab": {
          "base_uri": "https://localhost:8080/",
          "height": 981
        },
        "id": "V7AbN1X8Jxk8",
        "outputId": "0520c240-9522-4bb8-843d-a4c17e6c88be"
      },
      "outputs": [
        {
          "output_type": "execute_result",
          "data": {
            "text/plain": [
              "                                    reviewId         userName  \\\n",
              "1       8d3aaf85-9f0b-47d2-b5db-5712d5d231ce  Pengguna Google   \n",
              "5       fc880b94-3370-4816-ad1d-cd2639f1146c  Pengguna Google   \n",
              "7       f779bf0e-44bd-4520-8178-ade9122bd6f7  Pengguna Google   \n",
              "8       395f4e1b-da64-4862-ba60-921adb857df5  Pengguna Google   \n",
              "12      282218be-5447-4b97-9706-53ecf586c483  Pengguna Google   \n",
              "...                                      ...              ...   \n",
              "134984  f929c60d-42d5-4ac2-9327-2f40cdaa2afc  Pengguna Google   \n",
              "134990  4dff2367-06ed-479f-86aa-a34bb34761e1  Pengguna Google   \n",
              "134991  834a7ce4-9827-4b57-bc84-4d19df8e23bb  Pengguna Google   \n",
              "134995  12334b5f-7d4a-4d94-b04d-98f93166466a  Pengguna Google   \n",
              "134998  2f627e78-c956-4ee5-a4a4-69a7805ab923  Pengguna Google   \n",
              "\n",
              "                                                userImage  \\\n",
              "1       https://play-lh.googleusercontent.com/EGemoI2N...   \n",
              "5       https://play-lh.googleusercontent.com/EGemoI2N...   \n",
              "7       https://play-lh.googleusercontent.com/EGemoI2N...   \n",
              "8       https://play-lh.googleusercontent.com/EGemoI2N...   \n",
              "12      https://play-lh.googleusercontent.com/EGemoI2N...   \n",
              "...                                                   ...   \n",
              "134984  https://play-lh.googleusercontent.com/EGemoI2N...   \n",
              "134990  https://play-lh.googleusercontent.com/EGemoI2N...   \n",
              "134991  https://play-lh.googleusercontent.com/EGemoI2N...   \n",
              "134995  https://play-lh.googleusercontent.com/EGemoI2N...   \n",
              "134998  https://play-lh.googleusercontent.com/EGemoI2N...   \n",
              "\n",
              "                                                  content  score  \\\n",
              "1       Nggak tau knpa makin kesini telkomsel makin je...      1   \n",
              "5       aplikasi paling jelek sedunia, loading terus p...      1   \n",
              "7       paket promo yang ada di oesan sms tidak bisa d...      1   \n",
              "8       ni aplikasi kenapa dah udh lama begini setiap ...      1   \n",
              "12      Aplikasinya berat banget... Dan Jaringan telko...      2   \n",
              "...                                                   ...    ...   \n",
              "134984  Saya pelanggan dari 2002 dg telkomsel. Lha skr...      1   \n",
              "134990  Sangat tidak memuaskan,coba beli token PLN tpi...      1   \n",
              "134991  aplikasi taik setelah apdet smua paket yg mura...      1   \n",
              "134995  Setelah di update malah tampilannya jadi kuran...      1   \n",
              "134998  Lebih nyaman dan mudah pemakaian tampilan lama...      2   \n",
              "\n",
              "        thumbsUpCount reviewCreatedVersion                   at  \\\n",
              "1                 837                8.7.0  2025-04-21 16:43:31   \n",
              "5                 114                8.7.0  2025-04-21 12:58:40   \n",
              "7                 952                8.7.0  2025-04-13 02:42:53   \n",
              "8                 243                8.7.0  2025-04-14 05:26:55   \n",
              "12                190                8.7.0  2025-04-10 08:10:15   \n",
              "...               ...                  ...                  ...   \n",
              "134984              0                6.8.0  2022-04-21 12:25:19   \n",
              "134990              0                8.0.1  2024-05-20 13:03:12   \n",
              "134991              2                8.0.1  2024-05-10 15:09:20   \n",
              "134995              0                8.0.1  2024-05-29 00:11:21   \n",
              "134998              0                8.0.1  2024-05-24 11:29:46   \n",
              "\n",
              "                                             replyContent  \\\n",
              "1       Hai Kak Andika, silakan akses aplikasi MyTelko...   \n",
              "5       Hai Kak Ata, Mohon maaf untuk ketidaknyamanann...   \n",
              "7       Hai Kak Langga. Mohon maaf untuk ketidaknyaman...   \n",
              "8       Hai Kak Cecep, Mohon maaf untuk ketidaknyamana...   \n",
              "12      Maaf ya, Kak Hans. Untuk keluhan aplikasi MyTe...   \n",
              "...                                                   ...   \n",
              "134984  Mohon maaf ya, Kak Vandi. Untuk keluhan sinyal...   \n",
              "134990  Maaf banget ya, Kak Edy. Perihal keluhan pembe...   \n",
              "134991  Hai, Kak. Maaf banget ya, untuk keluhan aplika...   \n",
              "134995  Maaf ya, Kak Ponamon. Terkait kendala aplikasi...   \n",
              "134998  Maaf ya, Kak Nadyra. Apakah kendala yang dimak...   \n",
              "\n",
              "                  repliedAt appVersion  \\\n",
              "1       2025-04-22 06:43:06      8.7.0   \n",
              "5       2025-04-21 13:32:05      8.7.0   \n",
              "7       2025-04-13 04:51:42      8.7.0   \n",
              "8       2024-12-05 11:12:57      8.7.0   \n",
              "12      2021-02-21 03:17:52      8.7.0   \n",
              "...                     ...        ...   \n",
              "134984  2022-04-21 12:42:16      6.8.0   \n",
              "134990  2024-05-20 15:02:22      8.0.1   \n",
              "134991  2024-05-10 23:19:39      8.0.1   \n",
              "134995  2024-05-29 05:15:29      8.0.1   \n",
              "134998  2022-03-21 09:00:08      8.0.1   \n",
              "\n",
              "                                             text_cleaned  \\\n",
              "1       [tahu, makin, kesini, telkomsel, makin, jelek,...   \n",
              "5       [aplikasi, paling, jelek, sedunia, loading, te...   \n",
              "7       [paket, promo, oesan, sms, dibeli, semakin, la...   \n",
              "8       [aplikasi, deh, udh, lama, begini, buka, aplik...   \n",
              "12      [aplikasinya, berat, banget, jaringan, telkoms...   \n",
              "...                                                   ...   \n",
              "134984  [pelanggan, dg, telkomsel, lha, skrng, harga, ...   \n",
              "134990  [sangat, memuaskancoba, beli, token, pln, masu...   \n",
              "134991  [aplikasi, tahi, apdet, smua, paket, murah, gk...   \n",
              "134995  [update, bahkan, tampilannya, jadi, kurangcara...   \n",
              "134998  [lebih, nyaman, mudah, pemakaian, tampilan, la...   \n",
              "\n",
              "                                              text_string  \n",
              "1       tahu makin kesini telkomsel makin jelek maaf k...  \n",
              "5       aplikasi paling jelek sedunia loading terus pa...  \n",
              "7       paket promo oesan sms dibeli semakin lama kuot...  \n",
              "8       aplikasi deh udh lama begini buka aplikasi nya...  \n",
              "12      aplikasinya berat banget jaringan telkomsel se...  \n",
              "...                                                   ...  \n",
              "134984  pelanggan dg telkomsel lha skrng harga tambah ...  \n",
              "134990  sangat memuaskancoba beli token pln masuk toke...  \n",
              "134991  aplikasi tahi apdet smua paket murah gk ambili...  \n",
              "134995  update bahkan tampilannya jadi kurangcara gant...  \n",
              "134998  lebih nyaman mudah pemakaian tampilan lamayang...  \n",
              "\n",
              "[55101 rows x 13 columns]"
            ],
            "text/html": [
              "\n",
              "  <div id=\"df-20fa7b55-ea1c-4bd7-922f-63ce2895af0d\" class=\"colab-df-container\">\n",
              "    <div>\n",
              "<style scoped>\n",
              "    .dataframe tbody tr th:only-of-type {\n",
              "        vertical-align: middle;\n",
              "    }\n",
              "\n",
              "    .dataframe tbody tr th {\n",
              "        vertical-align: top;\n",
              "    }\n",
              "\n",
              "    .dataframe thead th {\n",
              "        text-align: right;\n",
              "    }\n",
              "</style>\n",
              "<table border=\"1\" class=\"dataframe\">\n",
              "  <thead>\n",
              "    <tr style=\"text-align: right;\">\n",
              "      <th></th>\n",
              "      <th>reviewId</th>\n",
              "      <th>userName</th>\n",
              "      <th>userImage</th>\n",
              "      <th>content</th>\n",
              "      <th>score</th>\n",
              "      <th>thumbsUpCount</th>\n",
              "      <th>reviewCreatedVersion</th>\n",
              "      <th>at</th>\n",
              "      <th>replyContent</th>\n",
              "      <th>repliedAt</th>\n",
              "      <th>appVersion</th>\n",
              "      <th>text_cleaned</th>\n",
              "      <th>text_string</th>\n",
              "    </tr>\n",
              "  </thead>\n",
              "  <tbody>\n",
              "    <tr>\n",
              "      <th>1</th>\n",
              "      <td>8d3aaf85-9f0b-47d2-b5db-5712d5d231ce</td>\n",
              "      <td>Pengguna Google</td>\n",
              "      <td>https://play-lh.googleusercontent.com/EGemoI2N...</td>\n",
              "      <td>Nggak tau knpa makin kesini telkomsel makin je...</td>\n",
              "      <td>1</td>\n",
              "      <td>837</td>\n",
              "      <td>8.7.0</td>\n",
              "      <td>2025-04-21 16:43:31</td>\n",
              "      <td>Hai Kak Andika, silakan akses aplikasi MyTelko...</td>\n",
              "      <td>2025-04-22 06:43:06</td>\n",
              "      <td>8.7.0</td>\n",
              "      <td>[tahu, makin, kesini, telkomsel, makin, jelek,...</td>\n",
              "      <td>tahu makin kesini telkomsel makin jelek maaf k...</td>\n",
              "    </tr>\n",
              "    <tr>\n",
              "      <th>5</th>\n",
              "      <td>fc880b94-3370-4816-ad1d-cd2639f1146c</td>\n",
              "      <td>Pengguna Google</td>\n",
              "      <td>https://play-lh.googleusercontent.com/EGemoI2N...</td>\n",
              "      <td>aplikasi paling jelek sedunia, loading terus p...</td>\n",
              "      <td>1</td>\n",
              "      <td>114</td>\n",
              "      <td>8.7.0</td>\n",
              "      <td>2025-04-21 12:58:40</td>\n",
              "      <td>Hai Kak Ata, Mohon maaf untuk ketidaknyamanann...</td>\n",
              "      <td>2025-04-21 13:32:05</td>\n",
              "      <td>8.7.0</td>\n",
              "      <td>[aplikasi, paling, jelek, sedunia, loading, te...</td>\n",
              "      <td>aplikasi paling jelek sedunia loading terus pa...</td>\n",
              "    </tr>\n",
              "    <tr>\n",
              "      <th>7</th>\n",
              "      <td>f779bf0e-44bd-4520-8178-ade9122bd6f7</td>\n",
              "      <td>Pengguna Google</td>\n",
              "      <td>https://play-lh.googleusercontent.com/EGemoI2N...</td>\n",
              "      <td>paket promo yang ada di oesan sms tidak bisa d...</td>\n",
              "      <td>1</td>\n",
              "      <td>952</td>\n",
              "      <td>8.7.0</td>\n",
              "      <td>2025-04-13 02:42:53</td>\n",
              "      <td>Hai Kak Langga. Mohon maaf untuk ketidaknyaman...</td>\n",
              "      <td>2025-04-13 04:51:42</td>\n",
              "      <td>8.7.0</td>\n",
              "      <td>[paket, promo, oesan, sms, dibeli, semakin, la...</td>\n",
              "      <td>paket promo oesan sms dibeli semakin lama kuot...</td>\n",
              "    </tr>\n",
              "    <tr>\n",
              "      <th>8</th>\n",
              "      <td>395f4e1b-da64-4862-ba60-921adb857df5</td>\n",
              "      <td>Pengguna Google</td>\n",
              "      <td>https://play-lh.googleusercontent.com/EGemoI2N...</td>\n",
              "      <td>ni aplikasi kenapa dah udh lama begini setiap ...</td>\n",
              "      <td>1</td>\n",
              "      <td>243</td>\n",
              "      <td>8.7.0</td>\n",
              "      <td>2025-04-14 05:26:55</td>\n",
              "      <td>Hai Kak Cecep, Mohon maaf untuk ketidaknyamana...</td>\n",
              "      <td>2024-12-05 11:12:57</td>\n",
              "      <td>8.7.0</td>\n",
              "      <td>[aplikasi, deh, udh, lama, begini, buka, aplik...</td>\n",
              "      <td>aplikasi deh udh lama begini buka aplikasi nya...</td>\n",
              "    </tr>\n",
              "    <tr>\n",
              "      <th>12</th>\n",
              "      <td>282218be-5447-4b97-9706-53ecf586c483</td>\n",
              "      <td>Pengguna Google</td>\n",
              "      <td>https://play-lh.googleusercontent.com/EGemoI2N...</td>\n",
              "      <td>Aplikasinya berat banget... Dan Jaringan telko...</td>\n",
              "      <td>2</td>\n",
              "      <td>190</td>\n",
              "      <td>8.7.0</td>\n",
              "      <td>2025-04-10 08:10:15</td>\n",
              "      <td>Maaf ya, Kak Hans. Untuk keluhan aplikasi MyTe...</td>\n",
              "      <td>2021-02-21 03:17:52</td>\n",
              "      <td>8.7.0</td>\n",
              "      <td>[aplikasinya, berat, banget, jaringan, telkoms...</td>\n",
              "      <td>aplikasinya berat banget jaringan telkomsel se...</td>\n",
              "    </tr>\n",
              "    <tr>\n",
              "      <th>...</th>\n",
              "      <td>...</td>\n",
              "      <td>...</td>\n",
              "      <td>...</td>\n",
              "      <td>...</td>\n",
              "      <td>...</td>\n",
              "      <td>...</td>\n",
              "      <td>...</td>\n",
              "      <td>...</td>\n",
              "      <td>...</td>\n",
              "      <td>...</td>\n",
              "      <td>...</td>\n",
              "      <td>...</td>\n",
              "      <td>...</td>\n",
              "    </tr>\n",
              "    <tr>\n",
              "      <th>134984</th>\n",
              "      <td>f929c60d-42d5-4ac2-9327-2f40cdaa2afc</td>\n",
              "      <td>Pengguna Google</td>\n",
              "      <td>https://play-lh.googleusercontent.com/EGemoI2N...</td>\n",
              "      <td>Saya pelanggan dari 2002 dg telkomsel. Lha skr...</td>\n",
              "      <td>1</td>\n",
              "      <td>0</td>\n",
              "      <td>6.8.0</td>\n",
              "      <td>2022-04-21 12:25:19</td>\n",
              "      <td>Mohon maaf ya, Kak Vandi. Untuk keluhan sinyal...</td>\n",
              "      <td>2022-04-21 12:42:16</td>\n",
              "      <td>6.8.0</td>\n",
              "      <td>[pelanggan, dg, telkomsel, lha, skrng, harga, ...</td>\n",
              "      <td>pelanggan dg telkomsel lha skrng harga tambah ...</td>\n",
              "    </tr>\n",
              "    <tr>\n",
              "      <th>134990</th>\n",
              "      <td>4dff2367-06ed-479f-86aa-a34bb34761e1</td>\n",
              "      <td>Pengguna Google</td>\n",
              "      <td>https://play-lh.googleusercontent.com/EGemoI2N...</td>\n",
              "      <td>Sangat tidak memuaskan,coba beli token PLN tpi...</td>\n",
              "      <td>1</td>\n",
              "      <td>0</td>\n",
              "      <td>8.0.1</td>\n",
              "      <td>2024-05-20 13:03:12</td>\n",
              "      <td>Maaf banget ya, Kak Edy. Perihal keluhan pembe...</td>\n",
              "      <td>2024-05-20 15:02:22</td>\n",
              "      <td>8.0.1</td>\n",
              "      <td>[sangat, memuaskancoba, beli, token, pln, masu...</td>\n",
              "      <td>sangat memuaskancoba beli token pln masuk toke...</td>\n",
              "    </tr>\n",
              "    <tr>\n",
              "      <th>134991</th>\n",
              "      <td>834a7ce4-9827-4b57-bc84-4d19df8e23bb</td>\n",
              "      <td>Pengguna Google</td>\n",
              "      <td>https://play-lh.googleusercontent.com/EGemoI2N...</td>\n",
              "      <td>aplikasi taik setelah apdet smua paket yg mura...</td>\n",
              "      <td>1</td>\n",
              "      <td>2</td>\n",
              "      <td>8.0.1</td>\n",
              "      <td>2024-05-10 15:09:20</td>\n",
              "      <td>Hai, Kak. Maaf banget ya, untuk keluhan aplika...</td>\n",
              "      <td>2024-05-10 23:19:39</td>\n",
              "      <td>8.0.1</td>\n",
              "      <td>[aplikasi, tahi, apdet, smua, paket, murah, gk...</td>\n",
              "      <td>aplikasi tahi apdet smua paket murah gk ambili...</td>\n",
              "    </tr>\n",
              "    <tr>\n",
              "      <th>134995</th>\n",
              "      <td>12334b5f-7d4a-4d94-b04d-98f93166466a</td>\n",
              "      <td>Pengguna Google</td>\n",
              "      <td>https://play-lh.googleusercontent.com/EGemoI2N...</td>\n",
              "      <td>Setelah di update malah tampilannya jadi kuran...</td>\n",
              "      <td>1</td>\n",
              "      <td>0</td>\n",
              "      <td>8.0.1</td>\n",
              "      <td>2024-05-29 00:11:21</td>\n",
              "      <td>Maaf ya, Kak Ponamon. Terkait kendala aplikasi...</td>\n",
              "      <td>2024-05-29 05:15:29</td>\n",
              "      <td>8.0.1</td>\n",
              "      <td>[update, bahkan, tampilannya, jadi, kurangcara...</td>\n",
              "      <td>update bahkan tampilannya jadi kurangcara gant...</td>\n",
              "    </tr>\n",
              "    <tr>\n",
              "      <th>134998</th>\n",
              "      <td>2f627e78-c956-4ee5-a4a4-69a7805ab923</td>\n",
              "      <td>Pengguna Google</td>\n",
              "      <td>https://play-lh.googleusercontent.com/EGemoI2N...</td>\n",
              "      <td>Lebih nyaman dan mudah pemakaian tampilan lama...</td>\n",
              "      <td>2</td>\n",
              "      <td>0</td>\n",
              "      <td>8.0.1</td>\n",
              "      <td>2024-05-24 11:29:46</td>\n",
              "      <td>Maaf ya, Kak Nadyra. Apakah kendala yang dimak...</td>\n",
              "      <td>2022-03-21 09:00:08</td>\n",
              "      <td>8.0.1</td>\n",
              "      <td>[lebih, nyaman, mudah, pemakaian, tampilan, la...</td>\n",
              "      <td>lebih nyaman mudah pemakaian tampilan lamayang...</td>\n",
              "    </tr>\n",
              "  </tbody>\n",
              "</table>\n",
              "<p>55101 rows × 13 columns</p>\n",
              "</div>\n",
              "    <div class=\"colab-df-buttons\">\n",
              "\n",
              "  <div class=\"colab-df-container\">\n",
              "    <button class=\"colab-df-convert\" onclick=\"convertToInteractive('df-20fa7b55-ea1c-4bd7-922f-63ce2895af0d')\"\n",
              "            title=\"Convert this dataframe to an interactive table.\"\n",
              "            style=\"display:none;\">\n",
              "\n",
              "  <svg xmlns=\"http://www.w3.org/2000/svg\" height=\"24px\" viewBox=\"0 -960 960 960\">\n",
              "    <path d=\"M120-120v-720h720v720H120Zm60-500h600v-160H180v160Zm220 220h160v-160H400v160Zm0 220h160v-160H400v160ZM180-400h160v-160H180v160Zm440 0h160v-160H620v160ZM180-180h160v-160H180v160Zm440 0h160v-160H620v160Z\"/>\n",
              "  </svg>\n",
              "    </button>\n",
              "\n",
              "  <style>\n",
              "    .colab-df-container {\n",
              "      display:flex;\n",
              "      gap: 12px;\n",
              "    }\n",
              "\n",
              "    .colab-df-convert {\n",
              "      background-color: #E8F0FE;\n",
              "      border: none;\n",
              "      border-radius: 50%;\n",
              "      cursor: pointer;\n",
              "      display: none;\n",
              "      fill: #1967D2;\n",
              "      height: 32px;\n",
              "      padding: 0 0 0 0;\n",
              "      width: 32px;\n",
              "    }\n",
              "\n",
              "    .colab-df-convert:hover {\n",
              "      background-color: #E2EBFA;\n",
              "      box-shadow: 0px 1px 2px rgba(60, 64, 67, 0.3), 0px 1px 3px 1px rgba(60, 64, 67, 0.15);\n",
              "      fill: #174EA6;\n",
              "    }\n",
              "\n",
              "    .colab-df-buttons div {\n",
              "      margin-bottom: 4px;\n",
              "    }\n",
              "\n",
              "    [theme=dark] .colab-df-convert {\n",
              "      background-color: #3B4455;\n",
              "      fill: #D2E3FC;\n",
              "    }\n",
              "\n",
              "    [theme=dark] .colab-df-convert:hover {\n",
              "      background-color: #434B5C;\n",
              "      box-shadow: 0px 1px 3px 1px rgba(0, 0, 0, 0.15);\n",
              "      filter: drop-shadow(0px 1px 2px rgba(0, 0, 0, 0.3));\n",
              "      fill: #FFFFFF;\n",
              "    }\n",
              "  </style>\n",
              "\n",
              "    <script>\n",
              "      const buttonEl =\n",
              "        document.querySelector('#df-20fa7b55-ea1c-4bd7-922f-63ce2895af0d button.colab-df-convert');\n",
              "      buttonEl.style.display =\n",
              "        google.colab.kernel.accessAllowed ? 'block' : 'none';\n",
              "\n",
              "      async function convertToInteractive(key) {\n",
              "        const element = document.querySelector('#df-20fa7b55-ea1c-4bd7-922f-63ce2895af0d');\n",
              "        const dataTable =\n",
              "          await google.colab.kernel.invokeFunction('convertToInteractive',\n",
              "                                                    [key], {});\n",
              "        if (!dataTable) return;\n",
              "\n",
              "        const docLinkHtml = 'Like what you see? Visit the ' +\n",
              "          '<a target=\"_blank\" href=https://colab.research.google.com/notebooks/data_table.ipynb>data table notebook</a>'\n",
              "          + ' to learn more about interactive tables.';\n",
              "        element.innerHTML = '';\n",
              "        dataTable['output_type'] = 'display_data';\n",
              "        await google.colab.output.renderOutput(dataTable, element);\n",
              "        const docLink = document.createElement('div');\n",
              "        docLink.innerHTML = docLinkHtml;\n",
              "        element.appendChild(docLink);\n",
              "      }\n",
              "    </script>\n",
              "  </div>\n",
              "\n",
              "\n",
              "    <div id=\"df-2ab57a2f-dbaa-49c5-ac30-ba94a6f7accf\">\n",
              "      <button class=\"colab-df-quickchart\" onclick=\"quickchart('df-2ab57a2f-dbaa-49c5-ac30-ba94a6f7accf')\"\n",
              "                title=\"Suggest charts\"\n",
              "                style=\"display:none;\">\n",
              "\n",
              "<svg xmlns=\"http://www.w3.org/2000/svg\" height=\"24px\"viewBox=\"0 0 24 24\"\n",
              "     width=\"24px\">\n",
              "    <g>\n",
              "        <path d=\"M19 3H5c-1.1 0-2 .9-2 2v14c0 1.1.9 2 2 2h14c1.1 0 2-.9 2-2V5c0-1.1-.9-2-2-2zM9 17H7v-7h2v7zm4 0h-2V7h2v10zm4 0h-2v-4h2v4z\"/>\n",
              "    </g>\n",
              "</svg>\n",
              "      </button>\n",
              "\n",
              "<style>\n",
              "  .colab-df-quickchart {\n",
              "      --bg-color: #E8F0FE;\n",
              "      --fill-color: #1967D2;\n",
              "      --hover-bg-color: #E2EBFA;\n",
              "      --hover-fill-color: #174EA6;\n",
              "      --disabled-fill-color: #AAA;\n",
              "      --disabled-bg-color: #DDD;\n",
              "  }\n",
              "\n",
              "  [theme=dark] .colab-df-quickchart {\n",
              "      --bg-color: #3B4455;\n",
              "      --fill-color: #D2E3FC;\n",
              "      --hover-bg-color: #434B5C;\n",
              "      --hover-fill-color: #FFFFFF;\n",
              "      --disabled-bg-color: #3B4455;\n",
              "      --disabled-fill-color: #666;\n",
              "  }\n",
              "\n",
              "  .colab-df-quickchart {\n",
              "    background-color: var(--bg-color);\n",
              "    border: none;\n",
              "    border-radius: 50%;\n",
              "    cursor: pointer;\n",
              "    display: none;\n",
              "    fill: var(--fill-color);\n",
              "    height: 32px;\n",
              "    padding: 0;\n",
              "    width: 32px;\n",
              "  }\n",
              "\n",
              "  .colab-df-quickchart:hover {\n",
              "    background-color: var(--hover-bg-color);\n",
              "    box-shadow: 0 1px 2px rgba(60, 64, 67, 0.3), 0 1px 3px 1px rgba(60, 64, 67, 0.15);\n",
              "    fill: var(--button-hover-fill-color);\n",
              "  }\n",
              "\n",
              "  .colab-df-quickchart-complete:disabled,\n",
              "  .colab-df-quickchart-complete:disabled:hover {\n",
              "    background-color: var(--disabled-bg-color);\n",
              "    fill: var(--disabled-fill-color);\n",
              "    box-shadow: none;\n",
              "  }\n",
              "\n",
              "  .colab-df-spinner {\n",
              "    border: 2px solid var(--fill-color);\n",
              "    border-color: transparent;\n",
              "    border-bottom-color: var(--fill-color);\n",
              "    animation:\n",
              "      spin 1s steps(1) infinite;\n",
              "  }\n",
              "\n",
              "  @keyframes spin {\n",
              "    0% {\n",
              "      border-color: transparent;\n",
              "      border-bottom-color: var(--fill-color);\n",
              "      border-left-color: var(--fill-color);\n",
              "    }\n",
              "    20% {\n",
              "      border-color: transparent;\n",
              "      border-left-color: var(--fill-color);\n",
              "      border-top-color: var(--fill-color);\n",
              "    }\n",
              "    30% {\n",
              "      border-color: transparent;\n",
              "      border-left-color: var(--fill-color);\n",
              "      border-top-color: var(--fill-color);\n",
              "      border-right-color: var(--fill-color);\n",
              "    }\n",
              "    40% {\n",
              "      border-color: transparent;\n",
              "      border-right-color: var(--fill-color);\n",
              "      border-top-color: var(--fill-color);\n",
              "    }\n",
              "    60% {\n",
              "      border-color: transparent;\n",
              "      border-right-color: var(--fill-color);\n",
              "    }\n",
              "    80% {\n",
              "      border-color: transparent;\n",
              "      border-right-color: var(--fill-color);\n",
              "      border-bottom-color: var(--fill-color);\n",
              "    }\n",
              "    90% {\n",
              "      border-color: transparent;\n",
              "      border-bottom-color: var(--fill-color);\n",
              "    }\n",
              "  }\n",
              "</style>\n",
              "\n",
              "      <script>\n",
              "        async function quickchart(key) {\n",
              "          const quickchartButtonEl =\n",
              "            document.querySelector('#' + key + ' button');\n",
              "          quickchartButtonEl.disabled = true;  // To prevent multiple clicks.\n",
              "          quickchartButtonEl.classList.add('colab-df-spinner');\n",
              "          try {\n",
              "            const charts = await google.colab.kernel.invokeFunction(\n",
              "                'suggestCharts', [key], {});\n",
              "          } catch (error) {\n",
              "            console.error('Error during call to suggestCharts:', error);\n",
              "          }\n",
              "          quickchartButtonEl.classList.remove('colab-df-spinner');\n",
              "          quickchartButtonEl.classList.add('colab-df-quickchart-complete');\n",
              "        }\n",
              "        (() => {\n",
              "          let quickchartButtonEl =\n",
              "            document.querySelector('#df-2ab57a2f-dbaa-49c5-ac30-ba94a6f7accf button');\n",
              "          quickchartButtonEl.style.display =\n",
              "            google.colab.kernel.accessAllowed ? 'block' : 'none';\n",
              "        })();\n",
              "      </script>\n",
              "    </div>\n",
              "\n",
              "  <div id=\"id_68660463-975b-4c51-bef0-81d95372ddb2\">\n",
              "    <style>\n",
              "      .colab-df-generate {\n",
              "        background-color: #E8F0FE;\n",
              "        border: none;\n",
              "        border-radius: 50%;\n",
              "        cursor: pointer;\n",
              "        display: none;\n",
              "        fill: #1967D2;\n",
              "        height: 32px;\n",
              "        padding: 0 0 0 0;\n",
              "        width: 32px;\n",
              "      }\n",
              "\n",
              "      .colab-df-generate:hover {\n",
              "        background-color: #E2EBFA;\n",
              "        box-shadow: 0px 1px 2px rgba(60, 64, 67, 0.3), 0px 1px 3px 1px rgba(60, 64, 67, 0.15);\n",
              "        fill: #174EA6;\n",
              "      }\n",
              "\n",
              "      [theme=dark] .colab-df-generate {\n",
              "        background-color: #3B4455;\n",
              "        fill: #D2E3FC;\n",
              "      }\n",
              "\n",
              "      [theme=dark] .colab-df-generate:hover {\n",
              "        background-color: #434B5C;\n",
              "        box-shadow: 0px 1px 3px 1px rgba(0, 0, 0, 0.15);\n",
              "        filter: drop-shadow(0px 1px 2px rgba(0, 0, 0, 0.3));\n",
              "        fill: #FFFFFF;\n",
              "      }\n",
              "    </style>\n",
              "    <button class=\"colab-df-generate\" onclick=\"generateWithVariable('app_reviews_df')\"\n",
              "            title=\"Generate code using this dataframe.\"\n",
              "            style=\"display:none;\">\n",
              "\n",
              "  <svg xmlns=\"http://www.w3.org/2000/svg\" height=\"24px\"viewBox=\"0 0 24 24\"\n",
              "       width=\"24px\">\n",
              "    <path d=\"M7,19H8.4L18.45,9,17,7.55,7,17.6ZM5,21V16.75L18.45,3.32a2,2,0,0,1,2.83,0l1.4,1.43a1.91,1.91,0,0,1,.58,1.4,1.91,1.91,0,0,1-.58,1.4L9.25,21ZM18.45,9,17,7.55Zm-12,3A5.31,5.31,0,0,0,4.9,8.1,5.31,5.31,0,0,0,1,6.5,5.31,5.31,0,0,0,4.9,4.9,5.31,5.31,0,0,0,6.5,1,5.31,5.31,0,0,0,8.1,4.9,5.31,5.31,0,0,0,12,6.5,5.46,5.46,0,0,0,6.5,12Z\"/>\n",
              "  </svg>\n",
              "    </button>\n",
              "    <script>\n",
              "      (() => {\n",
              "      const buttonEl =\n",
              "        document.querySelector('#id_68660463-975b-4c51-bef0-81d95372ddb2 button.colab-df-generate');\n",
              "      buttonEl.style.display =\n",
              "        google.colab.kernel.accessAllowed ? 'block' : 'none';\n",
              "\n",
              "      buttonEl.onclick = () => {\n",
              "        google.colab.notebook.generateWithVariable('app_reviews_df');\n",
              "      }\n",
              "      })();\n",
              "    </script>\n",
              "  </div>\n",
              "\n",
              "    </div>\n",
              "  </div>\n"
            ],
            "application/vnd.google.colaboratory.intrinsic+json": {
              "type": "dataframe",
              "variable_name": "app_reviews_df",
              "repr_error": "0"
            }
          },
          "metadata": {},
          "execution_count": 23
        }
      ],
      "source": [
        "# Menampilkan data yang telah dibersihkan dalam dataframe processed_df\n",
        "processed_df"
      ]
    },
    {
      "cell_type": "markdown",
      "metadata": {
        "id": "VZ9ga0lqk43D"
      },
      "source": [
        "# Labeling"
      ]
    },
    {
      "cell_type": "markdown",
      "metadata": {
        "id": "2o6CCCxYfURi"
      },
      "source": [
        "### Load lexicon"
      ]
    },
    {
      "cell_type": "markdown",
      "metadata": {
        "id": "DR72IkyWdW3x"
      },
      "source": [
        "Kode ini mengunduh dua kamus lexicon sentimen (positif dan negatif) dari GitHub untuk analisis teks. Setiap lexicon disimpan sebagai dictionary dengan kata sebagai key dan skor sentimen (angka positif/negatif) sebagai value. Lexicon positif berisi kata-kata seperti \"bahagia\" (skor +3), sedangkan lexicon negatif berisi kata seperti \"sedih\" (skor -2). Data ini nantinya digunakan untuk menghitung nilai sentimen teks dengan mencocokkan kata-kata yang ada dalam teks dengan entri kamus ini. Jika pengunduhan gagal, program akan menampilkan pesan error tanpa menghentikan proses.\n",
        "\n"
      ]
    },
    {
      "cell_type": "code",
      "execution_count": 24,
      "metadata": {
        "id": "1vJJCUl7Ksbe"
      },
      "outputs": [],
      "source": [
        "import csv\n",
        "import requests\n",
        "from io import StringIO\n",
        "\n",
        "lexicon_positive = dict()\n",
        "\n",
        "response = requests.get('https://raw.githubusercontent.com/angelmetanosaa/dataset/main/lexicon_positive.csv')\n",
        "\n",
        "if response.status_code == 200:\n",
        "    reader = csv.reader(StringIO(response.text), delimiter=',')\n",
        "\n",
        "    for row in reader:\n",
        "        lexicon_positive[row[0]] = int(row[1])\n",
        "else:\n",
        "    print(\"Failed to fetch positive lexicon data\")\n",
        "\n",
        "lexicon_negative = dict()\n",
        "\n",
        "response = requests.get('https://raw.githubusercontent.com/angelmetanosaa/dataset/main/lexicon_negative.csv')\n",
        "\n",
        "if response.status_code == 200:\n",
        "    reader = csv.reader(StringIO(response.text), delimiter=',')\n",
        "\n",
        "    for row in reader:\n",
        "        lexicon_negative[row[0]] = int(row[1])\n",
        "else:\n",
        "    print(\"Failed to fetch negative lexicon data\")\n"
      ]
    },
    {
      "cell_type": "markdown",
      "metadata": {
        "id": "YbKMD2f4ff5T"
      },
      "source": [
        "### Labeling data"
      ]
    },
    {
      "cell_type": "markdown",
      "source": [
        "Sel di bawah ini akan menghitung skor yang didapat dari tiap kalimat. Setelah itu, dijumlahkan dan menentukan apakah satu kalimat ulasan termasuk kelas sentimen postif, netral, atau negatif berdasarkan hasil yang mereka dapatkan."
      ],
      "metadata": {
        "id": "f9X2SPqLV076"
      }
    },
    {
      "cell_type": "code",
      "execution_count": 25,
      "metadata": {
        "id": "X4P2DFmmiy6Z"
      },
      "outputs": [],
      "source": [
        "def labeling_by_lexicon(text):\n",
        "    score = 0  # Inisialisasi skor sentimen awal\n",
        "\n",
        "    # Hitung skor positif dari kata-kata dalam teks\n",
        "    for word in text:\n",
        "        if (word in lexicon_positive):\n",
        "            score += lexicon_positive[word]  # Tambahkan nilai positif kata ke total skor\n",
        "\n",
        "    # Hitung skor negatif dari kata-kata dalam teks\n",
        "    for word in text:\n",
        "        if (word in lexicon_negative):\n",
        "            score += lexicon_negative[word]  # Tambahkan nilai negatif kata ke total skor\n",
        "\n",
        "    # Tentukan polaritas berdasarkan skor akhir\n",
        "    if (score > 0):\n",
        "        polarity = 'positive'  # Skor positif menunjukkan sentimen positif\n",
        "    elif (score < 0):\n",
        "        polarity = 'negative'  # Skor negatif menunjukkan sentimen negatif\n",
        "    else:\n",
        "        polarity = 'neutral'   # Skor nol menunjukkan sentimen netral\n",
        "\n",
        "    return score, polarity  # Output: total skor dan kategori sentimen"
      ]
    },
    {
      "cell_type": "code",
      "execution_count": 26,
      "metadata": {
        "colab": {
          "base_uri": "https://localhost:8080/"
        },
        "id": "hgfGRh-2kxps",
        "outputId": "c3134fe6-65d8-4b0d-f818-50b6df7935f1"
      },
      "outputs": [
        {
          "output_type": "stream",
          "name": "stdout",
          "text": [
            "polarity\n",
            "negative    35460\n",
            "positive    16677\n",
            "neutral      2964\n",
            "Name: count, dtype: int64\n"
          ]
        }
      ],
      "source": [
        "# Terapkan fungsi labeling ke setiap teks yang sudah diproses\n",
        "results = processed_df['text_cleaned'].apply(labeling_by_lexicon)  # Hasilnya berupa list tuple (score, polarity)\n",
        "results = list(zip(*results))  # Unzip tuple menjadi 2 list terpisah\n",
        "processed_df['polarity_score'] = results[0]  # Masukkan skor ke dataframe\n",
        "processed_df['polarity'] = results[1]  # Masukkan kategori sentimen ke dataframe\n",
        "print(processed_df['polarity'].value_counts())  # Hitung frekuensi masing-masing kategori sentimen"
      ]
    },
    {
      "cell_type": "markdown",
      "metadata": {
        "id": "N0dRQl8ufmly"
      },
      "source": [
        "### Persentase distribusi kelas sentimen"
      ]
    },
    {
      "cell_type": "markdown",
      "source": [
        "Setelah setiap baris ulasan sudah memiliki label, kita ingin mengetahui sebaran berapa banyak ulasan dengan tiap sentimen yang ada. Sebaran sentimen dalam persentase akan divisualisasikan dalam bentuk pie chart."
      ],
      "metadata": {
        "id": "e2r0rOtPWMrz"
      }
    },
    {
      "cell_type": "code",
      "execution_count": 27,
      "metadata": {
        "colab": {
          "base_uri": "https://localhost:8080/",
          "height": 542
        },
        "id": "NnFDuZO_lU44",
        "outputId": "e672aaff-66e3-46dd-fb69-ba47e2d7853b"
      },
      "outputs": [
        {
          "output_type": "display_data",
          "data": {
            "text/plain": [
              "<Figure size 600x600 with 1 Axes>"
            ],
            "image/png": "[encoded data removed]"
          },
          "metadata": {}
        }
      ],
      "source": [
        "fig, ax = plt.subplots(figsize=(6, 6))\n",
        "\n",
        "sizes = [count for count in processed_df['polarity'].value_counts()]   # Jumlah data tiap sentimen\n",
        "labels = list(processed_df['polarity'].value_counts().index) # Label kategori sentimen\n",
        "ax.pie(x=sizes, labels=labels, autopct='%1.1f%%', textprops={'fontsize': 14})\n",
        "ax.set_title('Sentiment Percentage', fontsize=16, pad=20) # Pie chart dengan persentase\n",
        "plt.show()"
      ]
    },
    {
      "cell_type": "markdown",
      "metadata": {
        "id": "G6BNcYwQgAUB"
      },
      "source": [
        "### Visualisasi distribusi kelas sentimen"
      ]
    },
    {
      "cell_type": "markdown",
      "source": [
        "Kode ini akan menampilkan sebaran jumlah sentimen berdasarkan jumlahnya dalam dataset."
      ],
      "metadata": {
        "id": "cpcpB4omWfHZ"
      }
    },
    {
      "cell_type": "code",
      "execution_count": 28,
      "metadata": {
        "colab": {
          "base_uri": "https://localhost:8080/",
          "height": 564
        },
        "id": "te-15RlUgD9y",
        "outputId": "d13c5a16-5108-44e0-976f-5bbe65d02b2c"
      },
      "outputs": [
        {
          "output_type": "display_data",
          "data": {
            "text/plain": [
              "<Figure size 1000x600 with 1 Axes>"
            ],
            "image/png": "[encoded data removed]"
          },
          "metadata": {}
        }
      ],
      "source": [
        "plt.figure(figsize=(10, 6))\n",
        "class_dist_plot = sns.countplot(x='polarity', data=processed_df)  # Plot jumlah data per kategori sentimen\n",
        "plt.title('Distribusi Kelas Sentimen')\n",
        "\n",
        "# Tambah label jumlah di atas bar\n",
        "for p in class_dist_plot.patches:\n",
        "    class_dist_plot.annotate(format(p.get_height(), '.0f'),  # Format angka tanpa desimal\n",
        "                            (p.get_x() + p.get_width() / 2., p.get_height()),\n",
        "                            ha='center', va='center',\n",
        "                            xytext=(0, 10),\n",
        "                            textcoords='offset points')\n",
        "plt.show()"
      ]
    },
    {
      "cell_type": "markdown",
      "metadata": {
        "id": "lSMwVfo5gdUs"
      },
      "source": [
        "### Visualisai distribusi panjang teks"
      ]
    },
    {
      "cell_type": "markdown",
      "source": [
        "Kita ingin mengetahui seberapa panjang teks yang diutarakan pengulas dengan menghitung jumlah kata yang ada dalam satu kalimat. Menurut hasil visualisasi yang ditampilkan, ulasan yang dikirimkan mayoritas maksimal di 50 kata."
      ],
      "metadata": {
        "id": "5PWUuUwWWk2x"
      }
    },
    {
      "cell_type": "code",
      "execution_count": 29,
      "metadata": {
        "colab": {
          "base_uri": "https://localhost:8080/",
          "height": 564
        },
        "id": "IYyC-5sBgkw6",
        "outputId": "ba8acb31-d834-4194-a36b-3b500df5b3fd"
      },
      "outputs": [
        {
          "output_type": "display_data",
          "data": {
            "text/plain": [
              "<Figure size 1000x600 with 1 Axes>"
            ],
            "image/png": "[encoded data removed]"
          },
          "metadata": {}
        }
      ],
      "source": [
        "plt.figure(figsize=(10, 6))\n",
        "processed_df['text_length'] = processed_df['text_cleaned'].apply(len)  # Hitung jumlah kata\n",
        "sns.histplot(processed_df['text_length'])  # Visualisasi distribusi panjang teks\n",
        "plt.title('Distribusi Panjang Teks')\n",
        "plt.show()"
      ]
    },
    {
      "cell_type": "markdown",
      "metadata": {
        "id": "EWZ3RgySg-XE"
      },
      "source": [
        "### Visualisasi frekuensi kata yang sering muncul"
      ]
    },
    {
      "cell_type": "markdown",
      "source": [
        "Dari keseluruhan ulasan yang diambil, kita akan melihat kata yang sering muncul atau yang frekuensinya paling tinggi di seluruh dokumen (ulasan). Grafik ini akan menampilkan 20 kata yang frekuensinya paling tinggi."
      ],
      "metadata": {
        "id": "CMdZGRKcH_ax"
      }
    },
    {
      "cell_type": "code",
      "execution_count": 30,
      "metadata": {
        "colab": {
          "base_uri": "https://localhost:8080/",
          "height": 564
        },
        "id": "XaVW_o9_qM9O",
        "outputId": "23511b52-3bed-4b82-ddb3-632fa9b9a768"
      },
      "outputs": [
        {
          "output_type": "display_data",
          "data": {
            "text/plain": [
              "<Figure size 1200x600 with 1 Axes>"
            ],
            "image/png": "[encoded data removed]"
          },
          "metadata": {}
        }
      ],
      "source": [
        "plt.figure(figsize=(12, 6))\n",
        "\n",
        "# Inisialisasi dan hitung TF-IDF\n",
        "vectorizer = TfidfVectorizer()  # Buat objek vectorizer\n",
        "X = vectorizer.fit_transform(processed_df['text_string'])  # Hitung TF-IDF dari string\n",
        "\n",
        "# Buat dataframe hasil TF-IDF\n",
        "tfidf_df = pd.DataFrame(X.toarray(), columns=vectorizer.get_feature_names_out())\n",
        "tfidf_df = tfidf_df.sum().reset_index(name='jumlah')  # Jumlahkan nilai TF-IDF per kata\n",
        "tfidf_df = tfidf_df.sort_values('jumlah', ascending=False).head(20)  # Ambil 20 kata teratas\n",
        "\n",
        "# Visualisasi\n",
        "sns.barplot(x='jumlah', y='index', data=tfidf_df)\n",
        "plt.title('20 Kata Paling Dominan (TF-IDF)')\n",
        "plt.xlabel('Skor TF-IDF')\n",
        "plt.ylabel('Kata')\n",
        "plt.show()"
      ]
    },
    {
      "cell_type": "markdown",
      "metadata": {
        "id": "Y8trNWW7_h9N"
      },
      "source": [
        "### Encoding Label"
      ]
    },
    {
      "cell_type": "markdown",
      "source": [
        "Setelah dilakukan labeling, kita akan melakukan encoding label ke dalam bentuk numerik menggunakan label encoding. Nilai numerik dapat mudah dimengerti dan diproses oleh algoritma dibanding dengan string."
      ],
      "metadata": {
        "id": "t0Exg-RcIPGG"
      }
    },
    {
      "cell_type": "code",
      "execution_count": 31,
      "metadata": {
        "id": "7YCbU9cJ_rlG"
      },
      "outputs": [],
      "source": [
        "map = {'positive': 0, 'neutral': 1, 'negative': 2}\n",
        "processed_df['polarity'] = processed_df['polarity'].map(map)"
      ]
    },
    {
      "cell_type": "markdown",
      "metadata": {
        "id": "5pcW7F64kOhf"
      },
      "source": [
        "# Feature Extraction"
      ]
    },
    {
      "cell_type": "markdown",
      "source": [
        "Untuk mengetahui tone atau sentimen yang terkandung pada sebuah kalimat, kita perlu menggunakan feature extraction. Langkah ini akan memproses kata kata dalam kalimat dengan berbagai metode untuk dapat menemukan pola yang terkandung pada urutan kata dalam kalimat. Pada project kali ini akan dilakukan feature extraction dengan metode TF-IDF, Word2Vector, dan Fasttext."
      ],
      "metadata": {
        "id": "-IbKn-q6Ii9f"
      }
    },
    {
      "cell_type": "markdown",
      "metadata": {
        "id": "3_cbKxWRoIpo"
      },
      "source": [
        "## TF-IDF"
      ]
    },
    {
      "cell_type": "markdown",
      "source": [
        "Untuk TF-IDF, sel ini akan memproses teks, lalu menggunakan TfidfVectorizer dari scikit-learn untuk mengubah teks menjadi matriks nilai TF-IDF yang merepresentasikan pentingnya kata dalam dokumen."
      ],
      "metadata": {
        "id": "LY8IUvTaJCcf"
      }
    },
    {
      "cell_type": "code",
      "execution_count": 32,
      "metadata": {
        "id": "qp345lRlmWMT"
      },
      "outputs": [],
      "source": [
        "tfidf = TfidfVectorizer(max_features=5000, min_df=20, max_df=0.8)\n",
        "X_tfidf = tfidf.fit_transform(processed_df['text_string']).toarray()"
      ]
    },
    {
      "cell_type": "markdown",
      "metadata": {
        "id": "I3H7SUV9ANTz"
      },
      "source": [
        "## Word2Vec"
      ]
    },
    {
      "cell_type": "markdown",
      "source": [
        "Dalam Word2vec, sel ini akan melatih model menggunakan library gensim pada data teks untuk mendapatkan representasi vektor (embeddings) dari setiap kata, di mana kata-kata serupa memiliki vektor yang berdekatan; representasi dokumen biasanya didapatkan dengan merata-ratakan vektor kata-katanya."
      ],
      "metadata": {
        "id": "O63EzIkiKhXN"
      }
    },
    {
      "cell_type": "code",
      "execution_count": 33,
      "metadata": {
        "id": "uVW8BWr0mX5I"
      },
      "outputs": [],
      "source": [
        "w2v_model = Word2Vec(sentences=processed_df['text_cleaned'],\n",
        "                    vector_size=300, window=5, min_count=5, workers=8)\n",
        "\n",
        "def document_vector(word2vec_model, doc):\n",
        "    doc = [word for word in doc if word in word2vec_model.wv.key_to_index]\n",
        "    if len(doc) == 0:\n",
        "        return np.zeros(word2vec_model.vector_size)\n",
        "    return np.mean(word2vec_model.wv[doc], axis=0)\n",
        "\n",
        "X_w2v = np.array([document_vector(w2v_model, doc) for doc in processed_df['text_cleaned']])"
      ]
    },
    {
      "cell_type": "markdown",
      "metadata": {
        "id": "xoRWFF3PASaf"
      },
      "source": [
        "## FastText"
      ]
    },
    {
      "cell_type": "markdown",
      "source": [
        "Terakhir, dengan FastText, sel ini akan melatih model menggunakan library fasttext yang tidak hanya menghasilkan embeddings kata tetapi juga mempertimbangkan n-gram karakter, memungkinkan representasi kata di luar kosakata; representasi dokumen juga umumnya didapatkan dengan merata-ratakan vektor kata."
      ],
      "metadata": {
        "id": "oMklLyKhKsia"
      }
    },
    {
      "cell_type": "code",
      "execution_count": 34,
      "metadata": {
        "id": "GG4NJ_8Pmfv8"
      },
      "outputs": [],
      "source": [
        "ft_model = FastText(sentences=processed_df['text_cleaned'],\n",
        "                   vector_size=300, window=5, min_count=1, workers=8)\n",
        "X_ft = np.array([document_vector(ft_model, doc) for doc in processed_df['text_cleaned']])"
      ]
    },
    {
      "cell_type": "markdown",
      "metadata": {
        "id": "rnPLRxJJWUq5"
      },
      "source": [
        "# Training Model"
      ]
    },
    {
      "cell_type": "markdown",
      "source": [
        "Kode ini membagi dataset menjadi data latih dan uji (80:20) untuk representasi fitur TF-IDF, Word2vec, dan FastText, serta label polaritas yang sesuai. Tujuannya adalah untuk mengevaluasi model pada data yang belum pernah dilihat."
      ],
      "metadata": {
        "id": "zUJYVPj1LLSK"
      }
    },
    {
      "cell_type": "code",
      "execution_count": 35,
      "metadata": {
        "id": "dKOxH5QqnB2b"
      },
      "outputs": [],
      "source": [
        "# Split data\n",
        "X_train_tfidf, X_test_tfidf, y_train, y_test = train_test_split(X_tfidf, processed_df['polarity'], test_size=0.2)\n",
        "X_train_w2v, X_test_w2v, _, _ = train_test_split(X_w2v, processed_df['polarity'], test_size=0.2)\n",
        "X_train_ft, X_test_ft, _, _ = train_test_split(X_ft, processed_df['polarity'], test_size=0.2)"
      ]
    },
    {
      "cell_type": "markdown",
      "source": [
        "Fungsi myCallback mendefinisikan aksi untuk menghentikan pelatihan model Keras secara otomatis saat akurasi mencapai 92%, untuk efisiensi waktu dan sumber daya."
      ],
      "metadata": {
        "id": "wuA9tVOfLa_O"
      }
    },
    {
      "cell_type": "code",
      "execution_count": 36,
      "metadata": {
        "id": "3oAYIjDsBaBH"
      },
      "outputs": [],
      "source": [
        "# Fungsi callback\n",
        "class myCallback(Callback):\n",
        "  def on_epoch_end(self, epoch, log={}):\n",
        "    if(log.get('accuracy')>=0.92):\n",
        "      print(\"\\nAkurasi telah mencapai 92%!\")\n",
        "      self.model.stop_training = True\n",
        "callbacks = myCallback()"
      ]
    },
    {
      "cell_type": "markdown",
      "source": [
        "Fungsi evaluate_model mengukur kinerja model pada data uji dengan menghitung akurasi dan menampilkan laporan klasifikasi yang berisi presisi, recall, dan F1-score untuk setiap kelas."
      ],
      "metadata": {
        "id": "bt3lAqXOLdT7"
      }
    },
    {
      "cell_type": "code",
      "execution_count": 37,
      "metadata": {
        "id": "RkcIQctpnBvZ"
      },
      "outputs": [],
      "source": [
        "# Fungsi evaluasi\n",
        "def evaluate_model(model, X_test, y_test):\n",
        "    loss, accuracy = model.evaluate(X_test, y_test, verbose=0)\n",
        "    print(f'Test Accuracy: {accuracy:.4f}')\n",
        "    y_pred = np.argmax(model.predict(X_test), axis=1)\n",
        "    print(classification_report(y_test, y_pred))"
      ]
    },
    {
      "cell_type": "markdown",
      "source": [
        "Fungsi plot_loss_accuracy membuat visualisasi grafik yang menunjukkan bagaimana nilai loss dan akurasi model berubah selama setiap epoch pelatihan, membantu dalam menganalisis proses pembelajaran model."
      ],
      "metadata": {
        "id": "GmcY-zkKLfSC"
      }
    },
    {
      "cell_type": "code",
      "execution_count": 38,
      "metadata": {
        "id": "4GsIUdWsDy1X"
      },
      "outputs": [],
      "source": [
        "# Fungsi plot akurasi dan loss\n",
        "def plot_loss_accuracy(history):\n",
        "    # Hitung jumlah epoch dari riwayat loss\n",
        "    n_epochs = len(history.history['loss'])\n",
        "    epochs = range(1, n_epochs + 1)\n",
        "\n",
        "    plt.figure(figsize=(12, 6))\n",
        "\n",
        "    # Plot Loss\n",
        "    plt.subplot(1, 2, 1)\n",
        "    plt.plot(epochs, history.history['loss'], marker='o', label='Train Loss')\n",
        "    plt.title('Model Loss')\n",
        "    plt.ylabel('Loss')\n",
        "    plt.xlabel('Epochs')\n",
        "    plt.xlim(1, n_epochs)\n",
        "    plt.ylim(0, 1)\n",
        "    plt.legend(loc='upper right')\n",
        "\n",
        "    # Plot Accuracy\n",
        "    plt.subplot(1, 2, 2)\n",
        "    plt.plot(epochs, history.history['accuracy'], marker='o', label='Train Accuracy')\n",
        "    plt.title('Model Accuracy')\n",
        "    plt.ylabel('Accuracy')\n",
        "    plt.xlabel('Epochs')\n",
        "    plt.xlim(1, n_epochs)\n",
        "    plt.ylim(0, 1)\n",
        "    plt.legend(loc='lower right')\n",
        "\n",
        "    plt.tight_layout()\n",
        "    plt.show()\n"
      ]
    },
    {
      "cell_type": "markdown",
      "metadata": {
        "id": "sGg7rUAABHO4"
      },
      "source": [
        "## Dense"
      ]
    },
    {
      "cell_type": "markdown",
      "source": [
        "Kita akan menggunakan model dense neural network untuk melatih model dengan ketiga jenis feature extraction (TF-IDF, Word2Vec, dan FastText). Pada model dense ini akan ada dua lapisan dense. Lapisan dense pertama memiliki 64 neuron dengan fungsi aktivasi 'leaky_relu' dan menerima input sesuai dengan jumlah fitur dari masing-masing metode feature extraction. Dropout sebesar 0.2 diterapkan setelah lapisan pertama untuk mengurangi risiko overfitting. Lapisan dense kedua merupakan lapisan output dengan 3 neuron (sesuai jumlah kelas sentimen) dan fungsi aktivasi 'softmax' untuk menghasilkan probabilitas prediksi kelas. Digunakan juga batch size sebesar 32 untuk membagi data latih menjadi kelompok-kelompok kecil yang akan diproses secara bersamaan selama pelatihan, mempercepat proses dan berpotensi meningkatkan generalisasi model. Terdapat juga callbacks dengan fungsi yang telah dibuat sebelumnya untuk menghentikan pelatihan secara otomatis jika akurasi validasi mencapai tingkat tertentu. Kemudian, hasil training model disimpan pada variabel hist_dense_tfidf atau hist_dense_w2v, dan kemudian dilakukan visualisasi untuk menganalisis bagaimana loss dan akurasi model berkembang selama proses pelatihan."
      ],
      "metadata": {
        "id": "w062jj2zNVDs"
      }
    },
    {
      "cell_type": "markdown",
      "metadata": {
        "id": "qZbN8b0HBNoj"
      },
      "source": [
        "### TF-IDF"
      ]
    },
    {
      "cell_type": "code",
      "execution_count": 39,
      "metadata": {
        "colab": {
          "base_uri": "https://localhost:8080/"
        },
        "id": "YaWiSZ-MnBmq",
        "outputId": "46513729-8f81-4d19-ebd5-18c8d0ff5e91"
      },
      "outputs": [
        {
          "output_type": "stream",
          "name": "stderr",
          "text": [
            "/usr/local/lib/python3.11/dist-packages/keras/src/layers/core/dense.py:87: UserWarning: Do not pass an `input_shape`/`input_dim` argument to a layer. When using Sequential models, prefer using an `Input(shape)` object as the first layer in the model instead.\n",
            "  super().__init__(activity_regularizer=activity_regularizer, **kwargs)\n"
          ]
        },
        {
          "output_type": "stream",
          "name": "stdout",
          "text": [
            "Epoch 1/10\n",
            "\u001b[1m1378/1378\u001b[0m \u001b[32m━━━━━━━━━━━━━━━━━━━━\u001b[0m\u001b[37m\u001b[0m \u001b[1m7s\u001b[0m 3ms/step - accuracy: 0.7623 - loss: 0.6089\n",
            "Epoch 2/10\n",
            "\u001b[1m1369/1378\u001b[0m \u001b[32m━━━━━━━━━━━━━━━━━━━\u001b[0m\u001b[37m━\u001b[0m \u001b[1m0s\u001b[0m 2ms/step - accuracy: 0.9211 - loss: 0.2291\n",
            "Akurasi telah mencapai 92%!\n",
            "\u001b[1m1378/1378\u001b[0m \u001b[32m━━━━━━━━━━━━━━━━━━━━\u001b[0m\u001b[37m\u001b[0m \u001b[1m8s\u001b[0m 2ms/step - accuracy: 0.9211 - loss: 0.2290\n",
            "Test Accuracy: 0.9239\n",
            "\u001b[1m345/345\u001b[0m \u001b[32m━━━━━━━━━━━━━━━━━━━━\u001b[0m\u001b[37m\u001b[0m \u001b[1m1s\u001b[0m 2ms/step\n",
            "              precision    recall  f1-score   support\n",
            "\n",
            "           0       0.89      0.95      0.92      3346\n",
            "           1       0.80      0.23      0.36       620\n",
            "           2       0.94      0.97      0.96      7055\n",
            "\n",
            "    accuracy                           0.92     11021\n",
            "   macro avg       0.88      0.72      0.74     11021\n",
            "weighted avg       0.92      0.92      0.91     11021\n",
            "\n"
          ]
        }
      ],
      "source": [
        "# 1. Dense Network dengan TF-IDF\n",
        "dense_tfidf = Sequential([\n",
        "    Dense(64, activation='leaky_relu', input_shape=(X_train_tfidf.shape[1],)),\n",
        "    Dropout(0.2),\n",
        "    Dense(3, activation='softmax')\n",
        "])\n",
        "dense_tfidf.compile(optimizer='adam', loss='sparse_categorical_crossentropy', metrics=['accuracy'])\n",
        "hist_dense_tfidf = dense_tfidf.fit(X_train_tfidf, y_train, epochs=10, batch_size=32, callbacks=[callbacks])\n",
        "evaluate_model(dense_tfidf, X_test_tfidf, y_test)"
      ]
    },
    {
      "cell_type": "code",
      "execution_count": 40,
      "metadata": {
        "colab": {
          "base_uri": "https://localhost:8080/",
          "height": 607
        },
        "id": "ExSzcG6XD_-A",
        "outputId": "c94ff05c-1fda-4700-fd3c-fcfec96eed9f"
      },
      "outputs": [
        {
          "output_type": "display_data",
          "data": {
            "text/plain": [
              "<Figure size 1200x600 with 2 Axes>"
            ],
            "image/png": "[encoded data removed]"
          },
          "metadata": {}
        }
      ],
      "source": [
        "plot_loss_accuracy(hist_dense_tfidf)"
      ]
    },
    {
      "cell_type": "markdown",
      "metadata": {
        "id": "X8b9oxHVEmHX"
      },
      "source": [
        "### Word2Vector"
      ]
    },
    {
      "cell_type": "code",
      "execution_count": 41,
      "metadata": {
        "colab": {
          "base_uri": "https://localhost:8080/"
        },
        "id": "-DV55TZynBJV",
        "outputId": "7d7b34d1-fc8f-4b22-e908-9e04ef845a8b"
      },
      "outputs": [
        {
          "output_type": "stream",
          "name": "stdout",
          "text": [
            "Epoch 1/10\n"
          ]
        },
        {
          "output_type": "stream",
          "name": "stderr",
          "text": [
            "/usr/local/lib/python3.11/dist-packages/keras/src/layers/core/dense.py:87: UserWarning: Do not pass an `input_shape`/`input_dim` argument to a layer. When using Sequential models, prefer using an `Input(shape)` object as the first layer in the model instead.\n",
            "  super().__init__(activity_regularizer=activity_regularizer, **kwargs)\n"
          ]
        },
        {
          "output_type": "stream",
          "name": "stdout",
          "text": [
            "\u001b[1m1378/1378\u001b[0m \u001b[32m━━━━━━━━━━━━━━━━━━━━\u001b[0m\u001b[37m\u001b[0m \u001b[1m6s\u001b[0m 3ms/step - accuracy: 0.6393 - loss: 0.8239\n",
            "Epoch 2/10\n",
            "\u001b[1m1378/1378\u001b[0m \u001b[32m━━━━━━━━━━━━━━━━━━━━\u001b[0m\u001b[37m\u001b[0m \u001b[1m4s\u001b[0m 3ms/step - accuracy: 0.6434 - loss: 0.8086\n",
            "Epoch 3/10\n",
            "\u001b[1m1378/1378\u001b[0m \u001b[32m━━━━━━━━━━━━━━━━━━━━\u001b[0m\u001b[37m\u001b[0m \u001b[1m3s\u001b[0m 2ms/step - accuracy: 0.6481 - loss: 0.8009\n",
            "Epoch 4/10\n",
            "\u001b[1m1378/1378\u001b[0m \u001b[32m━━━━━━━━━━━━━━━━━━━━\u001b[0m\u001b[37m\u001b[0m \u001b[1m3s\u001b[0m 2ms/step - accuracy: 0.6432 - loss: 0.8047\n",
            "Epoch 5/10\n",
            "\u001b[1m1378/1378\u001b[0m \u001b[32m━━━━━━━━━━━━━━━━━━━━\u001b[0m\u001b[37m\u001b[0m \u001b[1m6s\u001b[0m 3ms/step - accuracy: 0.6412 - loss: 0.8098\n",
            "Epoch 6/10\n",
            "\u001b[1m1378/1378\u001b[0m \u001b[32m━━━━━━━━━━━━━━━━━━━━\u001b[0m\u001b[37m\u001b[0m \u001b[1m4s\u001b[0m 2ms/step - accuracy: 0.6492 - loss: 0.8004\n",
            "Epoch 7/10\n",
            "\u001b[1m1378/1378\u001b[0m \u001b[32m━━━━━━━━━━━━━━━━━━━━\u001b[0m\u001b[37m\u001b[0m \u001b[1m3s\u001b[0m 2ms/step - accuracy: 0.6470 - loss: 0.8021\n",
            "Epoch 8/10\n",
            "\u001b[1m1378/1378\u001b[0m \u001b[32m━━━━━━━━━━━━━━━━━━━━\u001b[0m\u001b[37m\u001b[0m \u001b[1m6s\u001b[0m 3ms/step - accuracy: 0.6448 - loss: 0.8034\n",
            "Epoch 9/10\n",
            "\u001b[1m1378/1378\u001b[0m \u001b[32m━━━━━━━━━━━━━━━━━━━━\u001b[0m\u001b[37m\u001b[0m \u001b[1m4s\u001b[0m 2ms/step - accuracy: 0.6428 - loss: 0.8032\n",
            "Epoch 10/10\n",
            "\u001b[1m1378/1378\u001b[0m \u001b[32m━━━━━━━━━━━━━━━━━━━━\u001b[0m\u001b[37m\u001b[0m \u001b[1m3s\u001b[0m 2ms/step - accuracy: 0.6478 - loss: 0.8000\n",
            "Test Accuracy: 0.6401\n",
            "\u001b[1m345/345\u001b[0m \u001b[32m━━━━━━━━━━━━━━━━━━━━\u001b[0m\u001b[37m\u001b[0m \u001b[1m1s\u001b[0m 2ms/step\n",
            "              precision    recall  f1-score   support\n",
            "\n",
            "           0       0.00      0.00      0.00      3346\n",
            "           1       0.00      0.00      0.00       620\n",
            "           2       0.64      1.00      0.78      7055\n",
            "\n",
            "    accuracy                           0.64     11021\n",
            "   macro avg       0.21      0.33      0.26     11021\n",
            "weighted avg       0.41      0.64      0.50     11021\n",
            "\n"
          ]
        },
        {
          "output_type": "stream",
          "name": "stderr",
          "text": [
            "/usr/local/lib/python3.11/dist-packages/sklearn/metrics/_classification.py:1565: UndefinedMetricWarning: Precision is ill-defined and being set to 0.0 in labels with no predicted samples. Use `zero_division` parameter to control this behavior.\n",
            "  _warn_prf(average, modifier, f\"{metric.capitalize()} is\", len(result))\n",
            "/usr/local/lib/python3.11/dist-packages/sklearn/metrics/_classification.py:1565: UndefinedMetricWarning: Precision is ill-defined and being set to 0.0 in labels with no predicted samples. Use `zero_division` parameter to control this behavior.\n",
            "  _warn_prf(average, modifier, f\"{metric.capitalize()} is\", len(result))\n",
            "/usr/local/lib/python3.11/dist-packages/sklearn/metrics/_classification.py:1565: UndefinedMetricWarning: Precision is ill-defined and being set to 0.0 in labels with no predicted samples. Use `zero_division` parameter to control this behavior.\n",
            "  _warn_prf(average, modifier, f\"{metric.capitalize()} is\", len(result))\n"
          ]
        }
      ],
      "source": [
        "# 2. Dense Network dengan Word2Vec\n",
        "dense_w2v = Sequential([\n",
        "    Dense(64, activation='leaky_relu', input_shape=(X_train_w2v.shape[1],)),\n",
        "    Dropout(0.2),\n",
        "    Dense(3, activation='softmax')\n",
        "])\n",
        "dense_w2v.compile(optimizer='adam', loss='sparse_categorical_crossentropy', metrics=['accuracy'])\n",
        "hist_dense_w2v = dense_w2v.fit(X_train_w2v, y_train, epochs=10, batch_size=32, callbacks=[callbacks])\n",
        "evaluate_model(dense_w2v, X_test_w2v, y_test)"
      ]
    },
    {
      "cell_type": "code",
      "execution_count": 42,
      "metadata": {
        "colab": {
          "base_uri": "https://localhost:8080/",
          "height": 607
        },
        "id": "QP_otmkoEhmI",
        "outputId": "476d917d-7008-4df4-b346-90182a711bf2"
      },
      "outputs": [
        {
          "output_type": "display_data",
          "data": {
            "text/plain": [
              "<Figure size 1200x600 with 2 Axes>"
            ],
            "image/png": "[encoded data removed]"
          },
          "metadata": {}
        }
      ],
      "source": [
        "plot_loss_accuracy(hist_dense_w2v)"
      ]
    },
    {
      "cell_type": "markdown",
      "metadata": {
        "id": "jKy9TFEJE40x"
      },
      "source": [
        "### FastText"
      ]
    },
    {
      "cell_type": "code",
      "execution_count": 43,
      "metadata": {
        "colab": {
          "base_uri": "https://localhost:8080/"
        },
        "id": "-8FzxJjinjs8",
        "outputId": "c20bb868-dfe4-48b5-819e-f9b8f1618931"
      },
      "outputs": [
        {
          "output_type": "stream",
          "name": "stderr",
          "text": [
            "/usr/local/lib/python3.11/dist-packages/keras/src/layers/core/dense.py:87: UserWarning: Do not pass an `input_shape`/`input_dim` argument to a layer. When using Sequential models, prefer using an `Input(shape)` object as the first layer in the model instead.\n",
            "  super().__init__(activity_regularizer=activity_regularizer, **kwargs)\n"
          ]
        },
        {
          "output_type": "stream",
          "name": "stdout",
          "text": [
            "Epoch 1/10\n",
            "\u001b[1m1378/1378\u001b[0m \u001b[32m━━━━━━━━━━━━━━━━━━━━\u001b[0m\u001b[37m\u001b[0m \u001b[1m5s\u001b[0m 3ms/step - accuracy: 0.6292 - loss: 0.8312\n",
            "Epoch 2/10\n",
            "\u001b[1m1378/1378\u001b[0m \u001b[32m━━━━━━━━━━━━━━━━━━━━\u001b[0m\u001b[37m\u001b[0m \u001b[1m3s\u001b[0m 2ms/step - accuracy: 0.6470 - loss: 0.8014\n",
            "Epoch 3/10\n",
            "\u001b[1m1378/1378\u001b[0m \u001b[32m━━━━━━━━━━━━━━━━━━━━\u001b[0m\u001b[37m\u001b[0m \u001b[1m3s\u001b[0m 2ms/step - accuracy: 0.6455 - loss: 0.8062\n",
            "Epoch 4/10\n",
            "\u001b[1m1378/1378\u001b[0m \u001b[32m━━━━━━━━━━━━━━━━━━━━\u001b[0m\u001b[37m\u001b[0m \u001b[1m3s\u001b[0m 2ms/step - accuracy: 0.6431 - loss: 0.8038\n",
            "Epoch 5/10\n",
            "\u001b[1m1378/1378\u001b[0m \u001b[32m━━━━━━━━━━━━━━━━━━━━\u001b[0m\u001b[37m\u001b[0m \u001b[1m5s\u001b[0m 2ms/step - accuracy: 0.6447 - loss: 0.8044\n",
            "Epoch 6/10\n",
            "\u001b[1m1378/1378\u001b[0m \u001b[32m━━━━━━━━━━━━━━━━━━━━\u001b[0m\u001b[37m\u001b[0m \u001b[1m6s\u001b[0m 3ms/step - accuracy: 0.6466 - loss: 0.8028\n",
            "Epoch 7/10\n",
            "\u001b[1m1378/1378\u001b[0m \u001b[32m━━━━━━━━━━━━━━━━━━━━\u001b[0m\u001b[37m\u001b[0m \u001b[1m4s\u001b[0m 2ms/step - accuracy: 0.6420 - loss: 0.8061\n",
            "Epoch 8/10\n",
            "\u001b[1m1378/1378\u001b[0m \u001b[32m━━━━━━━━━━━━━━━━━━━━\u001b[0m\u001b[37m\u001b[0m \u001b[1m5s\u001b[0m 2ms/step - accuracy: 0.6443 - loss: 0.8004\n",
            "Epoch 9/10\n",
            "\u001b[1m1378/1378\u001b[0m \u001b[32m━━━━━━━━━━━━━━━━━━━━\u001b[0m\u001b[37m\u001b[0m \u001b[1m4s\u001b[0m 3ms/step - accuracy: 0.6456 - loss: 0.8035\n",
            "Epoch 10/10\n",
            "\u001b[1m1378/1378\u001b[0m \u001b[32m━━━━━━━━━━━━━━━━━━━━\u001b[0m\u001b[37m\u001b[0m \u001b[1m3s\u001b[0m 2ms/step - accuracy: 0.6411 - loss: 0.8062\n",
            "Test Accuracy: 0.6401\n",
            "\u001b[1m345/345\u001b[0m \u001b[32m━━━━━━━━━━━━━━━━━━━━\u001b[0m\u001b[37m\u001b[0m \u001b[1m1s\u001b[0m 2ms/step\n",
            "              precision    recall  f1-score   support\n",
            "\n",
            "           0       0.00      0.00      0.00      3346\n",
            "           1       0.00      0.00      0.00       620\n",
            "           2       0.64      1.00      0.78      7055\n",
            "\n",
            "    accuracy                           0.64     11021\n",
            "   macro avg       0.21      0.33      0.26     11021\n",
            "weighted avg       0.41      0.64      0.50     11021\n",
            "\n"
          ]
        },
        {
          "output_type": "stream",
          "name": "stderr",
          "text": [
            "/usr/local/lib/python3.11/dist-packages/sklearn/metrics/_classification.py:1565: UndefinedMetricWarning: Precision is ill-defined and being set to 0.0 in labels with no predicted samples. Use `zero_division` parameter to control this behavior.\n",
            "  _warn_prf(average, modifier, f\"{metric.capitalize()} is\", len(result))\n",
            "/usr/local/lib/python3.11/dist-packages/sklearn/metrics/_classification.py:1565: UndefinedMetricWarning: Precision is ill-defined and being set to 0.0 in labels with no predicted samples. Use `zero_division` parameter to control this behavior.\n",
            "  _warn_prf(average, modifier, f\"{metric.capitalize()} is\", len(result))\n",
            "/usr/local/lib/python3.11/dist-packages/sklearn/metrics/_classification.py:1565: UndefinedMetricWarning: Precision is ill-defined and being set to 0.0 in labels with no predicted samples. Use `zero_division` parameter to control this behavior.\n",
            "  _warn_prf(average, modifier, f\"{metric.capitalize()} is\", len(result))\n"
          ]
        }
      ],
      "source": [
        "# 3. Dense Network dengan FastText\n",
        "dense_ft = Sequential([\n",
        "    Dense(64, activation='leaky_relu', input_shape=(X_train_ft.shape[1],)),\n",
        "    Dropout(0.2),\n",
        "    Dense(3, activation='softmax')\n",
        "])\n",
        "dense_ft.compile(optimizer='adam', loss='sparse_categorical_crossentropy', metrics=['accuracy'])\n",
        "hist_dense_ft = dense_ft.fit(X_train_ft, y_train, epochs=10, batch_size=32, callbacks=[callbacks])\n",
        "evaluate_model(dense_ft, X_test_ft, y_test)"
      ]
    },
    {
      "cell_type": "code",
      "execution_count": 44,
      "metadata": {
        "colab": {
          "base_uri": "https://localhost:8080/",
          "height": 607
        },
        "id": "CdadiU03FHkJ",
        "outputId": "5eabd79c-012e-489c-8f4f-0c96765bc282"
      },
      "outputs": [
        {
          "output_type": "display_data",
          "data": {
            "text/plain": [
              "<Figure size 1200x600 with 2 Axes>"
            ],
            "image/png": "[encoded data removed]"
          },
          "metadata": {}
        }
      ],
      "source": [
        "plot_loss_accuracy(hist_dense_ft)"
      ]
    },
    {
      "cell_type": "markdown",
      "metadata": {
        "id": "sK8LlIsZHI-l"
      },
      "source": [
        "## LSTM"
      ]
    },
    {
      "cell_type": "markdown",
      "source": [
        "Kita akan menggunakan model Long Short-Term Memory (LSTM) untuk melatih model dengan ketiga jenis feature extraction. Pada model LSTM ini, input dari feature extraction akan diubah terlebih dahulu menjadi format sekuensial menggunakan lapisan Reshape. Kemudian, terdapat satu lapisan LSTM dengan 128 unit yang akan memproses sekuens tersebut. Dropout sebesar 0.2 diterapkan setelah lapisan LSTM untuk mencegah overfitting. Lapisan dense terakhir memiliki 3 neuron dengan aktivasi 'softmax' untuk klasifikasi sentimen. Digunakan juga batch size sebesar 32 untuk membagi data latih selama proses pelatihan. Terdapat juga callbacks dengan fungsi yang dibuat untuk mengontrol jalannya pelatihan berdasarkan metrik tertentu. Kemudian, hasil training model LSTM disimpan pada variabel hist_lstm_w2v, dan kemudian dilakukan visualisasi untuk memahami dinamika loss dan akurasi selama pelatihan."
      ],
      "metadata": {
        "id": "yOLTrZAsNp2O"
      }
    },
    {
      "cell_type": "markdown",
      "metadata": {
        "id": "12PfORH6HLdi"
      },
      "source": [
        "### TF-IDF"
      ]
    },
    {
      "cell_type": "code",
      "execution_count": 45,
      "metadata": {
        "colab": {
          "base_uri": "https://localhost:8080/"
        },
        "id": "sq4DkQzynji3",
        "outputId": "110eae02-4152-4bf9-c1f6-3aae4f03b861"
      },
      "outputs": [
        {
          "output_type": "stream",
          "name": "stderr",
          "text": [
            "/usr/local/lib/python3.11/dist-packages/keras/src/layers/reshaping/reshape.py:39: UserWarning: Do not pass an `input_shape`/`input_dim` argument to a layer. When using Sequential models, prefer using an `Input(shape)` object as the first layer in the model instead.\n",
            "  super().__init__(**kwargs)\n"
          ]
        },
        {
          "output_type": "stream",
          "name": "stdout",
          "text": [
            "Epoch 1/10\n",
            "\u001b[1m1378/1378\u001b[0m \u001b[32m━━━━━━━━━━━━━━━━━━━━\u001b[0m\u001b[37m\u001b[0m \u001b[1m10s\u001b[0m 5ms/step - accuracy: 0.7599 - loss: 0.6063\n",
            "Epoch 2/10\n",
            "\u001b[1m1370/1378\u001b[0m \u001b[32m━━━━━━━━━━━━━━━━━━━\u001b[0m\u001b[37m━\u001b[0m \u001b[1m0s\u001b[0m 5ms/step - accuracy: 0.9286 - loss: 0.2007\n",
            "Akurasi telah mencapai 92%!\n",
            "\u001b[1m1378/1378\u001b[0m \u001b[32m━━━━━━━━━━━━━━━━━━━━\u001b[0m\u001b[37m\u001b[0m \u001b[1m7s\u001b[0m 5ms/step - accuracy: 0.9286 - loss: 0.2007\n",
            "Test Accuracy: 0.9241\n",
            "\u001b[1m345/345\u001b[0m \u001b[32m━━━━━━━━━━━━━━━━━━━━\u001b[0m\u001b[37m\u001b[0m \u001b[1m1s\u001b[0m 2ms/step\n",
            "              precision    recall  f1-score   support\n",
            "\n",
            "           0       0.89      0.94      0.92      3346\n",
            "           1       0.80      0.24      0.37       620\n",
            "           2       0.94      0.97      0.96      7055\n",
            "\n",
            "    accuracy                           0.92     11021\n",
            "   macro avg       0.88      0.72      0.75     11021\n",
            "weighted avg       0.92      0.92      0.91     11021\n",
            "\n"
          ]
        }
      ],
      "source": [
        "# 4. LSTM dengan TF-IDF\n",
        "lstm_tfidf = Sequential([\n",
        "    Reshape((1, X_train_tfidf.shape[1]), input_shape=(X_train_tfidf.shape[1],)),\n",
        "    LSTM(128, return_sequences=False),\n",
        "    Dropout(0.2),\n",
        "    Dense(3, activation='softmax')\n",
        "])\n",
        "lstm_tfidf.compile(optimizer='adam', loss='sparse_categorical_crossentropy', metrics=['accuracy'])\n",
        "hist_lstm_tfidf = lstm_tfidf.fit(X_train_tfidf, y_train, epochs=10, batch_size=32, callbacks=[callbacks])\n",
        "evaluate_model(lstm_tfidf, X_test_tfidf, y_test)"
      ]
    },
    {
      "cell_type": "code",
      "execution_count": 46,
      "metadata": {
        "colab": {
          "base_uri": "https://localhost:8080/",
          "height": 607
        },
        "id": "1YT9KK3MHdD2",
        "outputId": "11fbb919-27c8-443e-a206-4fc4cc8579f6"
      },
      "outputs": [
        {
          "output_type": "display_data",
          "data": {
            "text/plain": [
              "<Figure size 1200x600 with 2 Axes>"
            ],
            "image/png": "[encoded data removed]"
          },
          "metadata": {}
        }
      ],
      "source": [
        "plot_loss_accuracy(hist_lstm_tfidf)"
      ]
    },
    {
      "cell_type": "markdown",
      "metadata": {
        "id": "4_m1p6Kjzom1"
      },
      "source": [
        "### Word2Vector"
      ]
    },
    {
      "cell_type": "code",
      "execution_count": 47,
      "metadata": {
        "colab": {
          "base_uri": "https://localhost:8080/"
        },
        "id": "RX2b3d92njWY",
        "outputId": "79e9a1b8-add4-4c02-e7db-d4a13327677a"
      },
      "outputs": [
        {
          "output_type": "stream",
          "name": "stdout",
          "text": [
            "Epoch 1/10\n"
          ]
        },
        {
          "output_type": "stream",
          "name": "stderr",
          "text": [
            "/usr/local/lib/python3.11/dist-packages/keras/src/layers/reshaping/reshape.py:39: UserWarning: Do not pass an `input_shape`/`input_dim` argument to a layer. When using Sequential models, prefer using an `Input(shape)` object as the first layer in the model instead.\n",
            "  super().__init__(**kwargs)\n"
          ]
        },
        {
          "output_type": "stream",
          "name": "stdout",
          "text": [
            "\u001b[1m1378/1378\u001b[0m \u001b[32m━━━━━━━━━━━━━━━━━━━━\u001b[0m\u001b[37m\u001b[0m \u001b[1m8s\u001b[0m 5ms/step - accuracy: 0.6427 - loss: 0.8161\n",
            "Epoch 2/10\n",
            "\u001b[1m1378/1378\u001b[0m \u001b[32m━━━━━━━━━━━━━━━━━━━━\u001b[0m\u001b[37m\u001b[0m \u001b[1m6s\u001b[0m 4ms/step - accuracy: 0.6440 - loss: 0.8018\n",
            "Epoch 3/10\n",
            "\u001b[1m1378/1378\u001b[0m \u001b[32m━━━━━━━━━━━━━━━━━━━━\u001b[0m\u001b[37m\u001b[0m \u001b[1m10s\u001b[0m 4ms/step - accuracy: 0.6443 - loss: 0.8013\n",
            "Epoch 4/10\n",
            "\u001b[1m1378/1378\u001b[0m \u001b[32m━━━━━━━━━━━━━━━━━━━━\u001b[0m\u001b[37m\u001b[0m \u001b[1m6s\u001b[0m 5ms/step - accuracy: 0.6433 - loss: 0.8036\n",
            "Epoch 5/10\n",
            "\u001b[1m1378/1378\u001b[0m \u001b[32m━━━━━━━━━━━━━━━━━━━━\u001b[0m\u001b[37m\u001b[0m \u001b[1m6s\u001b[0m 4ms/step - accuracy: 0.6457 - loss: 0.8003\n",
            "Epoch 6/10\n",
            "\u001b[1m1378/1378\u001b[0m \u001b[32m━━━━━━━━━━━━━━━━━━━━\u001b[0m\u001b[37m\u001b[0m \u001b[1m6s\u001b[0m 5ms/step - accuracy: 0.6420 - loss: 0.8054\n",
            "Epoch 7/10\n",
            "\u001b[1m1378/1378\u001b[0m \u001b[32m━━━━━━━━━━━━━━━━━━━━\u001b[0m\u001b[37m\u001b[0m \u001b[1m6s\u001b[0m 4ms/step - accuracy: 0.6430 - loss: 0.7997\n",
            "Epoch 8/10\n",
            "\u001b[1m1378/1378\u001b[0m \u001b[32m━━━━━━━━━━━━━━━━━━━━\u001b[0m\u001b[37m\u001b[0m \u001b[1m10s\u001b[0m 4ms/step - accuracy: 0.6449 - loss: 0.7934\n",
            "Epoch 9/10\n",
            "\u001b[1m1378/1378\u001b[0m \u001b[32m━━━━━━━━━━━━━━━━━━━━\u001b[0m\u001b[37m\u001b[0m \u001b[1m10s\u001b[0m 4ms/step - accuracy: 0.6420 - loss: 0.7990\n",
            "Epoch 10/10\n",
            "\u001b[1m1378/1378\u001b[0m \u001b[32m━━━━━━━━━━━━━━━━━━━━\u001b[0m\u001b[37m\u001b[0m \u001b[1m6s\u001b[0m 5ms/step - accuracy: 0.6441 - loss: 0.8002\n",
            "Test Accuracy: 0.6399\n",
            "\u001b[1m345/345\u001b[0m \u001b[32m━━━━━━━━━━━━━━━━━━━━\u001b[0m\u001b[37m\u001b[0m \u001b[1m1s\u001b[0m 2ms/step\n",
            "              precision    recall  f1-score   support\n",
            "\n",
            "           0       0.29      0.00      0.00      3346\n",
            "           1       0.00      0.00      0.00       620\n",
            "           2       0.64      1.00      0.78      7055\n",
            "\n",
            "    accuracy                           0.64     11021\n",
            "   macro avg       0.31      0.33      0.26     11021\n",
            "weighted avg       0.50      0.64      0.50     11021\n",
            "\n"
          ]
        }
      ],
      "source": [
        "# 5. LSTM dengan Word2Vec\n",
        "lstm_w2v = Sequential([\n",
        "    Reshape((1, X_train_w2v.shape[1]), input_shape=(X_train_w2v.shape[1],)),\n",
        "    LSTM(128, return_sequences=False),\n",
        "    Dropout(0.2),\n",
        "    Dense(3, activation='softmax')\n",
        "])\n",
        "lstm_w2v.compile(optimizer='adam', loss='sparse_categorical_crossentropy', metrics=['accuracy'])\n",
        "hist_lstm_w2v = lstm_w2v.fit(X_train_w2v, y_train, epochs=10, batch_size=32, callbacks=[callbacks])\n",
        "evaluate_model(lstm_w2v, X_test_w2v, y_test)"
      ]
    },
    {
      "cell_type": "code",
      "execution_count": 48,
      "metadata": {
        "colab": {
          "base_uri": "https://localhost:8080/",
          "height": 607
        },
        "id": "MzH6SDOpziua",
        "outputId": "4940b1e8-b4b3-4f22-a82a-a70541815bf1"
      },
      "outputs": [
        {
          "output_type": "display_data",
          "data": {
            "text/plain": [
              "<Figure size 1200x600 with 2 Axes>"
            ],
            "image/png": "[encoded data removed]"
          },
          "metadata": {}
        }
      ],
      "source": [
        "plot_loss_accuracy(hist_lstm_w2v)"
      ]
    },
    {
      "cell_type": "markdown",
      "metadata": {
        "id": "IvY8wr1OzkJV"
      },
      "source": [
        "### FastText"
      ]
    },
    {
      "cell_type": "code",
      "execution_count": 49,
      "metadata": {
        "colab": {
          "base_uri": "https://localhost:8080/"
        },
        "id": "BF3JN8U2nrIB",
        "outputId": "061d5b70-13d0-4935-89f5-048d895ea3c2"
      },
      "outputs": [
        {
          "output_type": "stream",
          "name": "stdout",
          "text": [
            "Epoch 1/10\n"
          ]
        },
        {
          "output_type": "stream",
          "name": "stderr",
          "text": [
            "/usr/local/lib/python3.11/dist-packages/keras/src/layers/reshaping/reshape.py:39: UserWarning: Do not pass an `input_shape`/`input_dim` argument to a layer. When using Sequential models, prefer using an `Input(shape)` object as the first layer in the model instead.\n",
            "  super().__init__(**kwargs)\n"
          ]
        },
        {
          "output_type": "stream",
          "name": "stdout",
          "text": [
            "\u001b[1m1378/1378\u001b[0m \u001b[32m━━━━━━━━━━━━━━━━━━━━\u001b[0m\u001b[37m\u001b[0m \u001b[1m7s\u001b[0m 5ms/step - accuracy: 0.6428 - loss: 0.8153\n",
            "Epoch 2/10\n",
            "\u001b[1m1378/1378\u001b[0m \u001b[32m━━━━━━━━━━━━━━━━━━━━\u001b[0m\u001b[37m\u001b[0m \u001b[1m6s\u001b[0m 4ms/step - accuracy: 0.6433 - loss: 0.8057\n",
            "Epoch 3/10\n",
            "\u001b[1m1378/1378\u001b[0m \u001b[32m━━━━━━━━━━━━━━━━━━━━\u001b[0m\u001b[37m\u001b[0m \u001b[1m6s\u001b[0m 5ms/step - accuracy: 0.6460 - loss: 0.8017\n",
            "Epoch 4/10\n",
            "\u001b[1m1378/1378\u001b[0m \u001b[32m━━━━━━━━━━━━━━━━━━━━\u001b[0m\u001b[37m\u001b[0m \u001b[1m6s\u001b[0m 4ms/step - accuracy: 0.6459 - loss: 0.7984\n",
            "Epoch 5/10\n",
            "\u001b[1m1378/1378\u001b[0m \u001b[32m━━━━━━━━━━━━━━━━━━━━\u001b[0m\u001b[37m\u001b[0m \u001b[1m6s\u001b[0m 5ms/step - accuracy: 0.6483 - loss: 0.8001\n",
            "Epoch 6/10\n",
            "\u001b[1m1378/1378\u001b[0m \u001b[32m━━━━━━━━━━━━━━━━━━━━\u001b[0m\u001b[37m\u001b[0m \u001b[1m10s\u001b[0m 4ms/step - accuracy: 0.6433 - loss: 0.8026\n",
            "Epoch 7/10\n",
            "\u001b[1m1378/1378\u001b[0m \u001b[32m━━━━━━━━━━━━━━━━━━━━\u001b[0m\u001b[37m\u001b[0m \u001b[1m10s\u001b[0m 4ms/step - accuracy: 0.6501 - loss: 0.7965\n",
            "Epoch 8/10\n",
            "\u001b[1m1378/1378\u001b[0m \u001b[32m━━━━━━━━━━━━━━━━━━━━\u001b[0m\u001b[37m\u001b[0m \u001b[1m10s\u001b[0m 4ms/step - accuracy: 0.6453 - loss: 0.8006\n",
            "Epoch 9/10\n",
            "\u001b[1m1378/1378\u001b[0m \u001b[32m━━━━━━━━━━━━━━━━━━━━\u001b[0m\u001b[37m\u001b[0m \u001b[1m10s\u001b[0m 4ms/step - accuracy: 0.6447 - loss: 0.8025\n",
            "Epoch 10/10\n",
            "\u001b[1m1378/1378\u001b[0m \u001b[32m━━━━━━━━━━━━━━━━━━━━\u001b[0m\u001b[37m\u001b[0m \u001b[1m6s\u001b[0m 5ms/step - accuracy: 0.6455 - loss: 0.7969\n",
            "Test Accuracy: 0.6401\n",
            "\u001b[1m345/345\u001b[0m \u001b[32m━━━━━━━━━━━━━━━━━━━━\u001b[0m\u001b[37m\u001b[0m \u001b[1m1s\u001b[0m 2ms/step\n",
            "              precision    recall  f1-score   support\n",
            "\n",
            "           0       0.50      0.00      0.00      3346\n",
            "           1       0.00      0.00      0.00       620\n",
            "           2       0.64      1.00      0.78      7055\n",
            "\n",
            "    accuracy                           0.64     11021\n",
            "   macro avg       0.38      0.33      0.26     11021\n",
            "weighted avg       0.56      0.64      0.50     11021\n",
            "\n"
          ]
        },
        {
          "output_type": "stream",
          "name": "stderr",
          "text": [
            "/usr/local/lib/python3.11/dist-packages/sklearn/metrics/_classification.py:1565: UndefinedMetricWarning: Precision is ill-defined and being set to 0.0 in labels with no predicted samples. Use `zero_division` parameter to control this behavior.\n",
            "  _warn_prf(average, modifier, f\"{metric.capitalize()} is\", len(result))\n",
            "/usr/local/lib/python3.11/dist-packages/sklearn/metrics/_classification.py:1565: UndefinedMetricWarning: Precision is ill-defined and being set to 0.0 in labels with no predicted samples. Use `zero_division` parameter to control this behavior.\n",
            "  _warn_prf(average, modifier, f\"{metric.capitalize()} is\", len(result))\n",
            "/usr/local/lib/python3.11/dist-packages/sklearn/metrics/_classification.py:1565: UndefinedMetricWarning: Precision is ill-defined and being set to 0.0 in labels with no predicted samples. Use `zero_division` parameter to control this behavior.\n",
            "  _warn_prf(average, modifier, f\"{metric.capitalize()} is\", len(result))\n"
          ]
        }
      ],
      "source": [
        "# 6. LSTM dengan FastText\n",
        "lstm_ft = Sequential([\n",
        "    Reshape((1, X_train_ft.shape[1]), input_shape=(X_train_ft.shape[1],)),\n",
        "    LSTM(128, return_sequences=False),\n",
        "    Dropout(0.2),\n",
        "    Dense(3, activation='softmax')\n",
        "])\n",
        "lstm_ft.compile(optimizer='adam', loss='sparse_categorical_crossentropy', metrics=['accuracy'])\n",
        "hist_lstm_ft = lstm_ft.fit(X_train_ft, y_train, epochs=10, batch_size=32, callbacks=[callbacks])\n",
        "evaluate_model(lstm_ft, X_test_ft, y_test)"
      ]
    },
    {
      "cell_type": "code",
      "execution_count": 50,
      "metadata": {
        "colab": {
          "base_uri": "https://localhost:8080/",
          "height": 607
        },
        "id": "HOSNuy0F0BjQ",
        "outputId": "ff3be452-53b5-4b74-b276-30ca445f13a0"
      },
      "outputs": [
        {
          "output_type": "display_data",
          "data": {
            "text/plain": [
              "<Figure size 1200x600 with 2 Axes>"
            ],
            "image/png": "[encoded data removed]"
          },
          "metadata": {}
        }
      ],
      "source": [
        "plot_loss_accuracy(hist_lstm_ft)"
      ]
    },
    {
      "cell_type": "markdown",
      "metadata": {
        "id": "WT-bOsMn0FaA"
      },
      "source": [
        "## GRU"
      ]
    },
    {
      "cell_type": "markdown",
      "source": [
        "Kita akan menggunakan model Gated Recurrent Unit (GRU) untuk melatih model dengan ketiga jenis feature extraction. Mirip dengan LSTM, input dari feature extraction akan diubah menjadi format sekuensial menggunakan lapisan Reshape. Model GRU ini memiliki satu lapisan GRU dengan 128 unit untuk memproses data sekuensial. Dropout sebesar 0.2 diterapkan setelah lapisan GRU untuk regularisasi. Lapisan output adalah lapisan dense dengan 3 neuron dan fungsi aktivasi 'softmax' untuk menghasilkan prediksi sentimen. Digunakan juga batch size sebesar 32 selama proses pelatihan. Terdapat juga callbacks dengan fungsi yang telah didefinisikan sebelumnya untuk mengatur proses pelatihan. Kemudian, hasil training model GRU disimpan pada variabel hist_gru_ft, dan kemudian dilakukan visualisasi untuk mengevaluasi kemajuan pelatihan melalui grafik loss dan akurasi."
      ],
      "metadata": {
        "id": "-pKmPF_hN1R8"
      }
    },
    {
      "cell_type": "markdown",
      "metadata": {
        "id": "qa1QFthZ0IqP"
      },
      "source": [
        "### TF-IDF"
      ]
    },
    {
      "cell_type": "code",
      "execution_count": 51,
      "metadata": {
        "colab": {
          "base_uri": "https://localhost:8080/"
        },
        "id": "bGzGsHhHnt-V",
        "outputId": "0a448d58-2f60-44d7-c3bb-8a06ae3bea9d"
      },
      "outputs": [
        {
          "output_type": "stream",
          "name": "stderr",
          "text": [
            "/usr/local/lib/python3.11/dist-packages/keras/src/layers/reshaping/reshape.py:39: UserWarning: Do not pass an `input_shape`/`input_dim` argument to a layer. When using Sequential models, prefer using an `Input(shape)` object as the first layer in the model instead.\n",
            "  super().__init__(**kwargs)\n"
          ]
        },
        {
          "output_type": "stream",
          "name": "stdout",
          "text": [
            "Epoch 1/10\n",
            "\u001b[1m1378/1378\u001b[0m \u001b[32m━━━━━━━━━━━━━━━━━━━━\u001b[0m\u001b[37m\u001b[0m \u001b[1m8s\u001b[0m 5ms/step - accuracy: 0.7744 - loss: 0.5659\n",
            "Epoch 2/10\n",
            "\u001b[1m1371/1378\u001b[0m \u001b[32m━━━━━━━━━━━━━━━━━━━\u001b[0m\u001b[37m━\u001b[0m \u001b[1m0s\u001b[0m 4ms/step - accuracy: 0.9257 - loss: 0.2056\n",
            "Akurasi telah mencapai 92%!\n",
            "\u001b[1m1378/1378\u001b[0m \u001b[32m━━━━━━━━━━━━━━━━━━━━\u001b[0m\u001b[37m\u001b[0m \u001b[1m10s\u001b[0m 4ms/step - accuracy: 0.9257 - loss: 0.2056\n",
            "Test Accuracy: 0.9210\n",
            "\u001b[1m345/345\u001b[0m \u001b[32m━━━━━━━━━━━━━━━━━━━━\u001b[0m\u001b[37m\u001b[0m \u001b[1m1s\u001b[0m 2ms/step\n",
            "              precision    recall  f1-score   support\n",
            "\n",
            "           0       0.91      0.92      0.92      3346\n",
            "           1       0.73      0.26      0.39       620\n",
            "           2       0.93      0.98      0.95      7055\n",
            "\n",
            "    accuracy                           0.92     11021\n",
            "   macro avg       0.86      0.72      0.75     11021\n",
            "weighted avg       0.91      0.92      0.91     11021\n",
            "\n"
          ]
        }
      ],
      "source": [
        "# 7. GRU dengan TF-IDF\n",
        "gru_tfidf = Sequential([\n",
        "    Reshape((1, X_train_tfidf.shape[1]), input_shape=(X_train_tfidf.shape[1],)),\n",
        "    GRU(128, return_sequences=False),\n",
        "    Dropout(0.2),\n",
        "    Dense(3, activation='softmax')\n",
        "])\n",
        "gru_tfidf.compile(optimizer='adam', loss='sparse_categorical_crossentropy', metrics=['accuracy'])\n",
        "hist_gru_tfidf = gru_tfidf.fit(X_train_tfidf, y_train, epochs=10, batch_size=32, callbacks=[callbacks])\n",
        "evaluate_model(gru_tfidf, X_test_tfidf, y_test)"
      ]
    },
    {
      "cell_type": "code",
      "execution_count": 52,
      "metadata": {
        "colab": {
          "base_uri": "https://localhost:8080/",
          "height": 607
        },
        "id": "4om0niD40vTs",
        "outputId": "33f9515c-1ba0-4ef2-e824-8c6c80cc3804"
      },
      "outputs": [
        {
          "output_type": "display_data",
          "data": {
            "text/plain": [
              "<Figure size 1200x600 with 2 Axes>"
            ],
            "image/png": "[encoded data removed]"
          },
          "metadata": {}
        }
      ],
      "source": [
        "plot_loss_accuracy(hist_gru_tfidf)"
      ]
    },
    {
      "cell_type": "markdown",
      "metadata": {
        "id": "-HjgtS2V0rEe"
      },
      "source": [
        "## Word2Vector"
      ]
    },
    {
      "cell_type": "code",
      "execution_count": 53,
      "metadata": {
        "colab": {
          "base_uri": "https://localhost:8080/"
        },
        "id": "jB-_mf4-ntv4",
        "outputId": "75296920-31d3-4c9b-f1a3-0fd7cb05c33b"
      },
      "outputs": [
        {
          "output_type": "stream",
          "name": "stderr",
          "text": [
            "/usr/local/lib/python3.11/dist-packages/keras/src/layers/reshaping/reshape.py:39: UserWarning: Do not pass an `input_shape`/`input_dim` argument to a layer. When using Sequential models, prefer using an `Input(shape)` object as the first layer in the model instead.\n",
            "  super().__init__(**kwargs)\n"
          ]
        },
        {
          "output_type": "stream",
          "name": "stdout",
          "text": [
            "Epoch 1/10\n",
            "\u001b[1m1378/1378\u001b[0m \u001b[32m━━━━━━━━━━━━━━━━━━━━\u001b[0m\u001b[37m\u001b[0m \u001b[1m7s\u001b[0m 4ms/step - accuracy: 0.6429 - loss: 0.8173\n",
            "Epoch 2/10\n",
            "\u001b[1m1378/1378\u001b[0m \u001b[32m━━━━━━━━━━━━━━━━━━━━\u001b[0m\u001b[37m\u001b[0m \u001b[1m6s\u001b[0m 5ms/step - accuracy: 0.6461 - loss: 0.8024\n",
            "Epoch 3/10\n",
            "\u001b[1m1378/1378\u001b[0m \u001b[32m━━━━━━━━━━━━━━━━━━━━\u001b[0m\u001b[37m\u001b[0m \u001b[1m10s\u001b[0m 5ms/step - accuracy: 0.6437 - loss: 0.8039\n",
            "Epoch 4/10\n",
            "\u001b[1m1378/1378\u001b[0m \u001b[32m━━━━━━━━━━━━━━━━━━━━\u001b[0m\u001b[37m\u001b[0m \u001b[1m10s\u001b[0m 4ms/step - accuracy: 0.6485 - loss: 0.7987\n",
            "Epoch 5/10\n",
            "\u001b[1m1378/1378\u001b[0m \u001b[32m━━━━━━━━━━━━━━━━━━━━\u001b[0m\u001b[37m\u001b[0m \u001b[1m10s\u001b[0m 4ms/step - accuracy: 0.6428 - loss: 0.8025\n",
            "Epoch 6/10\n",
            "\u001b[1m1378/1378\u001b[0m \u001b[32m━━━━━━━━━━━━━━━━━━━━\u001b[0m\u001b[37m\u001b[0m \u001b[1m10s\u001b[0m 4ms/step - accuracy: 0.6420 - loss: 0.7999\n",
            "Epoch 7/10\n",
            "\u001b[1m1378/1378\u001b[0m \u001b[32m━━━━━━━━━━━━━━━━━━━━\u001b[0m\u001b[37m\u001b[0m \u001b[1m10s\u001b[0m 4ms/step - accuracy: 0.6467 - loss: 0.7969\n",
            "Epoch 8/10\n",
            "\u001b[1m1378/1378\u001b[0m \u001b[32m━━━━━━━━━━━━━━━━━━━━\u001b[0m\u001b[37m\u001b[0m \u001b[1m10s\u001b[0m 4ms/step - accuracy: 0.6452 - loss: 0.8009\n",
            "Epoch 9/10\n",
            "\u001b[1m1378/1378\u001b[0m \u001b[32m━━━━━━━━━━━━━━━━━━━━\u001b[0m\u001b[37m\u001b[0m \u001b[1m6s\u001b[0m 5ms/step - accuracy: 0.6390 - loss: 0.8046\n",
            "Epoch 10/10\n",
            "\u001b[1m1378/1378\u001b[0m \u001b[32m━━━━━━━━━━━━━━━━━━━━\u001b[0m\u001b[37m\u001b[0m \u001b[1m6s\u001b[0m 4ms/step - accuracy: 0.6429 - loss: 0.7988\n",
            "Test Accuracy: 0.6401\n",
            "\u001b[1m345/345\u001b[0m \u001b[32m━━━━━━━━━━━━━━━━━━━━\u001b[0m\u001b[37m\u001b[0m \u001b[1m1s\u001b[0m 2ms/step\n",
            "              precision    recall  f1-score   support\n",
            "\n",
            "           0       0.00      0.00      0.00      3346\n",
            "           1       0.00      0.00      0.00       620\n",
            "           2       0.64      1.00      0.78      7055\n",
            "\n",
            "    accuracy                           0.64     11021\n",
            "   macro avg       0.21      0.33      0.26     11021\n",
            "weighted avg       0.41      0.64      0.50     11021\n",
            "\n"
          ]
        },
        {
          "output_type": "stream",
          "name": "stderr",
          "text": [
            "/usr/local/lib/python3.11/dist-packages/sklearn/metrics/_classification.py:1565: UndefinedMetricWarning: Precision is ill-defined and being set to 0.0 in labels with no predicted samples. Use `zero_division` parameter to control this behavior.\n",
            "  _warn_prf(average, modifier, f\"{metric.capitalize()} is\", len(result))\n",
            "/usr/local/lib/python3.11/dist-packages/sklearn/metrics/_classification.py:1565: UndefinedMetricWarning: Precision is ill-defined and being set to 0.0 in labels with no predicted samples. Use `zero_division` parameter to control this behavior.\n",
            "  _warn_prf(average, modifier, f\"{metric.capitalize()} is\", len(result))\n",
            "/usr/local/lib/python3.11/dist-packages/sklearn/metrics/_classification.py:1565: UndefinedMetricWarning: Precision is ill-defined and being set to 0.0 in labels with no predicted samples. Use `zero_division` parameter to control this behavior.\n",
            "  _warn_prf(average, modifier, f\"{metric.capitalize()} is\", len(result))\n"
          ]
        }
      ],
      "source": [
        "# 8. GRU dengan Word2Vec\n",
        "gru_w2v = Sequential([\n",
        "    Reshape((1, X_train_w2v.shape[1]), input_shape=(X_train_w2v.shape[1],)),\n",
        "    GRU(128, return_sequences=False),\n",
        "    Dropout(0.2),\n",
        "    Dense(3, activation='softmax')\n",
        "])\n",
        "gru_w2v.compile(optimizer='adam', loss='sparse_categorical_crossentropy', metrics=['accuracy'])\n",
        "hist_gru_w2v = gru_w2v.fit(X_train_w2v, y_train, epochs=10, batch_size=32, callbacks=[callbacks])\n",
        "evaluate_model(gru_w2v, X_test_w2v, y_test)"
      ]
    },
    {
      "cell_type": "code",
      "execution_count": 54,
      "metadata": {
        "id": "szIsuDm81P3f",
        "colab": {
          "base_uri": "https://localhost:8080/",
          "height": 607
        },
        "outputId": "b8c55c1d-5c59-4c86-a62d-53922b4b87d4"
      },
      "outputs": [
        {
          "output_type": "display_data",
          "data": {
            "text/plain": [
              "<Figure size 1200x600 with 2 Axes>"
            ],
            "image/png": "[encoded data removed]"
          },
          "metadata": {}
        }
      ],
      "source": [
        "plot_loss_accuracy(hist_gru_w2v)"
      ]
    },
    {
      "cell_type": "markdown",
      "metadata": {
        "id": "5IDGriHm1RrC"
      },
      "source": [
        "## FastText"
      ]
    },
    {
      "cell_type": "code",
      "execution_count": 55,
      "metadata": {
        "colab": {
          "base_uri": "https://localhost:8080/"
        },
        "id": "U2beFecante4",
        "outputId": "eb3b3dfe-4931-4673-a63d-eec8d0424e8c"
      },
      "outputs": [
        {
          "output_type": "stream",
          "name": "stdout",
          "text": [
            "Epoch 1/10\n"
          ]
        },
        {
          "output_type": "stream",
          "name": "stderr",
          "text": [
            "/usr/local/lib/python3.11/dist-packages/keras/src/layers/reshaping/reshape.py:39: UserWarning: Do not pass an `input_shape`/`input_dim` argument to a layer. When using Sequential models, prefer using an `Input(shape)` object as the first layer in the model instead.\n",
            "  super().__init__(**kwargs)\n"
          ]
        },
        {
          "output_type": "stream",
          "name": "stdout",
          "text": [
            "\u001b[1m1378/1378\u001b[0m \u001b[32m━━━━━━━━━━━━━━━━━━━━\u001b[0m\u001b[37m\u001b[0m \u001b[1m8s\u001b[0m 5ms/step - accuracy: 0.6399 - loss: 0.8189\n",
            "Epoch 2/10\n",
            "\u001b[1m1378/1378\u001b[0m \u001b[32m━━━━━━━━━━━━━━━━━━━━\u001b[0m\u001b[37m\u001b[0m \u001b[1m10s\u001b[0m 5ms/step - accuracy: 0.6451 - loss: 0.8029\n",
            "Epoch 3/10\n",
            "\u001b[1m1378/1378\u001b[0m \u001b[32m━━━━━━━━━━━━━━━━━━━━\u001b[0m\u001b[37m\u001b[0m \u001b[1m6s\u001b[0m 4ms/step - accuracy: 0.6404 - loss: 0.8083\n",
            "Epoch 4/10\n",
            "\u001b[1m1378/1378\u001b[0m \u001b[32m━━━━━━━━━━━━━━━━━━━━\u001b[0m\u001b[37m\u001b[0m \u001b[1m6s\u001b[0m 5ms/step - accuracy: 0.6470 - loss: 0.8009\n",
            "Epoch 5/10\n",
            "\u001b[1m1378/1378\u001b[0m \u001b[32m━━━━━━━━━━━━━━━━━━━━\u001b[0m\u001b[37m\u001b[0m \u001b[1m10s\u001b[0m 5ms/step - accuracy: 0.6431 - loss: 0.8014\n",
            "Epoch 6/10\n",
            "\u001b[1m1378/1378\u001b[0m \u001b[32m━━━━━━━━━━━━━━━━━━━━\u001b[0m\u001b[37m\u001b[0m \u001b[1m6s\u001b[0m 4ms/step - accuracy: 0.6429 - loss: 0.8071\n",
            "Epoch 7/10\n",
            "\u001b[1m1378/1378\u001b[0m \u001b[32m━━━━━━━━━━━━━━━━━━━━\u001b[0m\u001b[37m\u001b[0m \u001b[1m6s\u001b[0m 5ms/step - accuracy: 0.6477 - loss: 0.7974\n",
            "Epoch 8/10\n",
            "\u001b[1m1378/1378\u001b[0m \u001b[32m━━━━━━━━━━━━━━━━━━━━\u001b[0m\u001b[37m\u001b[0m \u001b[1m10s\u001b[0m 4ms/step - accuracy: 0.6423 - loss: 0.8023\n",
            "Epoch 9/10\n",
            "\u001b[1m1378/1378\u001b[0m \u001b[32m━━━━━━━━━━━━━━━━━━━━\u001b[0m\u001b[37m\u001b[0m \u001b[1m6s\u001b[0m 5ms/step - accuracy: 0.6458 - loss: 0.7999\n",
            "Epoch 10/10\n",
            "\u001b[1m1378/1378\u001b[0m \u001b[32m━━━━━━━━━━━━━━━━━━━━\u001b[0m\u001b[37m\u001b[0m \u001b[1m10s\u001b[0m 5ms/step - accuracy: 0.6466 - loss: 0.7993\n",
            "Test Accuracy: 0.6401\n",
            "\u001b[1m345/345\u001b[0m \u001b[32m━━━━━━━━━━━━━━━━━━━━\u001b[0m\u001b[37m\u001b[0m \u001b[1m1s\u001b[0m 2ms/step\n",
            "              precision    recall  f1-score   support\n",
            "\n",
            "           0       0.00      0.00      0.00      3346\n",
            "           1       0.00      0.00      0.00       620\n",
            "           2       0.64      1.00      0.78      7055\n",
            "\n",
            "    accuracy                           0.64     11021\n",
            "   macro avg       0.21      0.33      0.26     11021\n",
            "weighted avg       0.41      0.64      0.50     11021\n",
            "\n"
          ]
        },
        {
          "output_type": "stream",
          "name": "stderr",
          "text": [
            "/usr/local/lib/python3.11/dist-packages/sklearn/metrics/_classification.py:1565: UndefinedMetricWarning: Precision is ill-defined and being set to 0.0 in labels with no predicted samples. Use `zero_division` parameter to control this behavior.\n",
            "  _warn_prf(average, modifier, f\"{metric.capitalize()} is\", len(result))\n",
            "/usr/local/lib/python3.11/dist-packages/sklearn/metrics/_classification.py:1565: UndefinedMetricWarning: Precision is ill-defined and being set to 0.0 in labels with no predicted samples. Use `zero_division` parameter to control this behavior.\n",
            "  _warn_prf(average, modifier, f\"{metric.capitalize()} is\", len(result))\n",
            "/usr/local/lib/python3.11/dist-packages/sklearn/metrics/_classification.py:1565: UndefinedMetricWarning: Precision is ill-defined and being set to 0.0 in labels with no predicted samples. Use `zero_division` parameter to control this behavior.\n",
            "  _warn_prf(average, modifier, f\"{metric.capitalize()} is\", len(result))\n"
          ]
        }
      ],
      "source": [
        "# 9. GRU dengan FastText\n",
        "gru_ft = Sequential([\n",
        "    Reshape((1, X_train_ft.shape[1]), input_shape=(X_train_ft.shape[1],)),\n",
        "    GRU(128, return_sequences=False),\n",
        "    Dropout(0.2),\n",
        "    Dense(3, activation='softmax')\n",
        "])\n",
        "gru_ft.compile(optimizer='adam', loss='sparse_categorical_crossentropy', metrics=['accuracy'])\n",
        "hist_gru_ft = gru_ft.fit(X_train_ft, y_train, epochs=10, batch_size=32, callbacks=[callbacks])\n",
        "evaluate_model(gru_ft, X_test_ft, y_test)"
      ]
    },
    {
      "cell_type": "code",
      "source": [
        "plot_loss_accuracy(hist_gru_ft)"
      ],
      "metadata": {
        "colab": {
          "base_uri": "https://localhost:8080/",
          "height": 607
        },
        "id": "4gubMAgjW10f",
        "outputId": "c0d0cd48-62f4-42a3-ec51-c635ab5470e2"
      },
      "execution_count": 56,
      "outputs": [
        {
          "output_type": "display_data",
          "data": {
            "text/plain": [
              "<Figure size 1200x600 with 2 Axes>"
            ],
            "image/png": "[encoded data removed]"
          },
          "metadata": {}
        }
      ]
    },
    {
      "cell_type": "markdown",
      "metadata": {
        "id": "BIE3sIoqOKZH"
      },
      "source": [
        "# Model Evaluation"
      ]
    },
    {
      "cell_type": "markdown",
      "source": [
        "Bagian evaluasi ini mengumpulkan akurasi pelatihan dan pengujian dari semua model (Dense, LSTM, GRU) dengan berbagai feature extraction (TF-IDF, Word2Vec, FastText) ke dalam DataFrame untuk memudahkan perbandingan. Selanjutnya, DataFrame ini diurutkan berdasarkan akurasi pengujian, dan visualisasi bar plot dibuat untuk membandingkan performa antar model secara grafis. Terakhir, dilakukan analisis rata-rata akurasi pengujian yang dikelompokkan berdasarkan jenis feature extraction dan arsitektur model untuk mengidentifikasi tren performa berdasarkan kedua faktor tersebut."
      ],
      "metadata": {
        "id": "9JA_BmK2OYwF"
      }
    },
    {
      "cell_type": "code",
      "execution_count": 57,
      "metadata": {
        "colab": {
          "base_uri": "https://localhost:8080/",
          "height": 1000
        },
        "id": "5lZEME3Hv7Am",
        "outputId": "f435d092-5635-4b5f-ad10-899a9a084179"
      },
      "outputs": [
        {
          "output_type": "stream",
          "name": "stdout",
          "text": [
            "=== Hasil Lengkap ===\n"
          ]
        },
        {
          "output_type": "display_data",
          "data": {
            "text/plain": [
              "            Model   Feature Architecture  Train Accuracy  Test Accuracy\n",
              "3     LSTM TF-IDF    TF-IDF         LSTM          0.9274         0.9241\n",
              "0    Dense TF-IDF    TF-IDF        Dense          0.9228         0.9239\n",
              "6      GRU TF-IDF    TF-IDF          GRU          0.9263         0.9210\n",
              "2  Dense FastText  FastText        Dense          0.6444         0.6401\n",
              "1  Dense Word2Vec  Word2Vec        Dense          0.6444         0.6401\n",
              "8    GRU FastText  FastText          GRU          0.6443         0.6401\n",
              "5   LSTM FastText  FastText         LSTM          0.6444         0.6401\n",
              "7    GRU Word2Vec  Word2Vec          GRU          0.6445         0.6401\n",
              "4   LSTM Word2Vec  Word2Vec         LSTM          0.6447         0.6399"
            ],
            "text/html": [
              "\n",
              "  <div id=\"df-60a19e12-4b8f-4645-a4ad-98b439a7cf97\" class=\"colab-df-container\">\n",
              "    <div>\n",
              "<style scoped>\n",
              "    .dataframe tbody tr th:only-of-type {\n",
              "        vertical-align: middle;\n",
              "    }\n",
              "\n",
              "    .dataframe tbody tr th {\n",
              "        vertical-align: top;\n",
              "    }\n",
              "\n",
              "    .dataframe thead th {\n",
              "        text-align: right;\n",
              "    }\n",
              "</style>\n",
              "<table border=\"1\" class=\"dataframe\">\n",
              "  <thead>\n",
              "    <tr style=\"text-align: right;\">\n",
              "      <th></th>\n",
              "      <th>Model</th>\n",
              "      <th>Feature</th>\n",
              "      <th>Architecture</th>\n",
              "      <th>Train Accuracy</th>\n",
              "      <th>Test Accuracy</th>\n",
              "    </tr>\n",
              "  </thead>\n",
              "  <tbody>\n",
              "    <tr>\n",
              "      <th>3</th>\n",
              "      <td>LSTM TF-IDF</td>\n",
              "      <td>TF-IDF</td>\n",
              "      <td>LSTM</td>\n",
              "      <td>0.9274</td>\n",
              "      <td>0.9241</td>\n",
              "    </tr>\n",
              "    <tr>\n",
              "      <th>0</th>\n",
              "      <td>Dense TF-IDF</td>\n",
              "      <td>TF-IDF</td>\n",
              "      <td>Dense</td>\n",
              "      <td>0.9228</td>\n",
              "      <td>0.9239</td>\n",
              "    </tr>\n",
              "    <tr>\n",
              "      <th>6</th>\n",
              "      <td>GRU TF-IDF</td>\n",
              "      <td>TF-IDF</td>\n",
              "      <td>GRU</td>\n",
              "      <td>0.9263</td>\n",
              "      <td>0.9210</td>\n",
              "    </tr>\n",
              "    <tr>\n",
              "      <th>2</th>\n",
              "      <td>Dense FastText</td>\n",
              "      <td>FastText</td>\n",
              "      <td>Dense</td>\n",
              "      <td>0.6444</td>\n",
              "      <td>0.6401</td>\n",
              "    </tr>\n",
              "    <tr>\n",
              "      <th>1</th>\n",
              "      <td>Dense Word2Vec</td>\n",
              "      <td>Word2Vec</td>\n",
              "      <td>Dense</td>\n",
              "      <td>0.6444</td>\n",
              "      <td>0.6401</td>\n",
              "    </tr>\n",
              "    <tr>\n",
              "      <th>8</th>\n",
              "      <td>GRU FastText</td>\n",
              "      <td>FastText</td>\n",
              "      <td>GRU</td>\n",
              "      <td>0.6443</td>\n",
              "      <td>0.6401</td>\n",
              "    </tr>\n",
              "    <tr>\n",
              "      <th>5</th>\n",
              "      <td>LSTM FastText</td>\n",
              "      <td>FastText</td>\n",
              "      <td>LSTM</td>\n",
              "      <td>0.6444</td>\n",
              "      <td>0.6401</td>\n",
              "    </tr>\n",
              "    <tr>\n",
              "      <th>7</th>\n",
              "      <td>GRU Word2Vec</td>\n",
              "      <td>Word2Vec</td>\n",
              "      <td>GRU</td>\n",
              "      <td>0.6445</td>\n",
              "      <td>0.6401</td>\n",
              "    </tr>\n",
              "    <tr>\n",
              "      <th>4</th>\n",
              "      <td>LSTM Word2Vec</td>\n",
              "      <td>Word2Vec</td>\n",
              "      <td>LSTM</td>\n",
              "      <td>0.6447</td>\n",
              "      <td>0.6399</td>\n",
              "    </tr>\n",
              "  </tbody>\n",
              "</table>\n",
              "</div>\n",
              "    <div class=\"colab-df-buttons\">\n",
              "\n",
              "  <div class=\"colab-df-container\">\n",
              "    <button class=\"colab-df-convert\" onclick=\"convertToInteractive('df-60a19e12-4b8f-4645-a4ad-98b439a7cf97')\"\n",
              "            title=\"Convert this dataframe to an interactive table.\"\n",
              "            style=\"display:none;\">\n",
              "\n",
              "  <svg xmlns=\"http://www.w3.org/2000/svg\" height=\"24px\" viewBox=\"0 -960 960 960\">\n",
              "    <path d=\"M120-120v-720h720v720H120Zm60-500h600v-160H180v160Zm220 220h160v-160H400v160Zm0 220h160v-160H400v160ZM180-400h160v-160H180v160Zm440 0h160v-160H620v160ZM180-180h160v-160H180v160Zm440 0h160v-160H620v160Z\"/>\n",
              "  </svg>\n",
              "    </button>\n",
              "\n",
              "  <style>\n",
              "    .colab-df-container {\n",
              "      display:flex;\n",
              "      gap: 12px;\n",
              "    }\n",
              "\n",
              "    .colab-df-convert {\n",
              "      background-color: #E8F0FE;\n",
              "      border: none;\n",
              "      border-radius: 50%;\n",
              "      cursor: pointer;\n",
              "      display: none;\n",
              "      fill: #1967D2;\n",
              "      height: 32px;\n",
              "      padding: 0 0 0 0;\n",
              "      width: 32px;\n",
              "    }\n",
              "\n",
              "    .colab-df-convert:hover {\n",
              "      background-color: #E2EBFA;\n",
              "      box-shadow: 0px 1px 2px rgba(60, 64, 67, 0.3), 0px 1px 3px 1px rgba(60, 64, 67, 0.15);\n",
              "      fill: #174EA6;\n",
              "    }\n",
              "\n",
              "    .colab-df-buttons div {\n",
              "      margin-bottom: 4px;\n",
              "    }\n",
              "\n",
              "    [theme=dark] .colab-df-convert {\n",
              "      background-color: #3B4455;\n",
              "      fill: #D2E3FC;\n",
              "    }\n",
              "\n",
              "    [theme=dark] .colab-df-convert:hover {\n",
              "      background-color: #434B5C;\n",
              "      box-shadow: 0px 1px 3px 1px rgba(0, 0, 0, 0.15);\n",
              "      filter: drop-shadow(0px 1px 2px rgba(0, 0, 0, 0.3));\n",
              "      fill: #FFFFFF;\n",
              "    }\n",
              "  </style>\n",
              "\n",
              "    <script>\n",
              "      const buttonEl =\n",
              "        document.querySelector('#df-60a19e12-4b8f-4645-a4ad-98b439a7cf97 button.colab-df-convert');\n",
              "      buttonEl.style.display =\n",
              "        google.colab.kernel.accessAllowed ? 'block' : 'none';\n",
              "\n",
              "      async function convertToInteractive(key) {\n",
              "        const element = document.querySelector('#df-60a19e12-4b8f-4645-a4ad-98b439a7cf97');\n",
              "        const dataTable =\n",
              "          await google.colab.kernel.invokeFunction('convertToInteractive',\n",
              "                                                    [key], {});\n",
              "        if (!dataTable) return;\n",
              "\n",
              "        const docLinkHtml = 'Like what you see? Visit the ' +\n",
              "          '<a target=\"_blank\" href=https://colab.research.google.com/notebooks/data_table.ipynb>data table notebook</a>'\n",
              "          + ' to learn more about interactive tables.';\n",
              "        element.innerHTML = '';\n",
              "        dataTable['output_type'] = 'display_data';\n",
              "        await google.colab.output.renderOutput(dataTable, element);\n",
              "        const docLink = document.createElement('div');\n",
              "        docLink.innerHTML = docLinkHtml;\n",
              "        element.appendChild(docLink);\n",
              "      }\n",
              "    </script>\n",
              "  </div>\n",
              "\n",
              "\n",
              "    <div id=\"df-75256d69-ca8d-48ca-b9a6-0c9736521721\">\n",
              "      <button class=\"colab-df-quickchart\" onclick=\"quickchart('df-75256d69-ca8d-48ca-b9a6-0c9736521721')\"\n",
              "                title=\"Suggest charts\"\n",
              "                style=\"display:none;\">\n",
              "\n",
              "<svg xmlns=\"http://www.w3.org/2000/svg\" height=\"24px\"viewBox=\"0 0 24 24\"\n",
              "     width=\"24px\">\n",
              "    <g>\n",
              "        <path d=\"M19 3H5c-1.1 0-2 .9-2 2v14c0 1.1.9 2 2 2h14c1.1 0 2-.9 2-2V5c0-1.1-.9-2-2-2zM9 17H7v-7h2v7zm4 0h-2V7h2v10zm4 0h-2v-4h2v4z\"/>\n",
              "    </g>\n",
              "</svg>\n",
              "      </button>\n",
              "\n",
              "<style>\n",
              "  .colab-df-quickchart {\n",
              "      --bg-color: #E8F0FE;\n",
              "      --fill-color: #1967D2;\n",
              "      --hover-bg-color: #E2EBFA;\n",
              "      --hover-fill-color: #174EA6;\n",
              "      --disabled-fill-color: #AAA;\n",
              "      --disabled-bg-color: #DDD;\n",
              "  }\n",
              "\n",
              "  [theme=dark] .colab-df-quickchart {\n",
              "      --bg-color: #3B4455;\n",
              "      --fill-color: #D2E3FC;\n",
              "      --hover-bg-color: #434B5C;\n",
              "      --hover-fill-color: #FFFFFF;\n",
              "      --disabled-bg-color: #3B4455;\n",
              "      --disabled-fill-color: #666;\n",
              "  }\n",
              "\n",
              "  .colab-df-quickchart {\n",
              "    background-color: var(--bg-color);\n",
              "    border: none;\n",
              "    border-radius: 50%;\n",
              "    cursor: pointer;\n",
              "    display: none;\n",
              "    fill: var(--fill-color);\n",
              "    height: 32px;\n",
              "    padding: 0;\n",
              "    width: 32px;\n",
              "  }\n",
              "\n",
              "  .colab-df-quickchart:hover {\n",
              "    background-color: var(--hover-bg-color);\n",
              "    box-shadow: 0 1px 2px rgba(60, 64, 67, 0.3), 0 1px 3px 1px rgba(60, 64, 67, 0.15);\n",
              "    fill: var(--button-hover-fill-color);\n",
              "  }\n",
              "\n",
              "  .colab-df-quickchart-complete:disabled,\n",
              "  .colab-df-quickchart-complete:disabled:hover {\n",
              "    background-color: var(--disabled-bg-color);\n",
              "    fill: var(--disabled-fill-color);\n",
              "    box-shadow: none;\n",
              "  }\n",
              "\n",
              "  .colab-df-spinner {\n",
              "    border: 2px solid var(--fill-color);\n",
              "    border-color: transparent;\n",
              "    border-bottom-color: var(--fill-color);\n",
              "    animation:\n",
              "      spin 1s steps(1) infinite;\n",
              "  }\n",
              "\n",
              "  @keyframes spin {\n",
              "    0% {\n",
              "      border-color: transparent;\n",
              "      border-bottom-color: var(--fill-color);\n",
              "      border-left-color: var(--fill-color);\n",
              "    }\n",
              "    20% {\n",
              "      border-color: transparent;\n",
              "      border-left-color: var(--fill-color);\n",
              "      border-top-color: var(--fill-color);\n",
              "    }\n",
              "    30% {\n",
              "      border-color: transparent;\n",
              "      border-left-color: var(--fill-color);\n",
              "      border-top-color: var(--fill-color);\n",
              "      border-right-color: var(--fill-color);\n",
              "    }\n",
              "    40% {\n",
              "      border-color: transparent;\n",
              "      border-right-color: var(--fill-color);\n",
              "      border-top-color: var(--fill-color);\n",
              "    }\n",
              "    60% {\n",
              "      border-color: transparent;\n",
              "      border-right-color: var(--fill-color);\n",
              "    }\n",
              "    80% {\n",
              "      border-color: transparent;\n",
              "      border-right-color: var(--fill-color);\n",
              "      border-bottom-color: var(--fill-color);\n",
              "    }\n",
              "    90% {\n",
              "      border-color: transparent;\n",
              "      border-bottom-color: var(--fill-color);\n",
              "    }\n",
              "  }\n",
              "</style>\n",
              "\n",
              "      <script>\n",
              "        async function quickchart(key) {\n",
              "          const quickchartButtonEl =\n",
              "            document.querySelector('#' + key + ' button');\n",
              "          quickchartButtonEl.disabled = true;  // To prevent multiple clicks.\n",
              "          quickchartButtonEl.classList.add('colab-df-spinner');\n",
              "          try {\n",
              "            const charts = await google.colab.kernel.invokeFunction(\n",
              "                'suggestCharts', [key], {});\n",
              "          } catch (error) {\n",
              "            console.error('Error during call to suggestCharts:', error);\n",
              "          }\n",
              "          quickchartButtonEl.classList.remove('colab-df-spinner');\n",
              "          quickchartButtonEl.classList.add('colab-df-quickchart-complete');\n",
              "        }\n",
              "        (() => {\n",
              "          let quickchartButtonEl =\n",
              "            document.querySelector('#df-75256d69-ca8d-48ca-b9a6-0c9736521721 button');\n",
              "          quickchartButtonEl.style.display =\n",
              "            google.colab.kernel.accessAllowed ? 'block' : 'none';\n",
              "        })();\n",
              "      </script>\n",
              "    </div>\n",
              "\n",
              "    </div>\n",
              "  </div>\n"
            ],
            "application/vnd.google.colaboratory.intrinsic+json": {
              "type": "dataframe",
              "summary": "{\n  \"name\": \"display(arch_stats\",\n  \"rows\": 9,\n  \"fields\": [\n    {\n      \"column\": \"Model\",\n      \"properties\": {\n        \"dtype\": \"string\",\n        \"num_unique_values\": 9,\n        \"samples\": [\n          \"GRU Word2Vec\",\n          \"Dense TF-IDF\",\n          \"GRU FastText\"\n        ],\n        \"semantic_type\": \"\",\n        \"description\": \"\"\n      }\n    },\n    {\n      \"column\": \"Feature\",\n      \"properties\": {\n        \"dtype\": \"category\",\n        \"num_unique_values\": 3,\n        \"samples\": [\n          \"TF-IDF\",\n          \"FastText\",\n          \"Word2Vec\"\n        ],\n        \"semantic_type\": \"\",\n        \"description\": \"\"\n      }\n    },\n    {\n      \"column\": \"Architecture\",\n      \"properties\": {\n        \"dtype\": \"category\",\n        \"num_unique_values\": 3,\n        \"samples\": [\n          \"LSTM\",\n          \"Dense\",\n          \"GRU\"\n        ],\n        \"semantic_type\": \"\",\n        \"description\": \"\"\n      }\n    },\n    {\n      \"column\": \"Train Accuracy\",\n      \"properties\": {\n        \"dtype\": \"number\",\n        \"std\": 0.14053196067821336,\n        \"min\": 0.6442831158638,\n        \"max\": 0.9274047017097473,\n        \"num_unique_values\": 8,\n        \"samples\": [\n          0.9227767586708069,\n          0.6444419026374817,\n          0.9274047017097473\n        ],\n        \"semantic_type\": \"\",\n        \"description\": \"\"\n      }\n    },\n    {\n      \"column\": \"Test Accuracy\",\n      \"properties\": {\n        \"dtype\": \"number\",\n        \"std\": 0.1414599794474547,\n        \"min\": 0.6398693323135376,\n        \"max\": 0.9241448044776917,\n        \"num_unique_values\": 6,\n        \"samples\": [\n          0.9241448044776917,\n          0.9238725900650024,\n          0.6398693323135376\n        ],\n        \"semantic_type\": \"\",\n        \"description\": \"\"\n      }\n    }\n  ]\n}"
            }
          },
          "metadata": {}
        },
        {
          "output_type": "stream",
          "name": "stderr",
          "text": [
            "<ipython-input-57-c3926ac45886>:50: FutureWarning: \n",
            "\n",
            "Passing `palette` without assigning `hue` is deprecated and will be removed in v0.14.0. Assign the `y` variable to `hue` and set `legend=False` for the same effect.\n",
            "\n",
            "  sns.barplot(data=sorted_results, x='Test Accuracy', y='Model', palette='viridis')\n"
          ]
        },
        {
          "output_type": "display_data",
          "data": {
            "text/plain": [
              "<Figure size 1500x600 with 1 Axes>"
            ],
            "image/png": "[encoded data removed]"
          },
          "metadata": {}
        },
        {
          "output_type": "stream",
          "name": "stdout",
          "text": [
            "\n",
            "=== Rangkuman Performa ===\n",
            "\n",
            "Berdasarkan Ekstraksi Fitur:\n"
          ]
        },
        {
          "output_type": "display_data",
          "data": {
            "text/plain": [
              "          Test Accuracy\n",
              "Feature                \n",
              "TF-IDF           0.9230\n",
              "FastText         0.6401\n",
              "Word2Vec         0.6400"
            ],
            "text/html": [
              "\n",
              "  <div id=\"df-32a69beb-0ee7-49ba-ad74-0ee67d51255f\" class=\"colab-df-container\">\n",
              "    <div>\n",
              "<style scoped>\n",
              "    .dataframe tbody tr th:only-of-type {\n",
              "        vertical-align: middle;\n",
              "    }\n",
              "\n",
              "    .dataframe tbody tr th {\n",
              "        vertical-align: top;\n",
              "    }\n",
              "\n",
              "    .dataframe thead th {\n",
              "        text-align: right;\n",
              "    }\n",
              "</style>\n",
              "<table border=\"1\" class=\"dataframe\">\n",
              "  <thead>\n",
              "    <tr style=\"text-align: right;\">\n",
              "      <th></th>\n",
              "      <th>Test Accuracy</th>\n",
              "    </tr>\n",
              "    <tr>\n",
              "      <th>Feature</th>\n",
              "      <th></th>\n",
              "    </tr>\n",
              "  </thead>\n",
              "  <tbody>\n",
              "    <tr>\n",
              "      <th>TF-IDF</th>\n",
              "      <td>0.9230</td>\n",
              "    </tr>\n",
              "    <tr>\n",
              "      <th>FastText</th>\n",
              "      <td>0.6401</td>\n",
              "    </tr>\n",
              "    <tr>\n",
              "      <th>Word2Vec</th>\n",
              "      <td>0.6400</td>\n",
              "    </tr>\n",
              "  </tbody>\n",
              "</table>\n",
              "</div>\n",
              "    <div class=\"colab-df-buttons\">\n",
              "\n",
              "  <div class=\"colab-df-container\">\n",
              "    <button class=\"colab-df-convert\" onclick=\"convertToInteractive('df-32a69beb-0ee7-49ba-ad74-0ee67d51255f')\"\n",
              "            title=\"Convert this dataframe to an interactive table.\"\n",
              "            style=\"display:none;\">\n",
              "\n",
              "  <svg xmlns=\"http://www.w3.org/2000/svg\" height=\"24px\" viewBox=\"0 -960 960 960\">\n",
              "    <path d=\"M120-120v-720h720v720H120Zm60-500h600v-160H180v160Zm220 220h160v-160H400v160Zm0 220h160v-160H400v160ZM180-400h160v-160H180v160Zm440 0h160v-160H620v160ZM180-180h160v-160H180v160Zm440 0h160v-160H620v160Z\"/>\n",
              "  </svg>\n",
              "    </button>\n",
              "\n",
              "  <style>\n",
              "    .colab-df-container {\n",
              "      display:flex;\n",
              "      gap: 12px;\n",
              "    }\n",
              "\n",
              "    .colab-df-convert {\n",
              "      background-color: #E8F0FE;\n",
              "      border: none;\n",
              "      border-radius: 50%;\n",
              "      cursor: pointer;\n",
              "      display: none;\n",
              "      fill: #1967D2;\n",
              "      height: 32px;\n",
              "      padding: 0 0 0 0;\n",
              "      width: 32px;\n",
              "    }\n",
              "\n",
              "    .colab-df-convert:hover {\n",
              "      background-color: #E2EBFA;\n",
              "      box-shadow: 0px 1px 2px rgba(60, 64, 67, 0.3), 0px 1px 3px 1px rgba(60, 64, 67, 0.15);\n",
              "      fill: #174EA6;\n",
              "    }\n",
              "\n",
              "    .colab-df-buttons div {\n",
              "      margin-bottom: 4px;\n",
              "    }\n",
              "\n",
              "    [theme=dark] .colab-df-convert {\n",
              "      background-color: #3B4455;\n",
              "      fill: #D2E3FC;\n",
              "    }\n",
              "\n",
              "    [theme=dark] .colab-df-convert:hover {\n",
              "      background-color: #434B5C;\n",
              "      box-shadow: 0px 1px 3px 1px rgba(0, 0, 0, 0.15);\n",
              "      filter: drop-shadow(0px 1px 2px rgba(0, 0, 0, 0.3));\n",
              "      fill: #FFFFFF;\n",
              "    }\n",
              "  </style>\n",
              "\n",
              "    <script>\n",
              "      const buttonEl =\n",
              "        document.querySelector('#df-32a69beb-0ee7-49ba-ad74-0ee67d51255f button.colab-df-convert');\n",
              "      buttonEl.style.display =\n",
              "        google.colab.kernel.accessAllowed ? 'block' : 'none';\n",
              "\n",
              "      async function convertToInteractive(key) {\n",
              "        const element = document.querySelector('#df-32a69beb-0ee7-49ba-ad74-0ee67d51255f');\n",
              "        const dataTable =\n",
              "          await google.colab.kernel.invokeFunction('convertToInteractive',\n",
              "                                                    [key], {});\n",
              "        if (!dataTable) return;\n",
              "\n",
              "        const docLinkHtml = 'Like what you see? Visit the ' +\n",
              "          '<a target=\"_blank\" href=https://colab.research.google.com/notebooks/data_table.ipynb>data table notebook</a>'\n",
              "          + ' to learn more about interactive tables.';\n",
              "        element.innerHTML = '';\n",
              "        dataTable['output_type'] = 'display_data';\n",
              "        await google.colab.output.renderOutput(dataTable, element);\n",
              "        const docLink = document.createElement('div');\n",
              "        docLink.innerHTML = docLinkHtml;\n",
              "        element.appendChild(docLink);\n",
              "      }\n",
              "    </script>\n",
              "  </div>\n",
              "\n",
              "\n",
              "    <div id=\"df-14612708-0f88-481c-804e-7e1f5ac32b87\">\n",
              "      <button class=\"colab-df-quickchart\" onclick=\"quickchart('df-14612708-0f88-481c-804e-7e1f5ac32b87')\"\n",
              "                title=\"Suggest charts\"\n",
              "                style=\"display:none;\">\n",
              "\n",
              "<svg xmlns=\"http://www.w3.org/2000/svg\" height=\"24px\"viewBox=\"0 0 24 24\"\n",
              "     width=\"24px\">\n",
              "    <g>\n",
              "        <path d=\"M19 3H5c-1.1 0-2 .9-2 2v14c0 1.1.9 2 2 2h14c1.1 0 2-.9 2-2V5c0-1.1-.9-2-2-2zM9 17H7v-7h2v7zm4 0h-2V7h2v10zm4 0h-2v-4h2v4z\"/>\n",
              "    </g>\n",
              "</svg>\n",
              "      </button>\n",
              "\n",
              "<style>\n",
              "  .colab-df-quickchart {\n",
              "      --bg-color: #E8F0FE;\n",
              "      --fill-color: #1967D2;\n",
              "      --hover-bg-color: #E2EBFA;\n",
              "      --hover-fill-color: #174EA6;\n",
              "      --disabled-fill-color: #AAA;\n",
              "      --disabled-bg-color: #DDD;\n",
              "  }\n",
              "\n",
              "  [theme=dark] .colab-df-quickchart {\n",
              "      --bg-color: #3B4455;\n",
              "      --fill-color: #D2E3FC;\n",
              "      --hover-bg-color: #434B5C;\n",
              "      --hover-fill-color: #FFFFFF;\n",
              "      --disabled-bg-color: #3B4455;\n",
              "      --disabled-fill-color: #666;\n",
              "  }\n",
              "\n",
              "  .colab-df-quickchart {\n",
              "    background-color: var(--bg-color);\n",
              "    border: none;\n",
              "    border-radius: 50%;\n",
              "    cursor: pointer;\n",
              "    display: none;\n",
              "    fill: var(--fill-color);\n",
              "    height: 32px;\n",
              "    padding: 0;\n",
              "    width: 32px;\n",
              "  }\n",
              "\n",
              "  .colab-df-quickchart:hover {\n",
              "    background-color: var(--hover-bg-color);\n",
              "    box-shadow: 0 1px 2px rgba(60, 64, 67, 0.3), 0 1px 3px 1px rgba(60, 64, 67, 0.15);\n",
              "    fill: var(--button-hover-fill-color);\n",
              "  }\n",
              "\n",
              "  .colab-df-quickchart-complete:disabled,\n",
              "  .colab-df-quickchart-complete:disabled:hover {\n",
              "    background-color: var(--disabled-bg-color);\n",
              "    fill: var(--disabled-fill-color);\n",
              "    box-shadow: none;\n",
              "  }\n",
              "\n",
              "  .colab-df-spinner {\n",
              "    border: 2px solid var(--fill-color);\n",
              "    border-color: transparent;\n",
              "    border-bottom-color: var(--fill-color);\n",
              "    animation:\n",
              "      spin 1s steps(1) infinite;\n",
              "  }\n",
              "\n",
              "  @keyframes spin {\n",
              "    0% {\n",
              "      border-color: transparent;\n",
              "      border-bottom-color: var(--fill-color);\n",
              "      border-left-color: var(--fill-color);\n",
              "    }\n",
              "    20% {\n",
              "      border-color: transparent;\n",
              "      border-left-color: var(--fill-color);\n",
              "      border-top-color: var(--fill-color);\n",
              "    }\n",
              "    30% {\n",
              "      border-color: transparent;\n",
              "      border-left-color: var(--fill-color);\n",
              "      border-top-color: var(--fill-color);\n",
              "      border-right-color: var(--fill-color);\n",
              "    }\n",
              "    40% {\n",
              "      border-color: transparent;\n",
              "      border-right-color: var(--fill-color);\n",
              "      border-top-color: var(--fill-color);\n",
              "    }\n",
              "    60% {\n",
              "      border-color: transparent;\n",
              "      border-right-color: var(--fill-color);\n",
              "    }\n",
              "    80% {\n",
              "      border-color: transparent;\n",
              "      border-right-color: var(--fill-color);\n",
              "      border-bottom-color: var(--fill-color);\n",
              "    }\n",
              "    90% {\n",
              "      border-color: transparent;\n",
              "      border-bottom-color: var(--fill-color);\n",
              "    }\n",
              "  }\n",
              "</style>\n",
              "\n",
              "      <script>\n",
              "        async function quickchart(key) {\n",
              "          const quickchartButtonEl =\n",
              "            document.querySelector('#' + key + ' button');\n",
              "          quickchartButtonEl.disabled = true;  // To prevent multiple clicks.\n",
              "          quickchartButtonEl.classList.add('colab-df-spinner');\n",
              "          try {\n",
              "            const charts = await google.colab.kernel.invokeFunction(\n",
              "                'suggestCharts', [key], {});\n",
              "          } catch (error) {\n",
              "            console.error('Error during call to suggestCharts:', error);\n",
              "          }\n",
              "          quickchartButtonEl.classList.remove('colab-df-spinner');\n",
              "          quickchartButtonEl.classList.add('colab-df-quickchart-complete');\n",
              "        }\n",
              "        (() => {\n",
              "          let quickchartButtonEl =\n",
              "            document.querySelector('#df-14612708-0f88-481c-804e-7e1f5ac32b87 button');\n",
              "          quickchartButtonEl.style.display =\n",
              "            google.colab.kernel.accessAllowed ? 'block' : 'none';\n",
              "        })();\n",
              "      </script>\n",
              "    </div>\n",
              "\n",
              "    </div>\n",
              "  </div>\n"
            ],
            "application/vnd.google.colaboratory.intrinsic+json": {
              "type": "dataframe",
              "summary": "{\n  \"name\": \"display(arch_stats\",\n  \"rows\": 3,\n  \"fields\": [\n    {\n      \"column\": \"Feature\",\n      \"properties\": {\n        \"dtype\": \"string\",\n        \"num_unique_values\": 3,\n        \"samples\": [\n          \"TF-IDF\",\n          \"FastText\",\n          \"Word2Vec\"\n        ],\n        \"semantic_type\": \"\",\n        \"description\": \"\"\n      }\n    },\n    {\n      \"column\": \"Test Accuracy\",\n      \"properties\": {\n        \"dtype\": \"number\",\n        \"std\": 0.16334073346232847,\n        \"min\": 0.6400205691655477,\n        \"max\": 0.9229954878489176,\n        \"num_unique_values\": 3,\n        \"samples\": [\n          0.9229954878489176,\n          0.6401415467262268,\n          0.6400205691655477\n        ],\n        \"semantic_type\": \"\",\n        \"description\": \"\"\n      }\n    }\n  ]\n}"
            }
          },
          "metadata": {}
        },
        {
          "output_type": "stream",
          "name": "stdout",
          "text": [
            "\n",
            "Berdasarkan Arsitektur Model:\n"
          ]
        },
        {
          "output_type": "display_data",
          "data": {
            "text/plain": [
              "              Test Accuracy\n",
              "Architecture               \n",
              "Dense                0.7347\n",
              "LSTM                 0.7347\n",
              "GRU                  0.7337"
            ],
            "text/html": [
              "\n",
              "  <div id=\"df-e63a9197-59ce-49a4-9a6f-6fa670479d4d\" class=\"colab-df-container\">\n",
              "    <div>\n",
              "<style scoped>\n",
              "    .dataframe tbody tr th:only-of-type {\n",
              "        vertical-align: middle;\n",
              "    }\n",
              "\n",
              "    .dataframe tbody tr th {\n",
              "        vertical-align: top;\n",
              "    }\n",
              "\n",
              "    .dataframe thead th {\n",
              "        text-align: right;\n",
              "    }\n",
              "</style>\n",
              "<table border=\"1\" class=\"dataframe\">\n",
              "  <thead>\n",
              "    <tr style=\"text-align: right;\">\n",
              "      <th></th>\n",
              "      <th>Test Accuracy</th>\n",
              "    </tr>\n",
              "    <tr>\n",
              "      <th>Architecture</th>\n",
              "      <th></th>\n",
              "    </tr>\n",
              "  </thead>\n",
              "  <tbody>\n",
              "    <tr>\n",
              "      <th>Dense</th>\n",
              "      <td>0.7347</td>\n",
              "    </tr>\n",
              "    <tr>\n",
              "      <th>LSTM</th>\n",
              "      <td>0.7347</td>\n",
              "    </tr>\n",
              "    <tr>\n",
              "      <th>GRU</th>\n",
              "      <td>0.7337</td>\n",
              "    </tr>\n",
              "  </tbody>\n",
              "</table>\n",
              "</div>\n",
              "    <div class=\"colab-df-buttons\">\n",
              "\n",
              "  <div class=\"colab-df-container\">\n",
              "    <button class=\"colab-df-convert\" onclick=\"convertToInteractive('df-e63a9197-59ce-49a4-9a6f-6fa670479d4d')\"\n",
              "            title=\"Convert this dataframe to an interactive table.\"\n",
              "            style=\"display:none;\">\n",
              "\n",
              "  <svg xmlns=\"http://www.w3.org/2000/svg\" height=\"24px\" viewBox=\"0 -960 960 960\">\n",
              "    <path d=\"M120-120v-720h720v720H120Zm60-500h600v-160H180v160Zm220 220h160v-160H400v160Zm0 220h160v-160H400v160ZM180-400h160v-160H180v160Zm440 0h160v-160H620v160ZM180-180h160v-160H180v160Zm440 0h160v-160H620v160Z\"/>\n",
              "  </svg>\n",
              "    </button>\n",
              "\n",
              "  <style>\n",
              "    .colab-df-container {\n",
              "      display:flex;\n",
              "      gap: 12px;\n",
              "    }\n",
              "\n",
              "    .colab-df-convert {\n",
              "      background-color: #E8F0FE;\n",
              "      border: none;\n",
              "      border-radius: 50%;\n",
              "      cursor: pointer;\n",
              "      display: none;\n",
              "      fill: #1967D2;\n",
              "      height: 32px;\n",
              "      padding: 0 0 0 0;\n",
              "      width: 32px;\n",
              "    }\n",
              "\n",
              "    .colab-df-convert:hover {\n",
              "      background-color: #E2EBFA;\n",
              "      box-shadow: 0px 1px 2px rgba(60, 64, 67, 0.3), 0px 1px 3px 1px rgba(60, 64, 67, 0.15);\n",
              "      fill: #174EA6;\n",
              "    }\n",
              "\n",
              "    .colab-df-buttons div {\n",
              "      margin-bottom: 4px;\n",
              "    }\n",
              "\n",
              "    [theme=dark] .colab-df-convert {\n",
              "      background-color: #3B4455;\n",
              "      fill: #D2E3FC;\n",
              "    }\n",
              "\n",
              "    [theme=dark] .colab-df-convert:hover {\n",
              "      background-color: #434B5C;\n",
              "      box-shadow: 0px 1px 3px 1px rgba(0, 0, 0, 0.15);\n",
              "      filter: drop-shadow(0px 1px 2px rgba(0, 0, 0, 0.3));\n",
              "      fill: #FFFFFF;\n",
              "    }\n",
              "  </style>\n",
              "\n",
              "    <script>\n",
              "      const buttonEl =\n",
              "        document.querySelector('#df-e63a9197-59ce-49a4-9a6f-6fa670479d4d button.colab-df-convert');\n",
              "      buttonEl.style.display =\n",
              "        google.colab.kernel.accessAllowed ? 'block' : 'none';\n",
              "\n",
              "      async function convertToInteractive(key) {\n",
              "        const element = document.querySelector('#df-e63a9197-59ce-49a4-9a6f-6fa670479d4d');\n",
              "        const dataTable =\n",
              "          await google.colab.kernel.invokeFunction('convertToInteractive',\n",
              "                                                    [key], {});\n",
              "        if (!dataTable) return;\n",
              "\n",
              "        const docLinkHtml = 'Like what you see? Visit the ' +\n",
              "          '<a target=\"_blank\" href=https://colab.research.google.com/notebooks/data_table.ipynb>data table notebook</a>'\n",
              "          + ' to learn more about interactive tables.';\n",
              "        element.innerHTML = '';\n",
              "        dataTable['output_type'] = 'display_data';\n",
              "        await google.colab.output.renderOutput(dataTable, element);\n",
              "        const docLink = document.createElement('div');\n",
              "        docLink.innerHTML = docLinkHtml;\n",
              "        element.appendChild(docLink);\n",
              "      }\n",
              "    </script>\n",
              "  </div>\n",
              "\n",
              "\n",
              "    <div id=\"df-7ffdd047-183c-4217-9959-486ac5f25779\">\n",
              "      <button class=\"colab-df-quickchart\" onclick=\"quickchart('df-7ffdd047-183c-4217-9959-486ac5f25779')\"\n",
              "                title=\"Suggest charts\"\n",
              "                style=\"display:none;\">\n",
              "\n",
              "<svg xmlns=\"http://www.w3.org/2000/svg\" height=\"24px\"viewBox=\"0 0 24 24\"\n",
              "     width=\"24px\">\n",
              "    <g>\n",
              "        <path d=\"M19 3H5c-1.1 0-2 .9-2 2v14c0 1.1.9 2 2 2h14c1.1 0 2-.9 2-2V5c0-1.1-.9-2-2-2zM9 17H7v-7h2v7zm4 0h-2V7h2v10zm4 0h-2v-4h2v4z\"/>\n",
              "    </g>\n",
              "</svg>\n",
              "      </button>\n",
              "\n",
              "<style>\n",
              "  .colab-df-quickchart {\n",
              "      --bg-color: #E8F0FE;\n",
              "      --fill-color: #1967D2;\n",
              "      --hover-bg-color: #E2EBFA;\n",
              "      --hover-fill-color: #174EA6;\n",
              "      --disabled-fill-color: #AAA;\n",
              "      --disabled-bg-color: #DDD;\n",
              "  }\n",
              "\n",
              "  [theme=dark] .colab-df-quickchart {\n",
              "      --bg-color: #3B4455;\n",
              "      --fill-color: #D2E3FC;\n",
              "      --hover-bg-color: #434B5C;\n",
              "      --hover-fill-color: #FFFFFF;\n",
              "      --disabled-bg-color: #3B4455;\n",
              "      --disabled-fill-color: #666;\n",
              "  }\n",
              "\n",
              "  .colab-df-quickchart {\n",
              "    background-color: var(--bg-color);\n",
              "    border: none;\n",
              "    border-radius: 50%;\n",
              "    cursor: pointer;\n",
              "    display: none;\n",
              "    fill: var(--fill-color);\n",
              "    height: 32px;\n",
              "    padding: 0;\n",
              "    width: 32px;\n",
              "  }\n",
              "\n",
              "  .colab-df-quickchart:hover {\n",
              "    background-color: var(--hover-bg-color);\n",
              "    box-shadow: 0 1px 2px rgba(60, 64, 67, 0.3), 0 1px 3px 1px rgba(60, 64, 67, 0.15);\n",
              "    fill: var(--button-hover-fill-color);\n",
              "  }\n",
              "\n",
              "  .colab-df-quickchart-complete:disabled,\n",
              "  .colab-df-quickchart-complete:disabled:hover {\n",
              "    background-color: var(--disabled-bg-color);\n",
              "    fill: var(--disabled-fill-color);\n",
              "    box-shadow: none;\n",
              "  }\n",
              "\n",
              "  .colab-df-spinner {\n",
              "    border: 2px solid var(--fill-color);\n",
              "    border-color: transparent;\n",
              "    border-bottom-color: var(--fill-color);\n",
              "    animation:\n",
              "      spin 1s steps(1) infinite;\n",
              "  }\n",
              "\n",
              "  @keyframes spin {\n",
              "    0% {\n",
              "      border-color: transparent;\n",
              "      border-bottom-color: var(--fill-color);\n",
              "      border-left-color: var(--fill-color);\n",
              "    }\n",
              "    20% {\n",
              "      border-color: transparent;\n",
              "      border-left-color: var(--fill-color);\n",
              "      border-top-color: var(--fill-color);\n",
              "    }\n",
              "    30% {\n",
              "      border-color: transparent;\n",
              "      border-left-color: var(--fill-color);\n",
              "      border-top-color: var(--fill-color);\n",
              "      border-right-color: var(--fill-color);\n",
              "    }\n",
              "    40% {\n",
              "      border-color: transparent;\n",
              "      border-right-color: var(--fill-color);\n",
              "      border-top-color: var(--fill-color);\n",
              "    }\n",
              "    60% {\n",
              "      border-color: transparent;\n",
              "      border-right-color: var(--fill-color);\n",
              "    }\n",
              "    80% {\n",
              "      border-color: transparent;\n",
              "      border-right-color: var(--fill-color);\n",
              "      border-bottom-color: var(--fill-color);\n",
              "    }\n",
              "    90% {\n",
              "      border-color: transparent;\n",
              "      border-bottom-color: var(--fill-color);\n",
              "    }\n",
              "  }\n",
              "</style>\n",
              "\n",
              "      <script>\n",
              "        async function quickchart(key) {\n",
              "          const quickchartButtonEl =\n",
              "            document.querySelector('#' + key + ' button');\n",
              "          quickchartButtonEl.disabled = true;  // To prevent multiple clicks.\n",
              "          quickchartButtonEl.classList.add('colab-df-spinner');\n",
              "          try {\n",
              "            const charts = await google.colab.kernel.invokeFunction(\n",
              "                'suggestCharts', [key], {});\n",
              "          } catch (error) {\n",
              "            console.error('Error during call to suggestCharts:', error);\n",
              "          }\n",
              "          quickchartButtonEl.classList.remove('colab-df-spinner');\n",
              "          quickchartButtonEl.classList.add('colab-df-quickchart-complete');\n",
              "        }\n",
              "        (() => {\n",
              "          let quickchartButtonEl =\n",
              "            document.querySelector('#df-7ffdd047-183c-4217-9959-486ac5f25779 button');\n",
              "          quickchartButtonEl.style.display =\n",
              "            google.colab.kernel.accessAllowed ? 'block' : 'none';\n",
              "        })();\n",
              "      </script>\n",
              "    </div>\n",
              "\n",
              "    </div>\n",
              "  </div>\n"
            ],
            "application/vnd.google.colaboratory.intrinsic+json": {
              "type": "dataframe",
              "summary": "{\n  \"name\": \"display(arch_stats\",\n  \"rows\": 3,\n  \"fields\": [\n    {\n      \"column\": \"Architecture\",\n      \"properties\": {\n        \"dtype\": \"string\",\n        \"num_unique_values\": 3,\n        \"samples\": [\n          \"Dense\",\n          \"LSTM\",\n          \"GRU\"\n        ],\n        \"semantic_type\": \"\",\n        \"description\": \"\"\n      }\n    },\n    {\n      \"column\": \"Test Accuracy\",\n      \"properties\": {\n        \"dtype\": \"number\",\n        \"std\": 0.0005762416277873685,\n        \"min\": 0.7337204813957214,\n        \"max\": 0.7347185611724854,\n        \"num_unique_values\": 2,\n        \"samples\": [\n          0.7337204813957214,\n          0.7347185611724854\n        ],\n        \"semantic_type\": \"\",\n        \"description\": \"\"\n      }\n    }\n  ]\n}"
            }
          },
          "metadata": {}
        }
      ],
      "source": [
        "# Membuat DataFrame hasil semua model\n",
        "results = {\n",
        "    'Model': [\n",
        "        'Dense TF-IDF', 'Dense Word2Vec', 'Dense FastText',\n",
        "        'LSTM TF-IDF', 'LSTM Word2Vec', 'LSTM FastText',\n",
        "        'GRU TF-IDF', 'GRU Word2Vec', 'GRU FastText'\n",
        "    ],\n",
        "    'Train Accuracy': [\n",
        "        hist_dense_tfidf.history['accuracy'][-1],\n",
        "        hist_dense_w2v.history['accuracy'][-1],\n",
        "        hist_dense_ft.history['accuracy'][-1],\n",
        "        hist_lstm_tfidf.history['accuracy'][-1],\n",
        "        hist_lstm_w2v.history['accuracy'][-1],\n",
        "        hist_lstm_ft.history['accuracy'][-1],\n",
        "        hist_gru_tfidf.history['accuracy'][-1],\n",
        "        hist_gru_w2v.history['accuracy'][-1],\n",
        "        hist_gru_ft.history['accuracy'][-1]\n",
        "    ],\n",
        "    'Test Accuracy': [\n",
        "        dense_tfidf.evaluate(X_test_tfidf, y_test, verbose=0)[1],\n",
        "        dense_w2v.evaluate(X_test_w2v, y_test, verbose=0)[1],\n",
        "        dense_ft.evaluate(X_test_ft, y_test, verbose=0)[1],\n",
        "        lstm_tfidf.evaluate(X_test_tfidf, y_test, verbose=0)[1],\n",
        "        lstm_w2v.evaluate(X_test_w2v, y_test, verbose=0)[1],\n",
        "        lstm_ft.evaluate(X_test_ft, y_test, verbose=0)[1],\n",
        "        gru_tfidf.evaluate(X_test_tfidf, y_test, verbose=0)[1],\n",
        "        gru_w2v.evaluate(X_test_w2v, y_test, verbose=0)[1],\n",
        "        gru_ft.evaluate(X_test_ft, y_test, verbose=0)[1]\n",
        "    ]\n",
        "}\n",
        "\n",
        "results_df = pd.DataFrame(results)\n",
        "\n",
        "# Menambahkan kolom baru untuk ekstraksi fitur dan arsitektur\n",
        "results_df['Feature'] = ['TF-IDF', 'Word2Vec', 'FastText'] * 3\n",
        "results_df['Architecture'] = ['Dense']*3 + ['LSTM']*3 + ['GRU']*3\n",
        "\n",
        "# Tampilkan hasil terurut berdasarkan Test Accuracy\n",
        "pd.set_option('display.float_format', '{:.4f}'.format)\n",
        "sorted_results = results_df.sort_values('Test Accuracy', ascending=False)\n",
        "\n",
        "print(\"=== Hasil Lengkap ===\")\n",
        "display(sorted_results[['Model', 'Feature', 'Architecture', 'Train Accuracy', 'Test Accuracy']])\n",
        "\n",
        "# Visualisasi Perbandingan\n",
        "plt.figure(figsize=(15, 6))\n",
        "\n",
        "# Plot Test Accuracy\n",
        "plt.subplot(1, 2, 1)\n",
        "sns.barplot(data=sorted_results, x='Test Accuracy', y='Model', palette='viridis')\n",
        "plt.title('Perbandingan Akurasi Test')\n",
        "plt.xlim(0, 1)\n",
        "\n",
        "plt.tight_layout()\n",
        "plt.show()\n",
        "\n",
        "# Analisis Cross-Feature/Architecture\n",
        "print(\"\\n=== Rangkuman Performa ===\")\n",
        "\n",
        "# Group by Feature Extraction\n",
        "feature_stats = results_df.groupby('Feature')[['Test Accuracy']].mean()\n",
        "print(\"\\nBerdasarkan Ekstraksi Fitur:\")\n",
        "display(feature_stats.sort_values('Test Accuracy', ascending=False))\n",
        "\n",
        "# Group by Architecture\n",
        "arch_stats = results_df.groupby('Architecture')[['Test Accuracy']].mean()\n",
        "print(\"\\nBerdasarkan Arsitektur Model:\")\n",
        "display(arch_stats.sort_values('Test Accuracy', ascending=False))"
      ]
    },
    {
      "cell_type": "markdown",
      "metadata": {
        "id": "ELI-aIypx0Mr"
      },
      "source": [
        "Dari grafik ini, dapat diamati bahwa:\n",
        "\n",
        "Model-model yang menggunakan fitur TF-IDF secara konsisten menunjukkan akurasi pengujian tertinggi dibandingkan dengan model yang menggunakan fitur Word2Vec atau FastText. LSTM TF-IDF dan GRU TF-IDF tampak memiliki akurasi yang sangat tinggi dan serupa, diikuti oleh Dense TF-IDF.\n",
        "Model-model yang menggunakan fitur Word2Vec dan FastText cenderung memiliki akurasi pengujian yang lebih rendah dan relatif mirip satu sama lain, terlepas dari arsitektur model yang digunakan.\n",
        "Secara visual, tidak ada perbedaan yang signifikan dalam akurasi pengujian antara arsitektur model (Dense, LSTM, GRU) ketika menggunakan jenis feature extraction yang sama (terutama untuk Word2Vec dan FastText, di mana batang-batangnya terlihat memiliki akurasi yang serupa)."
      ]
    },
    {
      "cell_type": "markdown",
      "source": [
        "Performa model sangat dipengaruhi oleh jenis feature extraction yang digunakan. TF-IDF terbukti menjadi representasi fitur yang paling efektif untuk tugas analisis sentimen pada dataset ini, menghasilkan akurasi yang jauh lebih tinggi dibandingkan dengan Word2Vec dan FastText. Sementara itu, pilihan arsitektur model (Dense, LSTM, GRU) tampaknya memiliki dampak yang lebih kecil pada performa, meskipun LSTM dan GRU menunjukkan sedikit keunggulan rata-rata dibandingkan Dense. Kombinasi LSTM atau GRU dengan TF-IDF menghasilkan model dengan akurasi pengujian tertinggi. **Oleh karena itu, model yang paling optimal untuk dilakuakn inferensi adalah dengan menggunakan model LSTM dengan ekstraksi fitur TF-IDF.** Berikut adalah inferensinya"
      ],
      "metadata": {
        "id": "jVAu_cQGPKYA"
      }
    },
    {
      "cell_type": "code",
      "execution_count": 60,
      "metadata": {
        "id": "-oaeioLiw_QZ",
        "colab": {
          "base_uri": "https://localhost:8080/"
        },
        "outputId": "3ff0585a-9ec9-42a0-ed7b-9d01bd27bc41"
      },
      "outputs": [
        {
          "output_type": "stream",
          "name": "stdout",
          "text": [
            "Masukkan kalimat baru: aplikasi yang jelek, sangat berat, dan menyusahkan\n",
            "\u001b[1m1/1\u001b[0m \u001b[32m━━━━━━━━━━━━━━━━━━━━\u001b[0m\u001b[37m\u001b[0m \u001b[1m0s\u001b[0m 69ms/step\n",
            "Sentimen kalimat baru adalah NEGATIF.\n"
          ]
        }
      ],
      "source": [
        "# Input kalimat baru dari pengguna\n",
        "kalimat_baru = input(\"Masukkan kalimat baru: \")\n",
        "\n",
        "# Melakukan preprocessing pada kalimat baru\n",
        "kalimat_baru_cleaned = cleaningText(kalimat_baru)\n",
        "kalimat_baru_casefolded = casefoldingText(kalimat_baru_cleaned)\n",
        "kalimat_baru_slangfixed = fix_slangwords(kalimat_baru_casefolded)\n",
        "kalimat_baru_tokenized = tokenizingText(kalimat_baru_slangfixed)\n",
        "kalimat_baru_filtered = filteringText(kalimat_baru_tokenized)\n",
        "kalimat_baru_final = toSentence(kalimat_baru_filtered)\n",
        "\n",
        "# Menggunakan objek tfidf yang sudah di-fit dari pelatihan sebelumnya\n",
        "X_kalimat_baru = tfidf.transform([kalimat_baru_final])\n",
        "\n",
        "# Memperoleh prediksi sentimen kalimat baru\n",
        "prediksi_sentimen = lstm_tfidf.predict(X_kalimat_baru)\n",
        "prediksi_kelas = np.argmax(prediksi_sentimen, axis=1)[0]\n",
        "\n",
        "\n",
        "# Menampilkan hasil prediksi\n",
        "if prediksi_kelas == 0:\n",
        "    print(\"Sentimen kalimat baru adalah POSITIF.\")\n",
        "elif prediksi_kelas == 1:\n",
        "    print(\"Sentimen kalimat baru adalah NETRAL.\")\n",
        "elif prediksi_kelas == 2:\n",
        "    print(\"Sentimen kalimat baru adalah NEGATIF.\")"
      ]
    },
    {
      "cell_type": "markdown",
      "source": [
        "Kode ini akan melakukan prediksi sentimen yang tersirat pada kalimat yang dimasukkan melalui input keyboard. Kemudian kalimat baru yang dimasukkan ini dilakukan preprocessing, dilakukan feature extraction, dan dilakukan prediksi menggunakan model lstm_tfidf yang telah dilatih sebelumnya. Dihasilkan bahwa kalimat \"aplikasi yang jelek, sangat berat, dan menyusahkan\" akan diprediksi dan dihasilkan sentimen NEGATIF."
      ],
      "metadata": {
        "id": "Re1pRSDiPthk"
      }
    },
    {
      "cell_type": "markdown",
      "source": [
        "![.ssinferensi.png](data:image/png;base64,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)"
      ],
      "metadata": {
        "id": "yWv38KFgUDeU"
      }
    },
    {
      "cell_type": "code",
      "source": [
        "!pip freeze > requirements.txt"
      ],
      "metadata": {
        "id": "8LCqcpM-dFrN"
      },
      "execution_count": 62,
      "outputs": []
    }
  ],
  "metadata": {
    "colab": {
      "provenance": [],
      "gpuType": "T4"
    },
    "kernelspec": {
      "display_name": "Python 3",
      "name": "python3"
    },
    "language_info": {
      "name": "python"
    },
    "accelerator": "GPU"
  },
  "nbformat": 4,
  "nbformat_minor": 0
}