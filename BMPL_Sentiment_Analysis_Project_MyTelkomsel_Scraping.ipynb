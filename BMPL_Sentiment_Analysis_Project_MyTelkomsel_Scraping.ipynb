{
  "nbformat": 4,
  "nbformat_minor": 0,
  "metadata": {
    "colab": {
      "provenance": []
    },
    "kernelspec": {
      "name": "python3",
      "display_name": "Python 3"
    },
    "language_info": {
      "name": "python"
    }
  },
  "cells": [
    {
      "cell_type": "markdown",
      "source": [
        "# **Sentimen Analisis Ulasan Aplikasi MyTelkomsel**\n",
        "\n",
        "**Latar Belakang Masalah**\n",
        "\n",
        "Belakangan ini, sorotan terhadap performa dan usabilitas aplikasi MyTelkomsel meningkat signifikan di kalangan pengguna media sosial. Berbagai keluhan mengenai kinerja yang kurang optimal dan pengalaman pengguna (usabilitas) yang kurang memuaskan menjadi topik perbincangan yang meluas. Bahkan, muncul konten khusus yang dibuat oleh pengguna untuk mendiskusikan kekurangan-kekurangan yang ada pada aplikasi ini. Fenomena ini mengindikasikan adanya potensi isu yang perlu diinvestigasi lebih lanjut dari perspektif pengguna.\n",
        "\n",
        "**Tujuan Analisis Sentimen**\n",
        "\n",
        "Proyek analisis sentimen ini bertujuan untuk secara sistematis menganalisis opini publik yang terkandung dalam ulasan pengguna aplikasi MyTelkomsel di Google Play Store. Dengan menganalisis sentimen (positif, negatif, atau netral) dari setiap ulasan, kita dapat memperoleh pemahaman yang mendalam mengenai persepsi pengguna terhadap aplikasi, mengidentifikasi area-area spesifik yang menjadi sumber ketidakpuasan, serta mengukur tingkat sentimen secara keseluruhan. Analisis ini diharapkan dapat menjawab pertanyaan-pertanyaan mendasar terkait pengalaman pengguna yang tercermin dalam keluhan-keluhan yang beredar."
      ],
      "metadata": {
        "id": "6pmpH9obb0NE"
      }
    },
    {
      "cell_type": "markdown",
      "source": [
        "# **Import Library**"
      ],
      "metadata": {
        "id": "jZSDSMyeAFr0"
      }
    },
    {
      "cell_type": "code",
      "source": [
        "!pip install google-play-scraper"
      ],
      "metadata": {
        "colab": {
          "base_uri": "https://localhost:8080/"
        },
        "id": "pGFzMazlFcE6",
        "outputId": "0c93e9cc-cfb6-413e-d5e1-91ff1020a6e5"
      },
      "execution_count": 1,
      "outputs": [
        {
          "output_type": "stream",
          "name": "stdout",
          "text": [
            "Collecting google-play-scraper\n",
            "  Downloading google_play_scraper-1.2.7-py3-none-any.whl.metadata (50 kB)\n",
            "\u001b[?25l     \u001b[90m━━━━━━━━━━━━━━━━━━━━━━━━━━━━━━━━━━━━━━━━\u001b[0m \u001b[32m0.0/50.2 kB\u001b[0m \u001b[31m?\u001b[0m eta \u001b[36m-:--:--\u001b[0m\r\u001b[2K     \u001b[90m━━━━━━━━━━━━━━━━━━━━━━━━━━━━━━━━━━━━━━━━\u001b[0m \u001b[32m50.2/50.2 kB\u001b[0m \u001b[31m1.9 MB/s\u001b[0m eta \u001b[36m0:00:00\u001b[0m\n",
            "\u001b[?25hDownloading google_play_scraper-1.2.7-py3-none-any.whl (28 kB)\n",
            "Installing collected packages: google-play-scraper\n",
            "Successfully installed google-play-scraper-1.2.7\n"
          ]
        }
      ]
    },
    {
      "cell_type": "code",
      "source": [
        "from google_play_scraper import app, reviews, Sort, reviews_all\n",
        "import pandas as pd"
      ],
      "metadata": {
        "id": "GiYherKbOuQw"
      },
      "execution_count": 2,
      "outputs": []
    },
    {
      "cell_type": "markdown",
      "source": [
        "Eksekusi perintah tersebut akan secara otomatis mengunduh dan menginstal pustaka google_play_scraper, termasuk semua software lain yang dibutuhkannya agar dapat berfungsi dengan baik. Setelah instalasi berhasil, Anda dapat langsung mengimpor library ini ke dalam notebook Anda dan menggunakannya untuk mengambil informasi dari Google Play Store, yang menjadi langkah awal dalam analisis sentimen."
      ],
      "metadata": {
        "id": "dEZsQeWkB9XT"
      }
    },
    {
      "cell_type": "markdown",
      "source": [
        "# Scrapping Ulasan"
      ],
      "metadata": {
        "id": "FBMV4WK8cVA3"
      }
    },
    {
      "cell_type": "code",
      "source": [
        "scrapreview = reviews_all(\n",
        "    'com.telkomsel.telkomselcm',          # ID aplikasi MyTelkomsel di Google Play Store\n",
        "    lang='id',                            # Bahasa ulasan\n",
        "    country='id',                         # Negara\n",
        "    sort=Sort.MOST_RELEVANT,              # Pengurutan ulasan\n",
        "    count=100                             # Jumlah maksimum ulasan yang ingin diekstrak\n",
        ")"
      ],
      "metadata": {
        "id": "GTy8liYBQD3p"
      },
      "execution_count": 3,
      "outputs": []
    },
    {
      "cell_type": "markdown",
      "source": [
        "Scrapping menggunakan `reviews_all` dari `google_play_scraper` untuk mengambil semua ulasan aplikasi MyTelkomsel (ID: `com.telkomsel.telkomselcm`) berbahasa Indonesia dari Indonesia, diurutkan berdasarkan relevansi."
      ],
      "metadata": {
        "id": "YQTM2KRRAi73"
      }
    },
    {
      "cell_type": "markdown",
      "source": [
        "# Memuat hasil scrapping ke dalam file csv"
      ],
      "metadata": {
        "id": "K1SBniBh_c7V"
      }
    },
    {
      "cell_type": "code",
      "source": [
        "scrapped_reviews = pd.DataFrame(scrapreview)\n",
        "scrapped_reviews.to_csv('review_mytelkomsel.csv', index=False)"
      ],
      "metadata": {
        "id": "mVj9KfTyAN6s"
      },
      "execution_count": 4,
      "outputs": []
    },
    {
      "cell_type": "markdown",
      "source": [
        "Menyimpan ulasan yang terkumpul ke dalam file `review_mytelkomsel.csv`. Setiap ulasan akan berada di barisnya sendiri dalam kolom 'Review'."
      ],
      "metadata": {
        "id": "F2K8l1NIAV4K"
      }
    },
    {
      "cell_type": "code",
      "source": [
        " !pip freeze > requirements_scrapping.txt"
      ],
      "metadata": {
        "id": "wr-Yz4xMA3Fg"
      },
      "execution_count": 8,
      "outputs": []
    }
  ]
}